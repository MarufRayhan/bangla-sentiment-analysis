{
  "nbformat": 4,
  "nbformat_minor": 0,
  "metadata": {
    "colab": {
      "provenance": [],
      "include_colab_link": true
    },
    "kernelspec": {
      "name": "python3",
      "display_name": "Python 3"
    },
    "accelerator": "GPU"
  },
  "cells": [
    {
      "cell_type": "markdown",
      "metadata": {
        "id": "view-in-github",
        "colab_type": "text"
      },
      "source": [
        "<a href=\"https://colab.research.google.com/github/MarufRayhan/bangla-sentiment-analysis/blob/main/bangla_emotion_bert.ipynb\" target=\"_parent\"><img src=\"https://colab.research.google.com/assets/colab-badge.svg\" alt=\"Open In Colab\"/></a>"
      ]
    },
    {
      "cell_type": "code",
      "metadata": {
        "id": "oa2d0InGynce"
      },
      "source": [
        "import pandas as pd\n",
        "import matplotlib.pyplot as plt\n",
        "import seaborn as sns\n",
        "from keras.preprocessing import text, sequence\n",
        "from sklearn.preprocessing import LabelEncoder\n",
        "import numpy as np\n",
        "from sklearn.utils import shuffle"
      ],
      "execution_count": null,
      "outputs": []
    },
    {
      "cell_type": "code",
      "metadata": {
        "id": "3MhjmwOn0bOu"
      },
      "source": [
        "from google.colab import drive\n",
        "drive.mount('/content/drive')"
      ],
      "execution_count": null,
      "outputs": []
    },
    {
      "cell_type": "code",
      "metadata": {
        "id": "SR0WI1KOzO86"
      },
      "source": [
        "dataset = pd.read_csv(\"/content/drive/My Drive/Bangla_NLP/finalpuredataset.csv\")\n",
        "# dataset = pd.read_csv(\"finalbangladataset.csv\")"
      ],
      "execution_count": null,
      "outputs": []
    },
    {
      "cell_type": "code",
      "metadata": {
        "id": "Aj-bXp6lzN8i"
      },
      "source": [
        "dataset.head()"
      ],
      "execution_count": null,
      "outputs": []
    },
    {
      "cell_type": "code",
      "metadata": {
        "id": "oq7Y0pqtC6l9"
      },
      "source": [
        "dataset = shuffle(dataset)"
      ],
      "execution_count": null,
      "outputs": []
    },
    {
      "cell_type": "code",
      "metadata": {
        "id": "oYMHE4j63Ysv"
      },
      "source": [
        "train_size = int(len(dataset) * 0.8)"
      ],
      "execution_count": null,
      "outputs": []
    },
    {
      "cell_type": "code",
      "metadata": {
        "id": "8LLLJsD93wN8"
      },
      "source": [
        "train_text = dataset['Text'][:train_size]\n",
        "train_label = dataset['Label'][:train_size]\n",
        "test_text = dataset['Text'][train_size:]\n",
        "test_label = dataset['Label'][train_size:]"
      ],
      "execution_count": null,
      "outputs": []
    },
    {
      "cell_type": "code",
      "metadata": {
        "id": "MSBubSW343ux"
      },
      "source": [
        "token = text.Tokenizer(num_words=15000,char_level=False)\n",
        "token.fit_on_texts(train_text)\n",
        "X_train = token.texts_to_matrix(train_text)"
      ],
      "execution_count": null,
      "outputs": []
    },
    {
      "cell_type": "code",
      "metadata": {
        "id": "8KMveuzJ5uzS"
      },
      "source": [
        "# token = text.Tokenizer(num_words=15000,char_level=False)\n",
        "# token.fit_on_texts(train_label)\n",
        "# train_label_matrix = token.texts_to_matrix(train_label)"
      ],
      "execution_count": null,
      "outputs": []
    },
    {
      "cell_type": "code",
      "metadata": {
        "id": "h6QQOpcI6V-O"
      },
      "source": [
        "token = text.Tokenizer(num_words=15000,char_level=False)\n",
        "token.fit_on_texts(test_text)\n",
        "X_test = token.texts_to_matrix(test_text)"
      ],
      "execution_count": null,
      "outputs": []
    },
    {
      "cell_type": "code",
      "metadata": {
        "id": "0RgGgr0v6YCr"
      },
      "source": [
        "# token = text.Tokenizer(num_words=15000,char_level=False)\n",
        "# token.fit_on_texts(test_label)\n",
        "# test_label_matrix = token.texts_to_matrix(test_label)"
      ],
      "execution_count": null,
      "outputs": []
    },
    {
      "cell_type": "code",
      "metadata": {
        "id": "ccTQpAhwAbkh"
      },
      "source": [
        "print(X_train.shape)\n",
        "print(X_test.shape)"
      ],
      "execution_count": null,
      "outputs": []
    },
    {
      "cell_type": "code",
      "metadata": {
        "id": "w5myk9LeBaUl"
      },
      "source": [
        "encoder = LabelEncoder()\n",
        "Y_train = encoder.fit_transform(train_label)\n",
        "Y_test = encoder.fit_transform(test_label)"
      ],
      "execution_count": null,
      "outputs": []
    },
    {
      "cell_type": "code",
      "metadata": {
        "id": "eLuuxmh8CRhy"
      },
      "source": [
        "num_classes = np.max(Y_train) + 1"
      ],
      "execution_count": null,
      "outputs": []
    },
    {
      "cell_type": "code",
      "metadata": {
        "id": "RIiUbmwwCjp0"
      },
      "source": [
        "print(num_classes)"
      ],
      "execution_count": null,
      "outputs": []
    },
    {
      "cell_type": "code",
      "metadata": {
        "id": "CFzHQ1yLCqls"
      },
      "source": [
        "print(Y_test)\n",
        "print(Y_test.shape)\n",
        "print(Y_train)\n",
        "print(Y_train.shape)"
      ],
      "execution_count": null,
      "outputs": []
    },
    {
      "cell_type": "code",
      "metadata": {
        "id": "9CrqfIOcDvLJ"
      },
      "source": [
        "from keras import regularizers\n",
        "from tensorflow import keras\n",
        "from keras.models import Sequential\n",
        "from keras.layers import Activation, Dense\n",
        "\n",
        "model = Sequential()\n",
        "model.add(Dense(512, input_shape=(15000,), activation='relu'))\n",
        "model.add(Dense(256, activation='relu'))\n",
        "# model.add(Dense(128, activation='relu'))\n",
        "model.add(Dense(num_classes))\n",
        "model.add(Activation('softmax'))\n",
        "opt = keras.optimizers.Adam(learning_rate=0.0001)\n",
        "model.compile(loss='binary_crossentropy',\n",
        "              optimizer=opt,\n",
        "              metrics=['accuracy'])"
      ],
      "execution_count": null,
      "outputs": []
    },
    {
      "cell_type": "code",
      "metadata": {
        "id": "1IkJV2XiD0MD"
      },
      "source": [
        "history = model.fit(X_train,Y_train, batch_size=2, validation_split=0.33,epochs=50)"
      ],
      "execution_count": null,
      "outputs": []
    },
    {
      "cell_type": "code",
      "metadata": {
        "id": "2XT5o1ijEJs7"
      },
      "source": [
        "score = model.evaluate(X_test, Y_test,\n",
        "                       batch_size=2, verbose=1)\n",
        "print('Test accuracy:', score)"
      ],
      "execution_count": null,
      "outputs": []
    },
    {
      "cell_type": "markdown",
      "metadata": {
        "id": "jewoIcO0LoUg"
      },
      "source": [
        "Using **BERT**"
      ]
    },
    {
      "cell_type": "code",
      "metadata": {
        "id": "vqSC-AivLwbG"
      },
      "source": [
        "\n",
        "!pip install transformers"
      ],
      "execution_count": null,
      "outputs": []
    },
    {
      "cell_type": "code",
      "metadata": {
        "id": "6ljuCwuiLH8y"
      },
      "source": [
        "import torch\n",
        "from torch.utils.data import TensorDataset, DataLoader, RandomSampler, SequentialSampler\n",
        "import torch.nn.functional as F\n",
        "from transformers import BertTokenizer, BertConfig,AdamW, BertForSequenceClassification,get_linear_schedule_with_warmup\n",
        "\n",
        "\n",
        "import pandas as pd\n",
        "import numpy as np\n",
        "import seaborn as sns\n",
        "import matplotlib.pyplot as plt\n",
        "\n",
        "from sklearn.model_selection import train_test_split\n",
        "from sklearn.metrics import confusion_matrix,classification_report\n",
        "# Import and evaluate each test batch using Matthew's correlation coefficient\n",
        "from sklearn.metrics import accuracy_score,matthews_corrcoef\n",
        "\n",
        "from tqdm import tqdm, trange,tnrange,tqdm_notebook\n",
        "import random\n",
        "import os\n",
        "import io\n",
        "% matplotlib inline"
      ],
      "execution_count": null,
      "outputs": []
    },
    {
      "cell_type": "code",
      "metadata": {
        "id": "g8PVG2u7XNzA"
      },
      "source": [
        "# identify and specify the GPU as the device, later in training loop we will load data into device\n",
        "device = torch.device(\"cuda\" if torch.cuda.is_available() else \"cpu\")\n",
        "n_gpu = torch.cuda.device_count()\n",
        "torch.cuda.get_device_name(0)\n",
        "\n",
        "SEED = 19\n",
        "\n",
        "random.seed(SEED)\n",
        "np.random.seed(SEED)\n",
        "torch.manual_seed(SEED)\n",
        "if device == torch.device(\"cuda\"):\n",
        "    torch.cuda.manual_seed_all(SEED)"
      ],
      "execution_count": null,
      "outputs": []
    },
    {
      "cell_type": "code",
      "metadata": {
        "id": "VMeFfoG6XQRB"
      },
      "source": [
        "device = torch.device(\"cuda\")"
      ],
      "execution_count": null,
      "outputs": []
    },
    {
      "cell_type": "code",
      "metadata": {
        "id": "VyUcoH5pXT9p"
      },
      "source": [
        "print(device)"
      ],
      "execution_count": null,
      "outputs": []
    },
    {
      "cell_type": "code",
      "metadata": {
        "id": "Tiw9gRdHEVd2"
      },
      "source": [
        "dataset['Label'].unique()"
      ],
      "execution_count": null,
      "outputs": []
    },
    {
      "cell_type": "code",
      "metadata": {
        "id": "_zNEt-gcJco0"
      },
      "source": [
        "# from sklearn.preprocessing import LabelEncoder\n",
        "# labelencoder = LabelEncoder()\n",
        "# dataset['label_enc'] = labelencoder.fit_transform(dataset['Label'])"
      ],
      "execution_count": null,
      "outputs": []
    },
    {
      "cell_type": "markdown",
      "metadata": {
        "id": "tc-s5716LYZH"
      },
      "source": []
    },
    {
      "cell_type": "code",
      "metadata": {
        "id": "ZfSgWNm0JmKF"
      },
      "source": [
        "# print(dataset['label_enc'])"
      ],
      "execution_count": null,
      "outputs": []
    },
    {
      "cell_type": "code",
      "metadata": {
        "id": "zvCAkEFXJxWp"
      },
      "source": [
        "# dataset[['Label','label_enc']].drop_duplicates(keep='first')\n",
        "# dataset.rename(columns={'Label':'label_desc'},inplace=True)\n",
        "# dataset.rename(columns={'label_enc':'Label'},inplace=True)"
      ],
      "execution_count": null,
      "outputs": []
    },
    {
      "cell_type": "code",
      "metadata": {
        "id": "_piIDSuUJ7-O"
      },
      "source": [
        "dataset"
      ],
      "execution_count": null,
      "outputs": []
    },
    {
      "cell_type": "code",
      "metadata": {
        "id": "oANmOfOcJ9W2"
      },
      "source": [
        "## create label and sentence list\n",
        "sentences = dataset.Text.values"
      ],
      "execution_count": null,
      "outputs": []
    },
    {
      "cell_type": "code",
      "metadata": {
        "id": "nywL3_whKO8T"
      },
      "source": [
        "print(sentences)"
      ],
      "execution_count": null,
      "outputs": []
    },
    {
      "cell_type": "code",
      "metadata": {
        "id": "wOFvtsHDKQxK"
      },
      "source": [
        "#check distribution of data based on labels\n",
        "print(\"Distribution of data based on labels: \",dataset.Label.value_counts())"
      ],
      "execution_count": null,
      "outputs": []
    },
    {
      "cell_type": "code",
      "metadata": {
        "id": "3FhUQMYcKZLl"
      },
      "source": [
        "MAX_LEN = 512"
      ],
      "execution_count": null,
      "outputs": []
    },
    {
      "cell_type": "code",
      "metadata": {
        "id": "FX4Rt9fLK4E_"
      },
      "source": [
        "## Import BERT tokenizer, that is used to convert our text into tokens that corresponds to BERT library\n",
        "tokenizer = BertTokenizer.from_pretrained('bert-base-uncased',do_lower_case=False)\n",
        "# input_ids = [tokenizer.encode(sent, add_special_tokens=True,max_length=MAX_LEN,pad_to_max_length=True) for sent in sentences]"
      ],
      "execution_count": null,
      "outputs": []
    },
    {
      "cell_type": "code",
      "metadata": {
        "id": "6n4AgCVOMB6Z"
      },
      "source": [
        "print(tokenizer)"
      ],
      "execution_count": null,
      "outputs": []
    },
    {
      "cell_type": "code",
      "metadata": {
        "id": "eteawwjPPYNi"
      },
      "source": [
        "input_ids = [tokenizer.encode(sent, add_special_tokens=True,truncation=True,pad_to_max_length=True, max_length=100) for sent in sentences]"
      ],
      "execution_count": null,
      "outputs": []
    },
    {
      "cell_type": "code",
      "metadata": {
        "id": "mOGi-rLrPb3A"
      },
      "source": [
        "print(input_ids)"
      ],
      "execution_count": null,
      "outputs": []
    },
    {
      "cell_type": "code",
      "metadata": {
        "id": "1U1RcvdXQErO"
      },
      "source": [
        "labels = dataset.Label.values"
      ],
      "execution_count": null,
      "outputs": []
    },
    {
      "cell_type": "code",
      "metadata": {
        "id": "-AJ3EwiAQpeo"
      },
      "source": [
        "print(labels)"
      ],
      "execution_count": null,
      "outputs": []
    },
    {
      "cell_type": "code",
      "metadata": {
        "id": "q-bF33ygQ0Ju"
      },
      "source": [
        "print(\"Actual sentence before tokenization: \",sentences[2])\n",
        "print(\"Encoded Input from dataset: \",input_ids[2])"
      ],
      "execution_count": null,
      "outputs": []
    },
    {
      "cell_type": "code",
      "metadata": {
        "id": "zBvFB5dRQ37Z"
      },
      "source": [
        "## Create attention mask\n",
        "attention_masks = []\n",
        "## Create a mask of 1 for all input tokens and 0 for all padding tokens\n",
        "attention_masks = [[float(i>0) for i in seq] for seq in input_ids]\n",
        "print(attention_masks[2])"
      ],
      "execution_count": null,
      "outputs": []
    },
    {
      "cell_type": "code",
      "metadata": {
        "id": "bKXiStXjQ9yF"
      },
      "source": [
        "\n",
        "train_inputs,validation_inputs,train_labels,validation_labels = train_test_split(input_ids,labels,random_state=41,test_size=0.1)\n",
        "train_masks,validation_masks,_,_ = train_test_split(attention_masks,input_ids,random_state=41,test_size=0.1)"
      ],
      "execution_count": null,
      "outputs": []
    },
    {
      "cell_type": "code",
      "metadata": {
        "id": "AmU6e4VoRUXj"
      },
      "source": [
        "print(train_inputs)\n",
        "print(len(train_inputs))"
      ],
      "execution_count": null,
      "outputs": []
    },
    {
      "cell_type": "code",
      "metadata": {
        "id": "H268NVQkREQv"
      },
      "source": [
        "# convert all our data into torch tensors, required data type for our model\n",
        "train_inputs = torch.tensor(train_inputs)\n",
        "validation_inputs = torch.tensor(validation_inputs)\n",
        "train_labels = torch.tensor(train_labels)\n",
        "validation_labels = torch.tensor(validation_labels)\n",
        "train_masks = torch.tensor(train_masks)\n",
        "validation_masks = torch.tensor(validation_masks)"
      ],
      "execution_count": null,
      "outputs": []
    },
    {
      "cell_type": "code",
      "metadata": {
        "id": "ilZZKSXBUyob"
      },
      "source": [
        "print(len(train_labels))\n",
        "print(len(train_inputs))\n",
        "print(len(train_masks))"
      ],
      "execution_count": null,
      "outputs": []
    },
    {
      "cell_type": "code",
      "metadata": {
        "id": "JwsSBID_RIuy"
      },
      "source": [
        "# Select a batch size for training. For fine-tuning BERT on a specific task, the authors recommend a batch size of 16 or 32\n",
        "batch_size = 32\n",
        "\n",
        "# Create an iterator of our data with torch DataLoader. This helps save on memory during training because, unlike a for loop,\n",
        "# with an iterator the entire dataset does not need to be loaded into memory\n",
        "train_data = TensorDataset(train_inputs,train_masks,train_labels)\n",
        "train_sampler = RandomSampler(train_data)\n",
        "train_dataloader = DataLoader(train_data,sampler=train_sampler,batch_size=batch_size)\n",
        "\n",
        "validation_data = TensorDataset(validation_inputs,validation_masks,validation_labels)\n",
        "validation_sampler = RandomSampler(validation_data)\n",
        "validation_dataloader = DataLoader(validation_data,sampler=validation_sampler,batch_size=batch_size)"
      ],
      "execution_count": null,
      "outputs": []
    },
    {
      "cell_type": "code",
      "metadata": {
        "id": "h4mbbDvTTr7o"
      },
      "source": [
        "train_data[0]"
      ],
      "execution_count": null,
      "outputs": []
    },
    {
      "cell_type": "code",
      "metadata": {
        "id": "Pq_s6nnEVpha"
      },
      "source": [
        "print(len(train_dataloader))"
      ],
      "execution_count": null,
      "outputs": []
    },
    {
      "cell_type": "code",
      "metadata": {
        "id": "orSKBpISSdgH"
      },
      "source": [
        "# Load BertForSequenceClassification, the pretrained BERT model with a single linear classification layer on top.\n",
        "model = BertForSequenceClassification.from_pretrained(\"bert-base-uncased\", num_labels=7)\n",
        "\n",
        "# Parameters:\n",
        "lr = 2e-5\n",
        "adam_epsilon = 1e-8\n",
        "\n",
        "# Number of training epochs (authors recommend between 2 and 4)\n",
        "epochs = 2\n",
        "\n",
        "num_warmup_steps = 0\n",
        "# num_training_steps = len(train_dataloader)*epochs\n",
        "num_training_steps = 5*epochs\n",
        "\n",
        "### In Transformers, optimizer and schedules are splitted and instantiated like this:\n",
        "optimizer = AdamW(model.parameters(), lr=lr,eps=adam_epsilon,correct_bias=False)  # To reproduce BertAdam specific behavior set correct_bias=False\n",
        "scheduler = get_linear_schedule_with_warmup(optimizer, num_warmup_steps=num_warmup_steps, num_training_steps=num_training_steps)  # PyTorch scheduler"
      ],
      "execution_count": null,
      "outputs": []
    },
    {
      "cell_type": "code",
      "metadata": {
        "id": "QbrwnlOvYmem"
      },
      "source": [
        "# print((b_labels))"
      ],
      "execution_count": null,
      "outputs": []
    },
    {
      "cell_type": "code",
      "metadata": {
        "id": "TxuRzFryWzUQ"
      },
      "source": [
        "## Store our loss and accuracy for plotting\n",
        "train_loss_set = []\n",
        "learning_rate = []\n",
        "\n",
        "# Gradients gets accumulated by default\n",
        "model.zero_grad()\n",
        "\n",
        "# tnrange is a tqdm wrapper around the normal python range\n",
        "for _ in tnrange(1,epochs+1,desc='Epoch'):\n",
        "  print(\"<\" + \"=\"*22 + F\" Epoch {_} \"+ \"=\"*22 + \">\")\n",
        "  # Calculate total loss for this epoch\n",
        "  batch_loss = 0\n",
        "\n",
        "  for step, batch in enumerate(train_dataloader):\n",
        "    # Set our model to training mode (as opposed to evaluation mode)\n",
        "    model.train()\n",
        "    print( step)\n",
        "    # Add batch to GPU\n",
        "    # batch = tuple(t.to(device) for t in batch)\n",
        "    # Unpack the inputs from our dataloader\n",
        "    b_input_ids, b_input_mask, b_labels = batch\n",
        "\n",
        "    # Forward pass\n",
        "    outputs = model(b_input_ids, token_type_ids=None, attention_mask=b_input_mask, labels=b_labels)\n",
        "    loss = outputs[0]\n",
        "\n",
        "    # Backward pass\n",
        "    loss.backward()\n",
        "\n",
        "    # Clip the norm of the gradients to 1.0\n",
        "    # Gradient clipping is not in AdamW anymore\n",
        "    torch.nn.utils.clip_grad_norm_(model.parameters(), 1.0)\n",
        "\n",
        "    # Update parameters and take a step using the computed gradient\n",
        "    optimizer.step()\n",
        "\n",
        "    # Update learning rate schedule\n",
        "    scheduler.step()\n",
        "\n",
        "    # Clear the previous accumulated gradients\n",
        "    optimizer.zero_grad()\n",
        "\n",
        "    # Update tracking variables\n",
        "    batch_loss += loss.item()\n",
        "\n",
        "  # Calculate the average loss over the training data.\n",
        "  avg_train_loss = batch_loss / len(train_dataloader)\n",
        "\n",
        "  #store the current learning rate\n",
        "  for param_group in optimizer.param_groups:\n",
        "    print(\"\\n\\tCurrent Learning rate: \",param_group['lr'])\n",
        "    learning_rate.append(param_group['lr'])\n",
        "\n",
        "  train_loss_set.append(avg_train_loss)\n",
        "  print(F'\\n\\tAverage Training loss: {avg_train_loss}')\n",
        "\n",
        "  # Validation\n",
        "\n",
        "  # Put model in evaluation mode to evaluate loss on the validation set\n",
        "  model.eval()\n",
        "\n",
        "  # Tracking variables\n",
        "  eval_accuracy,eval_mcc_accuracy,nb_eval_steps = 0, 0, 0\n",
        "\n",
        "  # Evaluate data for one epoch\n",
        "  for batch in validation_dataloader:\n",
        "    # Add batch to GPU\n",
        "    batch = tuple(t.to(device) for t in batch)\n",
        "    # Unpack the inputs from our dataloader\n",
        "    b_input_ids, b_input_mask, b_labels = batch\n",
        "    # Telling the model not to compute or store gradients, saving memory and speeding up validation\n",
        "    with torch.no_grad():\n",
        "      # Forward pass, calculate logit predictions\n",
        "      logits = model(b_input_ids, token_type_ids=None, attention_mask=b_input_mask)\n",
        "\n",
        "    # Move logits and labels to CPU\n",
        "    logits = logits[0].to('cpu').numpy()\n",
        "    label_ids = b_labels.to('cpu').numpy()\n",
        "\n",
        "    pred_flat = np.argmax(logits, axis=1).flatten()\n",
        "    labels_flat = label_ids.flatten()\n",
        "\n",
        "    df_metrics=pd.DataFrame({'Epoch':epochs,'Actual_class':labels_flat,'Predicted_class':pred_flat})\n",
        "\n",
        "    tmp_eval_accuracy = accuracy_score(labels_flat,pred_flat)\n",
        "    tmp_eval_mcc_accuracy = matthews_corrcoef(labels_flat, pred_flat)\n",
        "\n",
        "    eval_accuracy += tmp_eval_accuracy\n",
        "    eval_mcc_accuracy += tmp_eval_mcc_accuracy\n",
        "    nb_eval_steps += 1\n",
        "    print(\"eval : \", tmp_eval_accuracy)\n",
        "\n",
        "  print(F'\\n\\tValidation Accuracy: {eval_accuracy/nb_eval_steps}')\n",
        "  print(F'\\n\\tValidation MCC Accuracy: {eval_mcc_accuracy/nb_eval_steps}')"
      ],
      "execution_count": null,
      "outputs": []
    },
    {
      "cell_type": "code",
      "metadata": {
        "id": "_DGN6VP1XDxF"
      },
      "source": [
        "!nvidia-smi"
      ],
      "execution_count": null,
      "outputs": []
    },
    {
      "cell_type": "code",
      "metadata": {
        "id": "dFxi-lawkrbO"
      },
      "source": [
        "import torch\n",
        "torch.cuda.is_available()"
      ],
      "execution_count": null,
      "outputs": []
    },
    {
      "cell_type": "code",
      "metadata": {
        "id": "f3gviTY_kxgt"
      },
      "source": [
        "import tensorflow as tf\n",
        "tf.test.gpu_device_name()"
      ],
      "execution_count": null,
      "outputs": []
    },
    {
      "cell_type": "code",
      "metadata": {
        "id": "Vf4SN5nyk1hb"
      },
      "source": [],
      "execution_count": null,
      "outputs": []
    },
    {
      "cell_type": "markdown",
      "metadata": {
        "id": "jJiQWcLzHzEd"
      },
      "source": [
        "***USING GRU***"
      ]
    },
    {
      "cell_type": "code",
      "metadata": {
        "id": "FUk-zxN6H23h"
      },
      "source": [
        "\n",
        "from google.colab import drive\n",
        "drive.mount('/content/drive')"
      ],
      "execution_count": null,
      "outputs": []
    },
    {
      "cell_type": "code",
      "metadata": {
        "id": "QbUGx_uvH5eE"
      },
      "source": [
        "import numpy as np\n",
        "import matplotlib.pyplot as plt\n",
        "%matplotlib inline\n",
        "import pandas as pd\n",
        "import seaborn as sns\n",
        "import re,nltk,json\n",
        "import tensorflow as tf\n",
        "from tensorflow import keras\n",
        "from tensorflow.keras import regularizers\n",
        "from tensorflow.keras.preprocessing.sequence import pad_sequences\n",
        "# from keras import models\n",
        "# from keras import layers\n",
        "from tensorflow.keras.layers import LSTM,GRU\n",
        "from tensorflow.keras.models import load_model\n",
        "from sklearn.metrics import confusion_matrix\n",
        "from sklearn.metrics import classification_report\n",
        "from sklearn.model_selection import train_test_split\n",
        "from sklearn.metrics import accuracy_score,precision_score,recall_score,f1_score,roc_auc_score\n",
        "from sklearn.metrics import average_precision_score,roc_auc_score, roc_curve, precision_recall_curve\n",
        "from sklearn.preprocessing import LabelEncoder\n",
        "from tensorflow.keras.preprocessing.text import Tokenizer\n",
        "np.random.seed(42)\n",
        "class color: # Text style\n",
        "   PURPLE = '\\033[95m'\n",
        "   CYAN = '\\033[96m'\n",
        "   DARKCYAN = '\\033[36m'\n",
        "   BLUE = '\\033[94m'\n",
        "   GREEN = '\\033[92m'\n",
        "   YELLOW = '\\033[93m'\n",
        "   RED = '\\033[91m'\n",
        "   BOLD = '\\033[1m'\n",
        "   UNDERLINE = '\\033[4m'\n",
        "   END = '\\033[0m'\n",
        "# dataset path\n",
        "path = '/content/drive/My Drive/Bangla_NLP/'"
      ],
      "execution_count": null,
      "outputs": []
    },
    {
      "cell_type": "code",
      "metadata": {
        "id": "wFswGAFHBJNP"
      },
      "source": [
        "# txt_file = open(path+\"train.txt\",\"r\")\n",
        "# data = pd.read_csv(path+'finalpuredataset.csv',encoding='utf-8')\n",
        "# f = txt_file.readlines()\n",
        "# print(f)\n",
        "# import csv\n",
        "# with open(path+'finalpuredataset_29_8.csv', 'w', newline='') as file:\n",
        "#   writer = csv.writer(file)\n",
        "#   writer.writerow([\"Text\", \"Label\"])\n",
        "#   for line in f:\n",
        "#     splitted_data = line.split(' ',1)\n",
        "#     if(splitted_data[0] == \"surprise\"):\n",
        "#       print(splitted_data)\n",
        "#       writer.writerow([splitted_data[1], 6])\n",
        "\n",
        "#   for ind in data.index:\n",
        "#     #  print(data['Text'][ind], data['Label'][ind])\n",
        "#      writer.writerow([data['Text'][ind], data['Label'][ind]])\n"
      ],
      "execution_count": null,
      "outputs": []
    },
    {
      "cell_type": "code",
      "metadata": {
        "id": "bKxliqMLIYL1"
      },
      "source": [
        "data = pd.read_csv(path+'finalpuredataset.csv',encoding='utf-8')\n",
        "# data = pd.read_csv('finalbangladataset.csv',encoding='utf-8')\n",
        "data = data.sample(frac=1)\n",
        "# data = data.drop(data[data.Label == 5].index)\n",
        "print(f'Total number of Emotion: {len(data)}')\n",
        "sns.set(font_scale=1.4)\n",
        "data['Label'].value_counts().plot(kind='barh', figsize=(6, 4))\n",
        "plt.xlabel(\"Number of Sentence\", labelpad=12)\n",
        "plt.ylabel(\"Label\", labelpad=12)\n",
        "plt.yticks(rotation = 45)\n",
        "plt.title(\"Dataset Distribution\", y=1.02);"
      ],
      "execution_count": null,
      "outputs": []
    },
    {
      "cell_type": "code",
      "metadata": {
        "id": "yz1z8p3eIyAj"
      },
      "source": [
        "\n",
        "data.columns"
      ],
      "execution_count": null,
      "outputs": []
    },
    {
      "cell_type": "code",
      "metadata": {
        "id": "YzgxOcZCI20-"
      },
      "source": [
        "\n",
        "# Cleaning Data [Remove unncessary symbols]\n",
        "def cleaning_data(row):\n",
        "      headlines = re.sub('[^\\u0980-\\u09FF]',' ',str(row)) #removing unnecessary punctuation\n",
        "      return headlines\n",
        "# Apply the function into the dataframe\n",
        "data['cleaned'] = data['Text'].apply(cleaning_data)\n",
        "\n",
        "# print some cleaned reviews from the dataset\n",
        "sample_data = [200,500,1000,1500,3000,3500]\n",
        "for i in sample_data:\n",
        "  print('Original: ',data.Text[i],'\\nCleaned:',\n",
        "           data.cleaned[i],'\\n','Lebel:-- ',data.Label[i],'\\n')"
      ],
      "execution_count": null,
      "outputs": []
    },
    {
      "cell_type": "code",
      "metadata": {
        "id": "cvmDKqaRJEMR"
      },
      "source": [
        "# Length of each headlines\n",
        "data['length'] = data['cleaned'].apply(lambda x:len(x.split()))\n",
        "# Remove the headlines with least words\n",
        "dataset = data.loc[data.length>2]\n",
        "dataset = dataset.reset_index(drop = True)\n",
        "print(\"After Cleaning:\",\"\\nRemoved {} Small Emotion Data\".format(len(data)-len(dataset)),\n",
        "      \"\\nTotal Emotion Data:\",len(dataset))"
      ],
      "execution_count": null,
      "outputs": []
    },
    {
      "cell_type": "code",
      "metadata": {
        "id": "-SC3dLHJKTYD"
      },
      "source": [
        "def data_summary(dataset):\n",
        "\n",
        "    \"\"\"\n",
        "    This function will print the summary of the headlines and words distribution in the dataset.\n",
        "\n",
        "    Args:\n",
        "        dataset: list of cleaned sentences\n",
        "\n",
        "    Returns:\n",
        "        Number of documnets per class: int\n",
        "        Number of words per class: int\n",
        "        Number of unique words per class: int\n",
        "    \"\"\"\n",
        "    documents = []\n",
        "    words = []\n",
        "    u_words = []\n",
        "    total_u_words = [word.strip().lower() for t in list(dataset.cleaned) for word in t.strip().split()]\n",
        "    class_label= [k for k,v in dataset.Label.value_counts().to_dict().items()]\n",
        "  # find word list\n",
        "    for label in class_label:\n",
        "        word_list = [word.strip().lower() for t in list(dataset[dataset.Label==label].cleaned) for word in t.strip().split()]\n",
        "        counts = dict()\n",
        "        for word in word_list:\n",
        "                counts[word] = counts.get(word, 0)+1\n",
        "        # sort the dictionary of word list\n",
        "        ordered = sorted(counts.items(), key= lambda item: item[1],reverse = True)\n",
        "        # Documents per class\n",
        "        documents.append(len(list(dataset[dataset.Label==label].cleaned)))\n",
        "        # Total Word per class\n",
        "        words.append(len(word_list))\n",
        "        # Unique words per class\n",
        "        u_words.append(len(np.unique(word_list)))\n",
        "\n",
        "        print(\"\\nClass Name : \",label)\n",
        "        print(\"Number of Documents:{}\".format(len(list(dataset[dataset.Label==label].cleaned))))\n",
        "        print(\"Number of Words:{}\".format(len(word_list)))\n",
        "        print(\"Number of Unique Words:{}\".format(len(np.unique(word_list))))\n",
        "        print(\"Most Frequent Words:\\n\")\n",
        "        for k,v in ordered[:10]:\n",
        "              print(\"{}\\t{}\".format(k,v))\n",
        "    print(\"Total Number of Unique Words:{}\".format(len(np.unique(total_u_words))))\n",
        "\n",
        "    return documents,words,u_words,class_label\n",
        "\n",
        "#call the fucntion\n",
        "documents,words,u_words,class_names = data_summary(dataset)"
      ],
      "execution_count": null,
      "outputs": []
    },
    {
      "cell_type": "code",
      "metadata": {
        "id": "tw1KAGtAKqLS"
      },
      "source": [
        "data_matrix = pd.DataFrame({'Total Documents':documents,\n",
        "                            'Total Words':words,\n",
        "                            'Unique Words':u_words,\n",
        "                            'Class Names':class_names})\n",
        "df = pd.melt(data_matrix, id_vars=\"Class Names\", var_name=\"Label\", value_name=\"Values\")\n",
        "plt.figure(figsize=(8, 6))\n",
        "ax = plt.subplot()\n",
        "\n",
        "sns.barplot(data=df,x='Class Names', y='Values' ,hue='Label')\n",
        "ax.set_xlabel('Class Names')\n",
        "ax.set_title('Data Statistics')\n",
        "\n",
        "ax.xaxis.set_ticklabels(class_names, rotation=45);"
      ],
      "execution_count": null,
      "outputs": []
    },
    {
      "cell_type": "code",
      "metadata": {
        "id": "bDLqGhgMK_KZ"
      },
      "source": [
        "# Calculate the Review of each of the Review\n",
        "dataset['TextLength'] = dataset.cleaned.apply(lambda x:len(x.split()))\n",
        "frequency = dict()\n",
        "for i in dataset.TextLength:\n",
        "    frequency[i] = frequency.get(i, 0)+1\n",
        "\n",
        "plt.bar(frequency.keys(), frequency.values(), color =\"b\")\n",
        "plt.xlim(1, 60)\n",
        "# in this notbook color is not working but it should work.\n",
        "plt.xlabel('Length of the Text')\n",
        "plt.ylabel('Frequency')\n",
        "plt.title('Length-Frequency Distribution')\n",
        "plt.show()\n",
        "print(f\"Maximum Length of a Text: {max(dataset.TextLength)}\")\n",
        "print(f\"Minimum Length of a Text: {min(dataset.TextLength)}\")\n",
        "print(f\"Average Length of a Text: {round(np.mean(dataset.TextLength),0)}\")"
      ],
      "execution_count": null,
      "outputs": []
    },
    {
      "cell_type": "code",
      "metadata": {
        "id": "YmqxwQ40LajW"
      },
      "source": [
        "#==================================================\n",
        "                                       ################# Label Encoding Function #########\n",
        "                                       #==================================================\n",
        "\n",
        "def label_encoding(Label,bool):\n",
        "    \"\"\"\n",
        "    This function will return the encoded labels in array format.\n",
        "\n",
        "    Args:\n",
        "        Label: series of class names(str)\n",
        "        bool: boolean (True or False)\n",
        "\n",
        "    Returns:\n",
        "        labels: numpy array\n",
        "    \"\"\"\n",
        "    le = LabelEncoder()\n",
        "    le.fit(Label)\n",
        "    encoded_labels = le.transform(Label)\n",
        "    labels = np.array(encoded_labels) # Converting into numpy array\n",
        "    class_names =le.classes_ ## Define the class names again\n",
        "    if bool == True:\n",
        "        print(\"\\n\\t\\t\\t===== Label Encoding =====\",\"\\nClass Names:-->\",le.classes_)\n",
        "        for i in sample_data:\n",
        "            print(Label[i],' ', encoded_labels[i],'\\n')\n",
        "\n",
        "    return labels\n",
        "\n",
        "\n",
        "\n",
        "                           #===========================================================\n",
        "                           ################# Dataset Splitting Function ###############\n",
        "                           #===========================================================\n",
        "\n",
        "def dataset_split(Text,Label):\n",
        "    \"\"\"\n",
        "    This function will return the splitted (90%-10%-10%) feature vector .\n",
        "\n",
        "    Args:\n",
        "        Text: sequenced Text\n",
        "        Label: encoded lables (array)\n",
        "\n",
        "    Returns:\n",
        "        X_train: training data\n",
        "        X_valid: validation data\n",
        "        X_test : testing feature vector\n",
        "        y_train: training encoded labels (array)\n",
        "        y_valid: training encoded labels (array)\n",
        "        y_test : testing encoded labels (array)\n",
        "    \"\"\"\n",
        "\n",
        "    X,X_test,y,y_test = train_test_split(Text,Label,train_size = 0.9,\n",
        "                                                  test_size = 0.1,random_state =0)\n",
        "    X_train,X_valid,y_train,y_valid = train_test_split(X,y,train_size = 0.8,\n",
        "                                                  test_size = 0.2,random_state =0)\n",
        "    print(color.BOLD+\"\\nDataset Distribution:\\n\"+color.END)\n",
        "    print(\"\\tSet Name\",\"\\t\\tSize\")\n",
        "    print(\"\\t========\\t\\t======\")\n",
        "\n",
        "    print(\"\\tFull\\t\\t\\t\",len(Text),\n",
        "        \"\\n\\tTraining\\t\\t\",len(X_train),\n",
        "        \"\\n\\tTest\\t\\t\\t\",len(X_test),\n",
        "        \"\\n\\tValidation\\t\\t\",len(X_valid))\n",
        "\n",
        "    return X_train,X_valid,X_test,y_train,y_valid,y_test"
      ],
      "execution_count": null,
      "outputs": []
    },
    {
      "cell_type": "code",
      "metadata": {
        "id": "2snJoXa7MKEA"
      },
      "source": [
        "labels = label_encoding(dataset.Label,True)"
      ],
      "execution_count": null,
      "outputs": []
    },
    {
      "cell_type": "code",
      "metadata": {
        "id": "0HdlQ8puhsAA"
      },
      "source": [
        "print(labels)"
      ],
      "execution_count": null,
      "outputs": []
    },
    {
      "cell_type": "code",
      "metadata": {
        "id": "D1rgw7ANMPQb"
      },
      "source": [
        "X_train,X_valid,X_test,y_train,y_valid,y_test = dataset_split(dataset.Text,labels)"
      ],
      "execution_count": null,
      "outputs": []
    },
    {
      "cell_type": "code",
      "metadata": {
        "id": "fd3hcoOoMY8B"
      },
      "source": [
        "vocab_size = 57000\n",
        "embedding_dim = 64\n",
        "max_length = 59\n",
        "trunc_type='post'\n",
        "padding_type='post'\n",
        "oov_tok = \"<OOV>\"\n",
        "\n",
        "def padded_headlines(original,encoded,padded):\n",
        "  '''\n",
        "  print the samples padded headlines\n",
        "  '''\n",
        "  print(color.BOLD+\"\\n\\t\\t\\t====== Encoded Sequences ======\"+color.END,\"\\n\")\n",
        "  print(original,\"\\n\",encoded)\n",
        "  print(color.BOLD+\"\\n\\t\\t\\t====== Paded Sequences ======\\n\"+color.END,original,\"\\n\",padded)"
      ],
      "execution_count": null,
      "outputs": []
    },
    {
      "cell_type": "code",
      "metadata": {
        "id": "lLBgwuRxM-IJ"
      },
      "source": [
        "# Train Data Tokenization\n",
        "tokenizer = Tokenizer(num_words = vocab_size, oov_token=oov_tok)\n",
        "tokenizer.fit_on_texts(X_train)\n",
        "word_index = tokenizer.word_index\n",
        "train_sequences = tokenizer.texts_to_sequences(X_train)\n",
        "train_padded = pad_sequences(train_sequences, padding=padding_type, maxlen=max_length)"
      ],
      "execution_count": null,
      "outputs": []
    },
    {
      "cell_type": "code",
      "metadata": {
        "id": "cB0C_FdxNC79"
      },
      "source": [
        "#============================== Tokenizer Info =================================\n",
        "(word_counts,word_docs,word_index,document_count) = (tokenizer.word_counts,\n",
        "                                                       tokenizer.word_docs,\n",
        "                                                       tokenizer.word_index,\n",
        "                                                       tokenizer.document_count)\n",
        "def tokenizer_info(mylist,bool):\n",
        "  ordered = sorted(mylist.items(), key= lambda item: item[1],reverse = bool)\n",
        "  for w,c in ordered[:10]:\n",
        "    print(w,\"\\t\",c)\n",
        "  #=============================== Print all the information =========================\n",
        "print(color.BOLD+\"\\t\\t\\t====== Tokenizer Info ======\"+color.END)\n",
        "print(\"Words --> Counts:\")\n",
        "tokenizer_info(word_counts,bool =True )\n",
        "print(\"\\nWords --> Documents:\")\n",
        "tokenizer_info(word_docs,bool =True )\n",
        "print(\"\\nWords --> Index:\")\n",
        "tokenizer_info(word_index,bool =True )\n",
        "print(\"\\nTotal Documents -->\",document_count)\n",
        "print(f\"Found {len(word_index)} unique tokens\")"
      ],
      "execution_count": null,
      "outputs": []
    },
    {
      "cell_type": "code",
      "metadata": {
        "id": "2eltMzmCNKJ7"
      },
      "source": [
        "padded_headlines(X_train[398],train_sequences[10],train_padded[10])"
      ],
      "execution_count": null,
      "outputs": []
    },
    {
      "cell_type": "code",
      "metadata": {
        "id": "4k1kL9BBWXy0"
      },
      "source": [
        "print(X_test[354:364])"
      ],
      "execution_count": null,
      "outputs": []
    },
    {
      "cell_type": "code",
      "metadata": {
        "id": "XQ1r6L4qNQE8"
      },
      "source": [
        "# Validation Data Tokenization\n",
        "validation_sequences = tokenizer.texts_to_sequences(X_valid)\n",
        "validation_padded = pad_sequences(validation_sequences, padding=padding_type , maxlen=max_length)\n",
        "padded_headlines(X_valid[5608],validation_sequences[1],validation_padded[1])"
      ],
      "execution_count": null,
      "outputs": []
    },
    {
      "cell_type": "code",
      "metadata": {
        "id": "DLIiFze2NVtX"
      },
      "source": [
        "# Test Data Tokenization\n",
        "test_sequences = tokenizer.texts_to_sequences(X_test)\n",
        "test_padded = pad_sequences(test_sequences, padding=padding_type , maxlen=max_length)\n",
        "padded_headlines(X_test[444],test_sequences[100],test_padded[100])"
      ],
      "execution_count": null,
      "outputs": []
    },
    {
      "cell_type": "code",
      "metadata": {
        "id": "uqgmlIJedTsL"
      },
      "source": [
        "print(X_test)"
      ],
      "execution_count": null,
      "outputs": []
    },
    {
      "cell_type": "code",
      "metadata": {
        "id": "daTs10_MORMu"
      },
      "source": [
        "# Labels Tokenization\n",
        "#label_tokenizer = Tokenizer()\n",
        "#label_tokenizer.fit_on_texts(dataset.category)\n",
        "\n",
        "train_label_seq = y_train\n",
        "valid_label_seq = y_valid\n",
        "testing_label_seq = y_test\n",
        "\n",
        "#print(train_label_seq.shape)\n",
        "#print(valid_label_seq.shape)\n",
        "#print(testing_label_seq.shape)"
      ],
      "execution_count": null,
      "outputs": []
    },
    {
      "cell_type": "code",
      "metadata": {
        "id": "qHCrTDBJOdxI"
      },
      "source": [
        "from keras.models import Sequential\n",
        "from keras.layers import Dense, GRU, Bidirectional, Embedding, Dropout, Conv1D, MaxPooling1D\n",
        "keras.backend.clear_session()\n",
        "accuracy_threshold = 0.97\n",
        "vocab_size = 57000\n",
        "embedding_dim = 64\n",
        "max_length = 59\n",
        "num_category = 6\n",
        "\n",
        "class myCallback(keras.callbacks.Callback):\n",
        "  def on_epoch_end(self, epoch, logs={}):\n",
        "      if(logs.get('accuracy')>accuracy_threshold):\n",
        "        print(\"\\nReached %2.2f%% accuracy so we will stop trianing\" % (accuracy_threshold*100))\n",
        "        self.model.stop_training = True\n",
        "\n",
        "acc_callback = myCallback()\n",
        "# Saved the Best Model\n",
        "filepath = path+\"Model.h5\"\n",
        "checkpoint = keras.callbacks.ModelCheckpoint(filepath, monitor='val_accuracy', verbose=2, save_best_only=True,\n",
        "                                             save_weights_only=False, mode='max')\n",
        "callback_list = [acc_callback, checkpoint]\n",
        "# model = tf.keras.Sequential([\n",
        "#     tf.keras.layers.Embedding(vocab_size, embedding_dim, input_length=max_length),\n",
        "#     tf.keras.layers.Bidirectional(GRU(64,dropout=0.2)),\n",
        "#     tf.keras.layers.Dense(24, activation='relu'),\n",
        "#     tf.keras.layers.Flatten(),\n",
        "#     tf.keras.layers.Dense(num_category, activation='softmax')\n",
        "# ])\n",
        "\n",
        "model = Sequential()\n",
        "model.add(Embedding(vocab_size, embedding_dim, input_length=max_length))\n",
        "model.add(Dropout(.2))\n",
        "\n",
        "model.add(Conv1D(128, 5, activation=\"relu\"))\n",
        "model.add(MaxPooling1D(pool_size=4))\n",
        "\n",
        "model.add(Bidirectional(LSTM(128)))\n",
        "model.add(Dropout(.5))\n",
        "\n",
        "model.add(Dense(66, activation=\"softmax\"))\n",
        "# opt = keras.optimizers.Adam(learning_rate=0.0001)\n",
        "model.compile(loss='sparse_categorical_crossentropy',optimizer=\"adam\",metrics=['accuracy'])\n",
        "model.summary()"
      ],
      "execution_count": null,
      "outputs": []
    },
    {
      "cell_type": "code",
      "metadata": {
        "id": "sdakaHlDcoIi"
      },
      "source": [
        "# !pip3 install --upgrade tensorflow"
      ],
      "execution_count": null,
      "outputs": []
    },
    {
      "cell_type": "code",
      "metadata": {
        "id": "IvhhI_ambTOK"
      },
      "source": [
        "# from keras.models import Sequential\n",
        "# from keras.layers import Dense, GRU, Bidirectional, Embedding, Dropout, Conv1D, MaxPooling1D\n",
        "\n",
        "# keras.backend.clear_session()\n",
        "# accuracy_threshold = 0.97\n",
        "# vocab_size = 4809\n",
        "# embedding_dim = 64\n",
        "# max_length = 59\n",
        "# num_category = 5\n",
        "\n",
        "# class myCallback(keras.callbacks.Callback):\n",
        "#   def on_epoch_end(self, epoch, logs={}):\n",
        "#       if(logs.get('accuracy')>accuracy_threshold):\n",
        "#         print(\"\\nReached %2.2f%% accuracy so we will stop trianing\" % (accuracy_threshold*100))\n",
        "#         self.model.stop_training = True\n",
        "\n",
        "# acc_callback = myCallback()\n",
        "# # Saved the Best Model\n",
        "# filepath = path+\"Model.h5\"\n",
        "# checkpoint = keras.callbacks.ModelCheckpoint(filepath, monitor='val_accuracy', verbose=2, save_best_only=True,\n",
        "#                                              save_weights_only=False, mode='max')\n",
        "# callback_list = [acc_callback, checkpoint]\n",
        "\n",
        "# model = Sequential()\n",
        "# model.add(Embedding(vocab_size, embedding_dim, input_length=max_length,\n",
        "#                             trainable=False))\n",
        "# model.add(Dropout(0.5))\n",
        "# model.add(Conv1D(128, 5, activation='relu'))\n",
        "# model.add(MaxPooling1D(pool_size=4))\n",
        "\n",
        "# model.add(Bidirectional(GRU(100)))\n",
        "# model.add(Dense(32, activation=\"relu\"))\n",
        "# model.add(Dropout(0.5))\n",
        "# model.add(Dense(66, activation=\"softmax\"))\n",
        "# model.compile(loss='sparse_categorical_crossentropy',optimizer='adam',metrics=['accuracy'])\n",
        "# model.summary()"
      ],
      "execution_count": null,
      "outputs": []
    },
    {
      "cell_type": "code",
      "metadata": {
        "id": "TEiLRWtHOliz"
      },
      "source": [
        "num_epochs = 30\n",
        "batch = 8\n",
        "history = model.fit(train_padded, train_label_seq,\n",
        "                    epochs=num_epochs,\n",
        "                    batch_size = batch,\n",
        "                    validation_data=(validation_padded, valid_label_seq),\n",
        "                    verbose=1,\n",
        "                    callbacks = callback_list)"
      ],
      "execution_count": null,
      "outputs": []
    },
    {
      "cell_type": "code",
      "metadata": {
        "id": "QlqLX-pQOrZh"
      },
      "source": [
        "from sklearn.metrics import classification_report, confusion_matrix\n",
        "# load the Saved model from directory\n",
        "# model = load_model(path+\"LSTM_Model.h5\")\n",
        "model = load_model(path+\"Model.h5\")\n",
        "predictions = model.predict(test_padded)\n",
        "y_pred = np.argmax(predictions, axis=1)\n",
        "\n",
        "cm = confusion_matrix(testing_label_seq, y_pred)\n",
        "\n",
        "# Transform to df for easier plotting\n",
        "cm_df = pd.DataFrame(cm,\n",
        "\n",
        "                     index = ['Joy' ,'Sadness' ,'Fear', 'Anger', 'Love', 'Surprise'],\n",
        "                     columns = ['Joy' ,'Sadness' ,'Fear', 'Anger', 'Love', 'Surprise'])\n",
        "\n",
        "plt.figure(figsize=(8,6))\n",
        "sns.heatmap(cm_df, annot=True,cmap=\"YlGnBu\", fmt='g')\n",
        "# plt.title('LSTM \\n Test Accuracy: {0:.2f}'.format(accuracy_score(testing_label_seq, y_pred)*100))\n",
        "plt.title('Confusion Matrix')\n",
        "plt.ylabel('True label')\n",
        "plt.xlabel('Predicted label')\n",
        "plt.xticks(rotation = 45)\n",
        "plt.yticks(rotation = 45)\n",
        "plt.show()"
      ],
      "execution_count": null,
      "outputs": []
    },
    {
      "cell_type": "code",
      "metadata": {
        "id": "VArJPfz4PIQA"
      },
      "source": [
        "# 1 => 'আনন্দ'\n",
        "# 2 => 'বিষণ্ণতা'\n",
        "# 3 => 'ভয়'\n",
        "# 4 => 'রাগ'\n",
        "# 5 => 'ভালবাসা'\n",
        "# 6 => 'আশ্চর্য'\n",
        "# ['Joy' ,'Sadness' ,'Fear', 'Anger', 'Love', 'Surprise']"
      ],
      "execution_count": null,
      "outputs": []
    },
    {
      "cell_type": "code",
      "metadata": {
        "id": "nOuVfcpqTmbV"
      },
      "source": [
        "report = pd.DataFrame(classification_report(y_true = testing_label_seq, y_pred = y_pred, output_dict=True)).transpose()\n",
        "report = report.rename(index={'0': 'Joy','1':'Sadness','2':'Fear','3':'Anger','4':'Love','5':'Surprise'})\n",
        "report[['precision','recall','f1-score']]=report[['precision','recall','f1-score']].apply(lambda x: round(x*100,2))\n",
        "report"
      ],
      "execution_count": null,
      "outputs": []
    },
    {
      "cell_type": "code",
      "metadata": {
        "id": "gqlJOjHjUASB"
      },
      "source": [
        "import matplotlib.pyplot as plt\n",
        "print(history.history.keys())\n",
        "# summarize history for accuracy\n",
        "plt.plot(history.history['accuracy'])\n",
        "plt.plot(history.history['val_accuracy'])\n",
        "plt.title('model accuracy')\n",
        "plt.ylabel('accuracy')\n",
        "plt.xlabel('epoch')\n",
        "plt.legend(['train', 'test'], loc='upper left')\n",
        "plt.show()"
      ],
      "execution_count": null,
      "outputs": []
    },
    {
      "cell_type": "code",
      "metadata": {
        "id": "bDyaT3XrUoZ9"
      },
      "source": [
        "# summarize history for loss\n",
        "plt.plot(history.history['loss'])\n",
        "plt.plot(history.history['val_loss'])\n",
        "plt.title('model loss')\n",
        "plt.ylabel('loss')\n",
        "plt.xlabel('epoch')\n",
        "plt.legend(['train', 'test'], loc='upper left')\n",
        "plt.show()"
      ],
      "execution_count": null,
      "outputs": []
    },
    {
      "cell_type": "code",
      "metadata": {
        "id": "TgQmHNZ9U0tR"
      },
      "source": [
        "# new_complaint = ['কাজীরাঙ্গা জাতীয় উদ্যানে আমি বাঘ দেখে ভয়ে দৌড়ে পালালাম ']\n",
        "# new_complaint = ['আমি প্রচুর অসুস্থ মানুষ রয়েছি তা শুনে আমি হতবাক ও দুঃখ বোধ করি']\n",
        "# new_complaint = ['ভাই হেসে তো পেটে খিল ধরে গেছে।অসাধারণ']\n",
        "# new_complaint = ['আজবতো প্রশ্ন হবে ফাঁস আর সাধারণ জনগণ খাবে বাঁশ? প্রশ্ন ফাঁস নিয়ে চরম একটি']\n",
        "# new_complaint = ['আমি বরং পচা বোধ করছি তাই এখনই খুব উচ্চাকাঙ্ক্ষী নই']\n",
        "# new_complaint = ['পুরাই অস্থির']\n",
        "# new_complaint = ['ভিডিওটা দিয়ে কি বুঝাতে চেয়েছে কেউ একটু বলবেন']\n",
        "# new_complaint = ['আমি এখনই খুব অসন্তুষ্ট বোধ করছি']\n",
        "new_complaint = ['আমি এমন কিছু সম্পর্কে উত্তেজিত বোধ করি যা কেবলমাত্র আমার পক্ষে এটির ভিডিও এখানে']\n",
        "\n",
        "seq = tokenizer.texts_to_sequences(new_complaint)\n",
        "padded = pad_sequences(seq, maxlen=max_length)\n",
        "pred = model.predict(padded)\n",
        "labels = ['Joy' ,'Sadness' ,'Fear', 'Anger', 'Love', 'Surprise']\n",
        "print(pred, labels[np.argmax(pred)])"
      ],
      "execution_count": null,
      "outputs": []
    },
    {
      "cell_type": "code",
      "metadata": {
        "id": "lzLYfR3e8ovT"
      },
      "source": [
        "print(model)"
      ],
      "execution_count": null,
      "outputs": []
    },
    {
      "cell_type": "code",
      "metadata": {
        "id": "faPQmcAPlHlS"
      },
      "source": [
        "print(X_test[394])\n",
        "print(test_padded)"
      ],
      "execution_count": null,
      "outputs": []
    },
    {
      "cell_type": "code",
      "metadata": {
        "id": "VTE9KzcqoG2z"
      },
      "source": [
        "model = load_model(path+\"Model.h5\")\n",
        "# model = load_model(\"Model.h5\")\n",
        "predictions = model.predict(test_padded[354:364])\n",
        "y_pred = np.argmax(predictions, axis=1)\n",
        "print(y_pred)\n",
        "temp_y_pred = y_pred"
      ],
      "execution_count": null,
      "outputs": []
    },
    {
      "cell_type": "code",
      "metadata": {
        "id": "7htuXO0DogCn"
      },
      "source": [
        "print(testing_label_seq[354:364])\n",
        "temp_testing_label_seq = testing_label_seq[354:364]"
      ],
      "execution_count": null,
      "outputs": []
    },
    {
      "cell_type": "code",
      "metadata": {
        "id": "qGJ9ubDJokx2"
      },
      "source": [
        "print(\"test data\", \" \", \"Predicted Label\", \"True Label\")\n",
        "index = ['Joy' ,'Sadness' ,'Fear', 'Anger', 'Love', 'Surprise']\n",
        "test_result = {\"test_sentence\": [], \"p_label\": [], \"T_label\": []}\n",
        "for i in X_test[354:364]:\n",
        "  test_result[\"test_sentence\"].append(i)\n",
        "for i in temp_y_pred:\n",
        "  test_result[\"p_label\"].append(index[i])\n",
        "for j in temp_testing_label_seq:\n",
        "  test_result[\"T_label\"].append(index[j])\n",
        "pd.DataFrame.from_dict(test_result).to_csv(path+\"bigru_test_result.csv\", index= False)"
      ],
      "execution_count": null,
      "outputs": []
    },
    {
      "cell_type": "code",
      "metadata": {
        "id": "ZYrHpXSJpeXa"
      },
      "source": [
        "print(test_result)"
      ],
      "execution_count": null,
      "outputs": []
    },
    {
      "cell_type": "code",
      "metadata": {
        "id": "kh_HKmPIta8y"
      },
      "source": [
        "temp_x_test = ['আমি তার মৃত্যু দেখে মন খারাপ করেছিলাম',\n",
        "               'আমি পরীক্ষায় ফেল করার পরে মন খারাপ করেছিলাম',\n",
        "               'আমি বাঘ দেখে ভয় পেয়েছি',\n",
        "               'আমি তার কাজ দেখে অবাক হয়েছি',\n",
        "               'মানবতার কাজে নিয়োজিত ব্যাক্তিদের আমি মন থেকে ভালবাসি',\n",
        "               'আমি তোমায় ভালোবাসি',\n",
        "               'চিড়িয়াখানায় গিয়ে আমি খুশি হয়েছিলাম',\n",
        "               'আমি এই মুহুর্তে নিরাপত্তাহীন বোধ করছি',\n",
        "               'সে জোরে হাসছিল কার্টুনটি দেখে',\n",
        "               'আমি আজ একটু স্বাচ্ছন্দ্য বোধ করছি',\n",
        "               'করোনায় পরিস্থিতিতে মানুষের আকস্মিক  দুদর্শা দেখে আমি বেশ ব্যথিত',\n",
        "               'আমি সাপ দেখে ভয় পেয়েছি',\n",
        "               'আমি তার খারাপ ব্যবহারের জন্য রেগে গেছি',\n",
        "               'মেসির ফ্রিকিক গোল দেখে আমি অবাক হয়ে গেলাম',\n",
        "               'মীরের অভিনয়ে দেখে আমি প্রায়শই আট্ট হাসি দেই',\n",
        "               'আমি তোমায় দেখে মুগ্ধ হয়েছি']\n",
        "temp_testing_label_seq = [1, 1, 2, 5, 4, 4, 0, 2, 0, 0, 1, 2, 3, 5, 0,5]"
      ],
      "execution_count": null,
      "outputs": []
    },
    {
      "cell_type": "code",
      "metadata": {
        "id": "delBpR3Wvwru"
      },
      "source": [
        "# Test Data Tokenization\n",
        "temp_test_sequences = tokenizer.texts_to_sequences(temp_x_test)\n",
        "temp_test_padded = pad_sequences(temp_test_sequences, padding=padding_type , maxlen=59)\n",
        "# temp_padded_headlines(X_test[444],temp_test_sequences[100],test_padded[100])"
      ],
      "execution_count": null,
      "outputs": []
    },
    {
      "cell_type": "code",
      "metadata": {
        "id": "-aozDM2gwC7G"
      },
      "source": [
        "model = load_model(path+\"Model.h5\")\n",
        "# model = load_model(\"Model.h5\")\n",
        "predictions = model.predict(temp_test_padded)\n",
        "temp_y_pred = np.argmax(predictions, axis=1)"
      ],
      "execution_count": null,
      "outputs": []
    },
    {
      "cell_type": "code",
      "metadata": {
        "id": "kWguT-AOwkC5"
      },
      "source": [
        "index = ['Joy' ,'Sadness' ,'Fear', 'Anger', 'Love', 'Surprise']\n",
        "test_result = {\"test_sentence\": [], \"p_label\": [], \"T_label\": []}\n",
        "error = 0\n",
        "for i in temp_x_test:\n",
        "  test_result[\"test_sentence\"].append(i)\n",
        "# for i in temp_y_pred:\n",
        "#   test_result[\"p_label\"].append(index[i])\n",
        "# for j in temp_testing_label_seq:\n",
        "#   test_result[\"T_label\"].append(index[j])\n",
        "for i in range(len(temp_y_pred)):\n",
        "  if temp_y_pred[i] != temp_testing_label_seq[i]:\n",
        "    test_result[\"T_label\"].append(str(index[temp_testing_label_seq[i]])+\" \"+str(error))\n",
        "    test_result[\"p_label\"].append(str(index[temp_y_pred[i]]) + \" \"+str(error))\n",
        "    error += 1\n",
        "  else:\n",
        "    test_result[\"T_label\"].append(index[temp_testing_label_seq[i]])\n",
        "    test_result[\"p_label\"].append(index[temp_y_pred[i]])\n",
        "df = pd.DataFrame.from_dict(test_result)\n",
        "print(df)\n",
        "print(error)\n",
        "df.to_csv(path+\"lstm_test_result.csv\", index= False)"
      ],
      "execution_count": null,
      "outputs": []
    },
    {
      "cell_type": "code",
      "metadata": {
        "id": "UUBfjFT-xFES"
      },
      "source": [
        "f1_score(temp_testing_label_seq, temp_y_pred, average='macro')"
      ],
      "execution_count": null,
      "outputs": []
    },
    {
      "cell_type": "code",
      "metadata": {
        "id": "8HkkzT0Ww3aS"
      },
      "source": [
        "f1_score(temp_testing_label_seq, temp_y_pred, average='weighted')"
      ],
      "execution_count": null,
      "outputs": []
    },
    {
      "cell_type": "code",
      "metadata": {
        "id": "XSd3M2fH5SRy"
      },
      "source": [
        "f1_score(temp_testing_label_seq, temp_y_pred, average=None)"
      ],
      "execution_count": null,
      "outputs": []
    },
    {
      "cell_type": "code",
      "metadata": {
        "id": "dS9wQXkE5d7J"
      },
      "source": [],
      "execution_count": null,
      "outputs": []
    }
  ]
}