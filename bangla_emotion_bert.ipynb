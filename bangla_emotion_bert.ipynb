{
  "nbformat": 4,
  "nbformat_minor": 0,
  "metadata": {
    "colab": {
      "provenance": []
    },
    "kernelspec": {
      "name": "python3",
      "display_name": "Python 3"
    },
    "accelerator": "GPU",
    "widgets": {
      "application/vnd.jupyter.widget-state+json": {
        "de0d681b2dc148678f7b62cff57152d9": {
          "model_module": "@jupyter-widgets/controls",
          "model_name": "HBoxModel",
          "state": {
            "_view_name": "HBoxView",
            "_dom_classes": [],
            "_model_name": "HBoxModel",
            "_view_module": "@jupyter-widgets/controls",
            "_model_module_version": "1.5.0",
            "_view_count": null,
            "_view_module_version": "1.5.0",
            "box_style": "",
            "layout": "IPY_MODEL_c048963c2f724010ba62be249d62c3f0",
            "_model_module": "@jupyter-widgets/controls",
            "children": [
              "IPY_MODEL_d1d7b4b427a84649bf13067bf1bd8b71",
              "IPY_MODEL_8df3fd8237cc47808aa60fd6c8319688"
            ]
          },
          "model_module_version": "1.5.0"
        },
        "c048963c2f724010ba62be249d62c3f0": {
          "model_module": "@jupyter-widgets/base",
          "model_name": "LayoutModel",
          "state": {
            "_view_name": "LayoutView",
            "grid_template_rows": null,
            "right": null,
            "justify_content": null,
            "_view_module": "@jupyter-widgets/base",
            "overflow": null,
            "_model_module_version": "1.2.0",
            "_view_count": null,
            "flex_flow": null,
            "width": null,
            "min_width": null,
            "border": null,
            "align_items": null,
            "bottom": null,
            "_model_module": "@jupyter-widgets/base",
            "top": null,
            "grid_column": null,
            "overflow_y": null,
            "overflow_x": null,
            "grid_auto_flow": null,
            "grid_area": null,
            "grid_template_columns": null,
            "flex": null,
            "_model_name": "LayoutModel",
            "justify_items": null,
            "grid_row": null,
            "max_height": null,
            "align_content": null,
            "visibility": null,
            "align_self": null,
            "height": null,
            "min_height": null,
            "padding": null,
            "grid_auto_rows": null,
            "grid_gap": null,
            "max_width": null,
            "order": null,
            "_view_module_version": "1.2.0",
            "grid_template_areas": null,
            "object_position": null,
            "object_fit": null,
            "grid_auto_columns": null,
            "margin": null,
            "display": null,
            "left": null
          },
          "model_module_version": "1.2.0"
        },
        "d1d7b4b427a84649bf13067bf1bd8b71": {
          "model_module": "@jupyter-widgets/controls",
          "model_name": "FloatProgressModel",
          "state": {
            "_view_name": "ProgressView",
            "style": "IPY_MODEL_bb1beee241c74bd7a7b3f56d25efeec3",
            "_dom_classes": [],
            "description": "Downloading: 100%",
            "_model_name": "FloatProgressModel",
            "bar_style": "success",
            "max": 231508,
            "_view_module": "@jupyter-widgets/controls",
            "_model_module_version": "1.5.0",
            "value": 231508,
            "_view_count": null,
            "_view_module_version": "1.5.0",
            "orientation": "horizontal",
            "min": 0,
            "description_tooltip": null,
            "_model_module": "@jupyter-widgets/controls",
            "layout": "IPY_MODEL_e814ef3463d6426e992e6a464cef3457"
          },
          "model_module_version": "1.5.0"
        },
        "8df3fd8237cc47808aa60fd6c8319688": {
          "model_module": "@jupyter-widgets/controls",
          "model_name": "HTMLModel",
          "state": {
            "_view_name": "HTMLView",
            "style": "IPY_MODEL_bca25d4d51a54115a2a783d8bc7bde2a",
            "_dom_classes": [],
            "description": "",
            "_model_name": "HTMLModel",
            "placeholder": "​",
            "_view_module": "@jupyter-widgets/controls",
            "_model_module_version": "1.5.0",
            "value": " 232k/232k [00:00&lt;00:00, 296kB/s]",
            "_view_count": null,
            "_view_module_version": "1.5.0",
            "description_tooltip": null,
            "_model_module": "@jupyter-widgets/controls",
            "layout": "IPY_MODEL_3b913c3c3a8245d9a70398dbc765be1e"
          },
          "model_module_version": "1.5.0"
        },
        "bb1beee241c74bd7a7b3f56d25efeec3": {
          "model_module": "@jupyter-widgets/controls",
          "model_name": "ProgressStyleModel",
          "state": {
            "_view_name": "StyleView",
            "_model_name": "ProgressStyleModel",
            "description_width": "initial",
            "_view_module": "@jupyter-widgets/base",
            "_model_module_version": "1.5.0",
            "_view_count": null,
            "_view_module_version": "1.2.0",
            "bar_color": null,
            "_model_module": "@jupyter-widgets/controls"
          },
          "model_module_version": "1.5.0"
        },
        "e814ef3463d6426e992e6a464cef3457": {
          "model_module": "@jupyter-widgets/base",
          "model_name": "LayoutModel",
          "state": {
            "_view_name": "LayoutView",
            "grid_template_rows": null,
            "right": null,
            "justify_content": null,
            "_view_module": "@jupyter-widgets/base",
            "overflow": null,
            "_model_module_version": "1.2.0",
            "_view_count": null,
            "flex_flow": null,
            "width": null,
            "min_width": null,
            "border": null,
            "align_items": null,
            "bottom": null,
            "_model_module": "@jupyter-widgets/base",
            "top": null,
            "grid_column": null,
            "overflow_y": null,
            "overflow_x": null,
            "grid_auto_flow": null,
            "grid_area": null,
            "grid_template_columns": null,
            "flex": null,
            "_model_name": "LayoutModel",
            "justify_items": null,
            "grid_row": null,
            "max_height": null,
            "align_content": null,
            "visibility": null,
            "align_self": null,
            "height": null,
            "min_height": null,
            "padding": null,
            "grid_auto_rows": null,
            "grid_gap": null,
            "max_width": null,
            "order": null,
            "_view_module_version": "1.2.0",
            "grid_template_areas": null,
            "object_position": null,
            "object_fit": null,
            "grid_auto_columns": null,
            "margin": null,
            "display": null,
            "left": null
          },
          "model_module_version": "1.2.0"
        },
        "bca25d4d51a54115a2a783d8bc7bde2a": {
          "model_module": "@jupyter-widgets/controls",
          "model_name": "DescriptionStyleModel",
          "state": {
            "_view_name": "StyleView",
            "_model_name": "DescriptionStyleModel",
            "description_width": "",
            "_view_module": "@jupyter-widgets/base",
            "_model_module_version": "1.5.0",
            "_view_count": null,
            "_view_module_version": "1.2.0",
            "_model_module": "@jupyter-widgets/controls"
          },
          "model_module_version": "1.5.0"
        },
        "3b913c3c3a8245d9a70398dbc765be1e": {
          "model_module": "@jupyter-widgets/base",
          "model_name": "LayoutModel",
          "state": {
            "_view_name": "LayoutView",
            "grid_template_rows": null,
            "right": null,
            "justify_content": null,
            "_view_module": "@jupyter-widgets/base",
            "overflow": null,
            "_model_module_version": "1.2.0",
            "_view_count": null,
            "flex_flow": null,
            "width": null,
            "min_width": null,
            "border": null,
            "align_items": null,
            "bottom": null,
            "_model_module": "@jupyter-widgets/base",
            "top": null,
            "grid_column": null,
            "overflow_y": null,
            "overflow_x": null,
            "grid_auto_flow": null,
            "grid_area": null,
            "grid_template_columns": null,
            "flex": null,
            "_model_name": "LayoutModel",
            "justify_items": null,
            "grid_row": null,
            "max_height": null,
            "align_content": null,
            "visibility": null,
            "align_self": null,
            "height": null,
            "min_height": null,
            "padding": null,
            "grid_auto_rows": null,
            "grid_gap": null,
            "max_width": null,
            "order": null,
            "_view_module_version": "1.2.0",
            "grid_template_areas": null,
            "object_position": null,
            "object_fit": null,
            "grid_auto_columns": null,
            "margin": null,
            "display": null,
            "left": null
          },
          "model_module_version": "1.2.0"
        },
        "b4ef4c5e64554a25856d00a5c1106633": {
          "model_module": "@jupyter-widgets/controls",
          "model_name": "HBoxModel",
          "state": {
            "_view_name": "HBoxView",
            "_dom_classes": [],
            "_model_name": "HBoxModel",
            "_view_module": "@jupyter-widgets/controls",
            "_model_module_version": "1.5.0",
            "_view_count": null,
            "_view_module_version": "1.5.0",
            "box_style": "",
            "layout": "IPY_MODEL_1fe0cd87c7b1409fa40389c55f088b93",
            "_model_module": "@jupyter-widgets/controls",
            "children": [
              "IPY_MODEL_ee18bbc10e6147839f2b489cd770e37f",
              "IPY_MODEL_277bd571e7184d9cb88d8468493f99bf"
            ]
          },
          "model_module_version": "1.5.0"
        },
        "1fe0cd87c7b1409fa40389c55f088b93": {
          "model_module": "@jupyter-widgets/base",
          "model_name": "LayoutModel",
          "state": {
            "_view_name": "LayoutView",
            "grid_template_rows": null,
            "right": null,
            "justify_content": null,
            "_view_module": "@jupyter-widgets/base",
            "overflow": null,
            "_model_module_version": "1.2.0",
            "_view_count": null,
            "flex_flow": null,
            "width": null,
            "min_width": null,
            "border": null,
            "align_items": null,
            "bottom": null,
            "_model_module": "@jupyter-widgets/base",
            "top": null,
            "grid_column": null,
            "overflow_y": null,
            "overflow_x": null,
            "grid_auto_flow": null,
            "grid_area": null,
            "grid_template_columns": null,
            "flex": null,
            "_model_name": "LayoutModel",
            "justify_items": null,
            "grid_row": null,
            "max_height": null,
            "align_content": null,
            "visibility": null,
            "align_self": null,
            "height": null,
            "min_height": null,
            "padding": null,
            "grid_auto_rows": null,
            "grid_gap": null,
            "max_width": null,
            "order": null,
            "_view_module_version": "1.2.0",
            "grid_template_areas": null,
            "object_position": null,
            "object_fit": null,
            "grid_auto_columns": null,
            "margin": null,
            "display": null,
            "left": null
          },
          "model_module_version": "1.2.0"
        },
        "ee18bbc10e6147839f2b489cd770e37f": {
          "model_module": "@jupyter-widgets/controls",
          "model_name": "FloatProgressModel",
          "state": {
            "_view_name": "ProgressView",
            "style": "IPY_MODEL_a845efca6fa34a40a705ccd844836316",
            "_dom_classes": [],
            "description": "Epoch:   0%",
            "_model_name": "FloatProgressModel",
            "bar_style": "",
            "max": 2,
            "_view_module": "@jupyter-widgets/controls",
            "_model_module_version": "1.5.0",
            "value": 0,
            "_view_count": null,
            "_view_module_version": "1.5.0",
            "orientation": "horizontal",
            "min": 0,
            "description_tooltip": null,
            "_model_module": "@jupyter-widgets/controls",
            "layout": "IPY_MODEL_e9129b0a41f14b00b852423bc716d8c7"
          },
          "model_module_version": "1.5.0"
        },
        "277bd571e7184d9cb88d8468493f99bf": {
          "model_module": "@jupyter-widgets/controls",
          "model_name": "HTMLModel",
          "state": {
            "_view_name": "HTMLView",
            "style": "IPY_MODEL_b46f06be1b4545e4b739d8930cefc6e2",
            "_dom_classes": [],
            "description": "",
            "_model_name": "HTMLModel",
            "placeholder": "​",
            "_view_module": "@jupyter-widgets/controls",
            "_model_module_version": "1.5.0",
            "value": " 0/2 [00:00&lt;?, ?it/s]",
            "_view_count": null,
            "_view_module_version": "1.5.0",
            "description_tooltip": null,
            "_model_module": "@jupyter-widgets/controls",
            "layout": "IPY_MODEL_488e40862c9d4feba06c09dd18c7d414"
          },
          "model_module_version": "1.5.0"
        },
        "a845efca6fa34a40a705ccd844836316": {
          "model_module": "@jupyter-widgets/controls",
          "model_name": "ProgressStyleModel",
          "state": {
            "_view_name": "StyleView",
            "_model_name": "ProgressStyleModel",
            "description_width": "initial",
            "_view_module": "@jupyter-widgets/base",
            "_model_module_version": "1.5.0",
            "_view_count": null,
            "_view_module_version": "1.2.0",
            "bar_color": null,
            "_model_module": "@jupyter-widgets/controls"
          },
          "model_module_version": "1.5.0"
        },
        "e9129b0a41f14b00b852423bc716d8c7": {
          "model_module": "@jupyter-widgets/base",
          "model_name": "LayoutModel",
          "state": {
            "_view_name": "LayoutView",
            "grid_template_rows": null,
            "right": null,
            "justify_content": null,
            "_view_module": "@jupyter-widgets/base",
            "overflow": null,
            "_model_module_version": "1.2.0",
            "_view_count": null,
            "flex_flow": null,
            "width": null,
            "min_width": null,
            "border": null,
            "align_items": null,
            "bottom": null,
            "_model_module": "@jupyter-widgets/base",
            "top": null,
            "grid_column": null,
            "overflow_y": null,
            "overflow_x": null,
            "grid_auto_flow": null,
            "grid_area": null,
            "grid_template_columns": null,
            "flex": null,
            "_model_name": "LayoutModel",
            "justify_items": null,
            "grid_row": null,
            "max_height": null,
            "align_content": null,
            "visibility": null,
            "align_self": null,
            "height": null,
            "min_height": null,
            "padding": null,
            "grid_auto_rows": null,
            "grid_gap": null,
            "max_width": null,
            "order": null,
            "_view_module_version": "1.2.0",
            "grid_template_areas": null,
            "object_position": null,
            "object_fit": null,
            "grid_auto_columns": null,
            "margin": null,
            "display": null,
            "left": null
          },
          "model_module_version": "1.2.0"
        },
        "b46f06be1b4545e4b739d8930cefc6e2": {
          "model_module": "@jupyter-widgets/controls",
          "model_name": "DescriptionStyleModel",
          "state": {
            "_view_name": "StyleView",
            "_model_name": "DescriptionStyleModel",
            "description_width": "",
            "_view_module": "@jupyter-widgets/base",
            "_model_module_version": "1.5.0",
            "_view_count": null,
            "_view_module_version": "1.2.0",
            "_model_module": "@jupyter-widgets/controls"
          },
          "model_module_version": "1.5.0"
        },
        "488e40862c9d4feba06c09dd18c7d414": {
          "model_module": "@jupyter-widgets/base",
          "model_name": "LayoutModel",
          "state": {
            "_view_name": "LayoutView",
            "grid_template_rows": null,
            "right": null,
            "justify_content": null,
            "_view_module": "@jupyter-widgets/base",
            "overflow": null,
            "_model_module_version": "1.2.0",
            "_view_count": null,
            "flex_flow": null,
            "width": null,
            "min_width": null,
            "border": null,
            "align_items": null,
            "bottom": null,
            "_model_module": "@jupyter-widgets/base",
            "top": null,
            "grid_column": null,
            "overflow_y": null,
            "overflow_x": null,
            "grid_auto_flow": null,
            "grid_area": null,
            "grid_template_columns": null,
            "flex": null,
            "_model_name": "LayoutModel",
            "justify_items": null,
            "grid_row": null,
            "max_height": null,
            "align_content": null,
            "visibility": null,
            "align_self": null,
            "height": null,
            "min_height": null,
            "padding": null,
            "grid_auto_rows": null,
            "grid_gap": null,
            "max_width": null,
            "order": null,
            "_view_module_version": "1.2.0",
            "grid_template_areas": null,
            "object_position": null,
            "object_fit": null,
            "grid_auto_columns": null,
            "margin": null,
            "display": null,
            "left": null
          },
          "model_module_version": "1.2.0"
        }
      }
    }
  },
  "cells": [
    {
      "cell_type": "code",
      "metadata": {
        "id": "oa2d0InGynce",
        "outputId": "2bc31d9d-0eac-4e9e-c1e7-89ae8d9e2a67",
        "colab": {
          "base_uri": "https://localhost:8080/",
          "height": 71
        }
      },
      "source": [
        "import pandas as pd\n",
        "import matplotlib.pyplot as plt\n",
        "import seaborn as sns\n",
        "from keras.preprocessing import text, sequence\n",
        "from sklearn.preprocessing import LabelEncoder\n",
        "import numpy as np\n",
        "from sklearn.utils import shuffle"
      ],
      "execution_count": null,
      "outputs": [
        {
          "output_type": "stream",
          "text": [
            "/usr/local/lib/python3.6/dist-packages/statsmodels/tools/_testing.py:19: FutureWarning: pandas.util.testing is deprecated. Use the functions in the public API at pandas.testing instead.\n",
            "  import pandas.util.testing as tm\n"
          ],
          "name": "stderr"
        }
      ]
    },
    {
      "cell_type": "code",
      "metadata": {
        "id": "3MhjmwOn0bOu",
        "outputId": "a9270763-b646-4bb0-b6e7-8b45f120c39b",
        "colab": {
          "base_uri": "https://localhost:8080/",
          "height": 122
        }
      },
      "source": [
        "from google.colab import drive\n",
        "drive.mount('/content/drive')"
      ],
      "execution_count": null,
      "outputs": [
        {
          "output_type": "stream",
          "text": [
            "Go to this URL in a browser: https://accounts.google.com/o/oauth2/auth?client_id=947318989803-6bn6qk8qdgf4n4g3pfee6491hc0brc4i.apps.googleusercontent.com&redirect_uri=urn%3aietf%3awg%3aoauth%3a2.0%3aoob&scope=email%20https%3a%2f%2fwww.googleapis.com%2fauth%2fdocs.test%20https%3a%2f%2fwww.googleapis.com%2fauth%2fdrive%20https%3a%2f%2fwww.googleapis.com%2fauth%2fdrive.photos.readonly%20https%3a%2f%2fwww.googleapis.com%2fauth%2fpeopleapi.readonly&response_type=code\n",
            "\n",
            "Enter your authorization code:\n",
            "··········\n",
            "Mounted at /content/drive\n"
          ],
          "name": "stdout"
        }
      ]
    },
    {
      "cell_type": "code",
      "metadata": {
        "id": "SR0WI1KOzO86"
      },
      "source": [
        "dataset = pd.read_csv(\"/content/drive/My Drive/Bangla_NLP/finalpuredataset.csv\")\n",
        "# dataset = pd.read_csv(\"finalbangladataset.csv\")"
      ],
      "execution_count": null,
      "outputs": []
    },
    {
      "cell_type": "markdown",
      "metadata": {
        "id": "jpJJYofq1fjf"
      },
      "source": [
        "Label:\n",
        "*   1 => 'আনন্দ'\n",
        "*   2 => 'বিষণ্ণতা'\n",
        "*   3 => 'ভয়'\n",
        "*   4 => 'রাগ'\n",
        "*   5 => 'ভালবাসা'\n",
        "*   6 => 'আশ্চর্য'  "
      ]
    },
    {
      "cell_type": "code",
      "metadata": {
        "id": "Aj-bXp6lzN8i",
        "outputId": "af650ba0-d87a-41dc-9ddf-44946a5498ad",
        "colab": {
          "base_uri": "https://localhost:8080/",
          "height": 204
        }
      },
      "source": [
        "dataset.head()"
      ],
      "execution_count": null,
      "outputs": [
        {
          "output_type": "execute_result",
          "data": {
            "text/html": [
              "<div>\n",
              "<style scoped>\n",
              "    .dataframe tbody tr th:only-of-type {\n",
              "        vertical-align: middle;\n",
              "    }\n",
              "\n",
              "    .dataframe tbody tr th {\n",
              "        vertical-align: top;\n",
              "    }\n",
              "\n",
              "    .dataframe thead th {\n",
              "        text-align: right;\n",
              "    }\n",
              "</style>\n",
              "<table border=\"1\" class=\"dataframe\">\n",
              "  <thead>\n",
              "    <tr style=\"text-align: right;\">\n",
              "      <th></th>\n",
              "      <th>Text</th>\n",
              "      <th>Label</th>\n",
              "    </tr>\n",
              "  </thead>\n",
              "  <tbody>\n",
              "    <tr>\n",
              "      <th>0</th>\n",
              "      <td>আমি অপমানিত বোধ করিনি</td>\n",
              "      <td>2</td>\n",
              "    </tr>\n",
              "    <tr>\n",
              "      <th>1</th>\n",
              "      <td>আমি যত্নবান এবং জাগ্রত এমন ব্যক্তির আশেপাশে থা...</td>\n",
              "      <td>2</td>\n",
              "    </tr>\n",
              "    <tr>\n",
              "      <th>2</th>\n",
              "      <td>আমার মনে হচ্ছে যে দুর্দশাগুলি আমি দেখতে পাচ্ছি...</td>\n",
              "      <td>2</td>\n",
              "    </tr>\n",
              "    <tr>\n",
              "      <th>3</th>\n",
              "      <td>আমি কম শক্তি অনুভব করছি আমি কেবল তৃষ্ণার্ত</td>\n",
              "      <td>2</td>\n",
              "    </tr>\n",
              "    <tr>\n",
              "      <th>4</th>\n",
              "      <td>আমি সত্যিই বিব্রত বোধ করিনি</td>\n",
              "      <td>2</td>\n",
              "    </tr>\n",
              "  </tbody>\n",
              "</table>\n",
              "</div>"
            ],
            "text/plain": [
              "                                                Text  Label\n",
              "0                              আমি অপমানিত বোধ করিনি      2\n",
              "1  আমি যত্নবান এবং জাগ্রত এমন ব্যক্তির আশেপাশে থা...      2\n",
              "2  আমার মনে হচ্ছে যে দুর্দশাগুলি আমি দেখতে পাচ্ছি...      2\n",
              "3         আমি কম শক্তি অনুভব করছি আমি কেবল তৃষ্ণার্ত      2\n",
              "4                        আমি সত্যিই বিব্রত বোধ করিনি      2"
            ]
          },
          "metadata": {
            "tags": []
          },
          "execution_count": 4
        }
      ]
    },
    {
      "cell_type": "code",
      "metadata": {
        "id": "oq7Y0pqtC6l9"
      },
      "source": [
        "dataset = shuffle(dataset)"
      ],
      "execution_count": null,
      "outputs": []
    },
    {
      "cell_type": "code",
      "metadata": {
        "id": "oYMHE4j63Ysv"
      },
      "source": [
        "train_size = int(len(dataset) * 0.8)"
      ],
      "execution_count": null,
      "outputs": []
    },
    {
      "cell_type": "code",
      "metadata": {
        "id": "8LLLJsD93wN8"
      },
      "source": [
        "train_text = dataset['Text'][:train_size]\n",
        "train_label = dataset['Label'][:train_size]\n",
        "test_text = dataset['Text'][train_size:]\n",
        "test_label = dataset['Label'][train_size:]"
      ],
      "execution_count": null,
      "outputs": []
    },
    {
      "cell_type": "code",
      "metadata": {
        "id": "MSBubSW343ux"
      },
      "source": [
        "token = text.Tokenizer(num_words=15000,char_level=False)\n",
        "token.fit_on_texts(train_text)\n",
        "X_train = token.texts_to_matrix(train_text)"
      ],
      "execution_count": null,
      "outputs": []
    },
    {
      "cell_type": "code",
      "metadata": {
        "id": "8KMveuzJ5uzS"
      },
      "source": [
        "# token = text.Tokenizer(num_words=15000,char_level=False)\n",
        "# token.fit_on_texts(train_label)\n",
        "# train_label_matrix = token.texts_to_matrix(train_label)"
      ],
      "execution_count": null,
      "outputs": []
    },
    {
      "cell_type": "code",
      "metadata": {
        "id": "h6QQOpcI6V-O"
      },
      "source": [
        "token = text.Tokenizer(num_words=15000,char_level=False)\n",
        "token.fit_on_texts(test_text)\n",
        "X_test = token.texts_to_matrix(test_text)"
      ],
      "execution_count": null,
      "outputs": []
    },
    {
      "cell_type": "code",
      "metadata": {
        "id": "0RgGgr0v6YCr"
      },
      "source": [
        "# token = text.Tokenizer(num_words=15000,char_level=False)\n",
        "# token.fit_on_texts(test_label)\n",
        "# test_label_matrix = token.texts_to_matrix(test_label)"
      ],
      "execution_count": null,
      "outputs": []
    },
    {
      "cell_type": "code",
      "metadata": {
        "id": "ccTQpAhwAbkh",
        "outputId": "79b1e941-1ea8-4f09-ec96-55ecefa0eb36",
        "colab": {
          "base_uri": "https://localhost:8080/",
          "height": 50
        }
      },
      "source": [
        "print(X_train.shape)\n",
        "print(X_test.shape)"
      ],
      "execution_count": null,
      "outputs": [
        {
          "output_type": "stream",
          "text": [
            "(5776, 15000)\n",
            "(1445, 15000)\n"
          ],
          "name": "stdout"
        }
      ]
    },
    {
      "cell_type": "code",
      "metadata": {
        "id": "w5myk9LeBaUl"
      },
      "source": [
        "encoder = LabelEncoder()\n",
        "Y_train = encoder.fit_transform(train_label)\n",
        "Y_test = encoder.fit_transform(test_label)"
      ],
      "execution_count": null,
      "outputs": []
    },
    {
      "cell_type": "code",
      "metadata": {
        "id": "eLuuxmh8CRhy"
      },
      "source": [
        "num_classes = np.max(Y_train) + 1"
      ],
      "execution_count": null,
      "outputs": []
    },
    {
      "cell_type": "code",
      "metadata": {
        "id": "RIiUbmwwCjp0",
        "outputId": "5264b287-20da-4712-d76c-84bc4d748828",
        "colab": {
          "base_uri": "https://localhost:8080/",
          "height": 34
        }
      },
      "source": [
        "print(num_classes)"
      ],
      "execution_count": null,
      "outputs": [
        {
          "output_type": "stream",
          "text": [
            "6\n"
          ],
          "name": "stdout"
        }
      ]
    },
    {
      "cell_type": "code",
      "metadata": {
        "id": "CFzHQ1yLCqls",
        "outputId": "5f3f9844-25cb-420d-b5a6-833e4e3f4456",
        "colab": {
          "base_uri": "https://localhost:8080/",
          "height": 84
        }
      },
      "source": [
        "print(Y_test)\n",
        "print(Y_test.shape)\n",
        "print(Y_train)\n",
        "print(Y_train.shape)"
      ],
      "execution_count": null,
      "outputs": [
        {
          "output_type": "stream",
          "text": [
            "[4 0 5 ... 5 3 5]\n",
            "(1445,)\n",
            "[4 3 4 ... 2 0 2]\n",
            "(5776,)\n"
          ],
          "name": "stdout"
        }
      ]
    },
    {
      "cell_type": "code",
      "metadata": {
        "id": "9CrqfIOcDvLJ"
      },
      "source": [
        "from keras import regularizers\n",
        "from tensorflow import keras\n",
        "from keras.models import Sequential\n",
        "from keras.layers import Activation, Dense\n",
        "\n",
        "model = Sequential()\n",
        "model.add(Dense(512, input_shape=(15000,), activation='relu'))\n",
        "model.add(Dense(256, activation='relu'))\n",
        "# model.add(Dense(128, activation='relu'))\n",
        "model.add(Dense(num_classes))\n",
        "model.add(Activation('softmax'))\n",
        "opt = keras.optimizers.Adam(learning_rate=0.0001)\n",
        "model.compile(loss='binary_crossentropy',\n",
        "              optimizer=opt,\n",
        "              metrics=['accuracy'])"
      ],
      "execution_count": null,
      "outputs": []
    },
    {
      "cell_type": "code",
      "metadata": {
        "id": "1IkJV2XiD0MD"
      },
      "source": [
        "history = model.fit(X_train,Y_train, batch_size=2, validation_split=0.33,epochs=50)"
      ],
      "execution_count": null,
      "outputs": []
    },
    {
      "cell_type": "code",
      "metadata": {
        "id": "2XT5o1ijEJs7",
        "outputId": "870be938-3a65-46b1-8e06-2f72052c552d",
        "colab": {
          "base_uri": "https://localhost:8080/",
          "height": 50
        }
      },
      "source": [
        "score = model.evaluate(X_test, Y_test,\n",
        "                       batch_size=2, verbose=1)\n",
        "print('Test accuracy:', score)"
      ],
      "execution_count": null,
      "outputs": [
        {
          "output_type": "stream",
          "text": [
            "723/723 [==============================] - 1s 2ms/step - loss: 3.6730 - accuracy: 0.1889\n",
            "Test accuracy: [3.672961711883545, 0.18892733752727509]\n"
          ],
          "name": "stdout"
        }
      ]
    },
    {
      "cell_type": "markdown",
      "metadata": {
        "id": "jewoIcO0LoUg"
      },
      "source": [
        "Using **BERT**"
      ]
    },
    {
      "cell_type": "code",
      "metadata": {
        "id": "vqSC-AivLwbG",
        "outputId": "db356889-cdcd-440c-e780-dc4ddab609c8",
        "colab": {
          "base_uri": "https://localhost:8080/",
          "height": 615
        }
      },
      "source": [
        "\n",
        "!pip install transformers"
      ],
      "execution_count": null,
      "outputs": [
        {
          "output_type": "stream",
          "text": [
            "Collecting transformers\n",
            "\u001b[?25l  Downloading https://files.pythonhosted.org/packages/27/3c/91ed8f5c4e7ef3227b4119200fc0ed4b4fd965b1f0172021c25701087825/transformers-3.0.2-py3-none-any.whl (769kB)\n",
            "\u001b[K     |████████████████████████████████| 778kB 2.7MB/s \n",
            "\u001b[?25hCollecting sentencepiece!=0.1.92\n",
            "\u001b[?25l  Downloading https://files.pythonhosted.org/packages/d4/a4/d0a884c4300004a78cca907a6ff9a5e9fe4f090f5d95ab341c53d28cbc58/sentencepiece-0.1.91-cp36-cp36m-manylinux1_x86_64.whl (1.1MB)\n",
            "\u001b[K     |████████████████████████████████| 1.1MB 12.7MB/s \n",
            "\u001b[?25hCollecting sacremoses\n",
            "\u001b[?25l  Downloading https://files.pythonhosted.org/packages/7d/34/09d19aff26edcc8eb2a01bed8e98f13a1537005d31e95233fd48216eed10/sacremoses-0.0.43.tar.gz (883kB)\n",
            "\u001b[K     |████████████████████████████████| 890kB 16.7MB/s \n",
            "\u001b[?25hCollecting tokenizers==0.8.1.rc1\n",
            "\u001b[?25l  Downloading https://files.pythonhosted.org/packages/40/d0/30d5f8d221a0ed981a186c8eb986ce1c94e3a6e87f994eae9f4aa5250217/tokenizers-0.8.1rc1-cp36-cp36m-manylinux1_x86_64.whl (3.0MB)\n",
            "\u001b[K     |████████████████████████████████| 3.0MB 27.0MB/s \n",
            "\u001b[?25hRequirement already satisfied: tqdm>=4.27 in /usr/local/lib/python3.6/dist-packages (from transformers) (4.41.1)\n",
            "Requirement already satisfied: packaging in /usr/local/lib/python3.6/dist-packages (from transformers) (20.4)\n",
            "Requirement already satisfied: dataclasses; python_version < \"3.7\" in /usr/local/lib/python3.6/dist-packages (from transformers) (0.7)\n",
            "Requirement already satisfied: filelock in /usr/local/lib/python3.6/dist-packages (from transformers) (3.0.12)\n",
            "Requirement already satisfied: numpy in /usr/local/lib/python3.6/dist-packages (from transformers) (1.18.5)\n",
            "Requirement already satisfied: regex!=2019.12.17 in /usr/local/lib/python3.6/dist-packages (from transformers) (2019.12.20)\n",
            "Requirement already satisfied: requests in /usr/local/lib/python3.6/dist-packages (from transformers) (2.23.0)\n",
            "Requirement already satisfied: six in /usr/local/lib/python3.6/dist-packages (from sacremoses->transformers) (1.15.0)\n",
            "Requirement already satisfied: click in /usr/local/lib/python3.6/dist-packages (from sacremoses->transformers) (7.1.2)\n",
            "Requirement already satisfied: joblib in /usr/local/lib/python3.6/dist-packages (from sacremoses->transformers) (0.16.0)\n",
            "Requirement already satisfied: pyparsing>=2.0.2 in /usr/local/lib/python3.6/dist-packages (from packaging->transformers) (2.4.7)\n",
            "Requirement already satisfied: chardet<4,>=3.0.2 in /usr/local/lib/python3.6/dist-packages (from requests->transformers) (3.0.4)\n",
            "Requirement already satisfied: urllib3!=1.25.0,!=1.25.1,<1.26,>=1.21.1 in /usr/local/lib/python3.6/dist-packages (from requests->transformers) (1.24.3)\n",
            "Requirement already satisfied: idna<3,>=2.5 in /usr/local/lib/python3.6/dist-packages (from requests->transformers) (2.10)\n",
            "Requirement already satisfied: certifi>=2017.4.17 in /usr/local/lib/python3.6/dist-packages (from requests->transformers) (2020.6.20)\n",
            "Building wheels for collected packages: sacremoses\n",
            "  Building wheel for sacremoses (setup.py) ... \u001b[?25l\u001b[?25hdone\n",
            "  Created wheel for sacremoses: filename=sacremoses-0.0.43-cp36-none-any.whl size=893260 sha256=ab4fe7ddd50e5cfd51060ebdbc969daf12298282ce6c672656a78af0725b8f67\n",
            "  Stored in directory: /root/.cache/pip/wheels/29/3c/fd/7ce5c3f0666dab31a50123635e6fb5e19ceb42ce38d4e58f45\n",
            "Successfully built sacremoses\n",
            "Installing collected packages: sentencepiece, sacremoses, tokenizers, transformers\n",
            "Successfully installed sacremoses-0.0.43 sentencepiece-0.1.91 tokenizers-0.8.1rc1 transformers-3.0.2\n"
          ],
          "name": "stdout"
        }
      ]
    },
    {
      "cell_type": "code",
      "metadata": {
        "id": "6ljuCwuiLH8y"
      },
      "source": [
        "import torch\n",
        "from torch.utils.data import TensorDataset, DataLoader, RandomSampler, SequentialSampler\n",
        "import torch.nn.functional as F\n",
        "from transformers import BertTokenizer, BertConfig,AdamW, BertForSequenceClassification,get_linear_schedule_with_warmup\n",
        "\n",
        "\n",
        "import pandas as pd\n",
        "import numpy as np\n",
        "import seaborn as sns\n",
        "import matplotlib.pyplot as plt\n",
        "\n",
        "from sklearn.model_selection import train_test_split\n",
        "from sklearn.metrics import confusion_matrix,classification_report\n",
        "# Import and evaluate each test batch using Matthew's correlation coefficient\n",
        "from sklearn.metrics import accuracy_score,matthews_corrcoef\n",
        "\n",
        "from tqdm import tqdm, trange,tnrange,tqdm_notebook\n",
        "import random\n",
        "import os\n",
        "import io\n",
        "% matplotlib inline"
      ],
      "execution_count": null,
      "outputs": []
    },
    {
      "cell_type": "code",
      "metadata": {
        "id": "g8PVG2u7XNzA"
      },
      "source": [
        "# identify and specify the GPU as the device, later in training loop we will load data into device\n",
        "device = torch.device(\"cuda\" if torch.cuda.is_available() else \"cpu\")\n",
        "n_gpu = torch.cuda.device_count()\n",
        "torch.cuda.get_device_name(0)\n",
        "\n",
        "SEED = 19\n",
        "\n",
        "random.seed(SEED)\n",
        "np.random.seed(SEED)\n",
        "torch.manual_seed(SEED)\n",
        "if device == torch.device(\"cuda\"):\n",
        "    torch.cuda.manual_seed_all(SEED)"
      ],
      "execution_count": null,
      "outputs": []
    },
    {
      "cell_type": "code",
      "metadata": {
        "id": "VMeFfoG6XQRB"
      },
      "source": [
        "device = torch.device(\"cuda\")"
      ],
      "execution_count": null,
      "outputs": []
    },
    {
      "cell_type": "code",
      "metadata": {
        "id": "VyUcoH5pXT9p",
        "outputId": "563737f1-f7c5-400e-9df9-3149461a62f1",
        "colab": {
          "base_uri": "https://localhost:8080/",
          "height": 34
        }
      },
      "source": [
        "print(device)"
      ],
      "execution_count": null,
      "outputs": [
        {
          "output_type": "stream",
          "text": [
            "cuda\n"
          ],
          "name": "stdout"
        }
      ]
    },
    {
      "cell_type": "code",
      "metadata": {
        "id": "Tiw9gRdHEVd2",
        "outputId": "516334fb-7a09-4fe4-a7e8-8ae148ab5171",
        "colab": {
          "base_uri": "https://localhost:8080/",
          "height": 34
        }
      },
      "source": [
        "dataset['Label'].unique()"
      ],
      "execution_count": null,
      "outputs": [
        {
          "output_type": "execute_result",
          "data": {
            "text/plain": [
              "array([2, 4, 5, 6, 3, 1])"
            ]
          },
          "metadata": {
            "tags": []
          },
          "execution_count": 11
        }
      ]
    },
    {
      "cell_type": "code",
      "metadata": {
        "id": "_zNEt-gcJco0"
      },
      "source": [
        "# from sklearn.preprocessing import LabelEncoder\n",
        "# labelencoder = LabelEncoder()\n",
        "# dataset['label_enc'] = labelencoder.fit_transform(dataset['Label'])"
      ],
      "execution_count": null,
      "outputs": []
    },
    {
      "cell_type": "markdown",
      "metadata": {
        "id": "tc-s5716LYZH"
      },
      "source": []
    },
    {
      "cell_type": "code",
      "metadata": {
        "id": "ZfSgWNm0JmKF"
      },
      "source": [
        "# print(dataset['label_enc'])"
      ],
      "execution_count": null,
      "outputs": []
    },
    {
      "cell_type": "code",
      "metadata": {
        "id": "zvCAkEFXJxWp"
      },
      "source": [
        "# dataset[['Label','label_enc']].drop_duplicates(keep='first')\n",
        "# dataset.rename(columns={'Label':'label_desc'},inplace=True)\n",
        "# dataset.rename(columns={'label_enc':'Label'},inplace=True)"
      ],
      "execution_count": null,
      "outputs": []
    },
    {
      "cell_type": "code",
      "metadata": {
        "id": "_piIDSuUJ7-O",
        "outputId": "9ad6d01c-faf8-442e-dfa1-43e45570e07a",
        "colab": {
          "base_uri": "https://localhost:8080/",
          "height": 419
        }
      },
      "source": [
        "dataset"
      ],
      "execution_count": null,
      "outputs": [
        {
          "output_type": "execute_result",
          "data": {
            "text/html": [
              "<div>\n",
              "<style scoped>\n",
              "    .dataframe tbody tr th:only-of-type {\n",
              "        vertical-align: middle;\n",
              "    }\n",
              "\n",
              "    .dataframe tbody tr th {\n",
              "        vertical-align: top;\n",
              "    }\n",
              "\n",
              "    .dataframe thead th {\n",
              "        text-align: right;\n",
              "    }\n",
              "</style>\n",
              "<table border=\"1\" class=\"dataframe\">\n",
              "  <thead>\n",
              "    <tr style=\"text-align: right;\">\n",
              "      <th></th>\n",
              "      <th>Text</th>\n",
              "      <th>Label</th>\n",
              "    </tr>\n",
              "  </thead>\n",
              "  <tbody>\n",
              "    <tr>\n",
              "      <th>0</th>\n",
              "      <td>আমি অপমানিত বোধ করিনি</td>\n",
              "      <td>2</td>\n",
              "    </tr>\n",
              "    <tr>\n",
              "      <th>1</th>\n",
              "      <td>আমি যত্নবান এবং জাগ্রত এমন ব্যক্তির আশেপাশে থা...</td>\n",
              "      <td>2</td>\n",
              "    </tr>\n",
              "    <tr>\n",
              "      <th>2</th>\n",
              "      <td>আমার মনে হচ্ছে যে দুর্দশাগুলি আমি দেখতে পাচ্ছি...</td>\n",
              "      <td>2</td>\n",
              "    </tr>\n",
              "    <tr>\n",
              "      <th>3</th>\n",
              "      <td>আমি কম শক্তি অনুভব করছি আমি কেবল তৃষ্ণার্ত</td>\n",
              "      <td>2</td>\n",
              "    </tr>\n",
              "    <tr>\n",
              "      <th>4</th>\n",
              "      <td>আমি সত্যিই বিব্রত বোধ করিনি</td>\n",
              "      <td>2</td>\n",
              "    </tr>\n",
              "    <tr>\n",
              "      <th>...</th>\n",
              "      <td>...</td>\n",
              "      <td>...</td>\n",
              "    </tr>\n",
              "    <tr>\n",
              "      <th>7216</th>\n",
              "      <td>আমি কিছুটা দুঃসাহসী বোধ করছি তাই দেখার চেষ্টা ...</td>\n",
              "      <td>1</td>\n",
              "    </tr>\n",
              "    <tr>\n",
              "      <th>7217</th>\n",
              "      <td>আমি বিভিন্ন বিতর্ক চলতে পেরে আনন্দিত বোধ করি ত...</td>\n",
              "      <td>1</td>\n",
              "    </tr>\n",
              "    <tr>\n",
              "      <th>7218</th>\n",
              "      <td>আপনি আমার আমন্ত্রণটি গ্রহণ করেছেন বলে আমি সম্ম...</td>\n",
              "      <td>1</td>\n",
              "    </tr>\n",
              "    <tr>\n",
              "      <th>7219</th>\n",
              "      <td>আমি প্রায়শই রঙিন কোড থেকে নীল এস এর মতো নৈমিত...</td>\n",
              "      <td>1</td>\n",
              "    </tr>\n",
              "    <tr>\n",
              "      <th>7220</th>\n",
              "      <td>আমি খুব সুন্দর এবং গ্ল্যামারাস বোধ করি</td>\n",
              "      <td>1</td>\n",
              "    </tr>\n",
              "  </tbody>\n",
              "</table>\n",
              "<p>7221 rows × 2 columns</p>\n",
              "</div>"
            ],
            "text/plain": [
              "                                                   Text  Label\n",
              "0                                 আমি অপমানিত বোধ করিনি      2\n",
              "1     আমি যত্নবান এবং জাগ্রত এমন ব্যক্তির আশেপাশে থা...      2\n",
              "2     আমার মনে হচ্ছে যে দুর্দশাগুলি আমি দেখতে পাচ্ছি...      2\n",
              "3            আমি কম শক্তি অনুভব করছি আমি কেবল তৃষ্ণার্ত      2\n",
              "4                           আমি সত্যিই বিব্রত বোধ করিনি      2\n",
              "...                                                 ...    ...\n",
              "7216  আমি কিছুটা দুঃসাহসী বোধ করছি তাই দেখার চেষ্টা ...      1\n",
              "7217  আমি বিভিন্ন বিতর্ক চলতে পেরে আনন্দিত বোধ করি ত...      1\n",
              "7218  আপনি আমার আমন্ত্রণটি গ্রহণ করেছেন বলে আমি সম্ম...      1\n",
              "7219  আমি প্রায়শই রঙিন কোড থেকে নীল এস এর মতো নৈমিত...      1\n",
              "7220             আমি খুব সুন্দর এবং গ্ল্যামারাস বোধ করি      1\n",
              "\n",
              "[7221 rows x 2 columns]"
            ]
          },
          "metadata": {
            "tags": []
          },
          "execution_count": 12
        }
      ]
    },
    {
      "cell_type": "code",
      "metadata": {
        "id": "oANmOfOcJ9W2"
      },
      "source": [
        "## create label and sentence list\n",
        "sentences = dataset.Text.values"
      ],
      "execution_count": null,
      "outputs": []
    },
    {
      "cell_type": "code",
      "metadata": {
        "id": "nywL3_whKO8T",
        "outputId": "124bd7d4-cfee-4e9b-f98e-f037b5f384e3",
        "colab": {
          "base_uri": "https://localhost:8080/",
          "height": 139
        }
      },
      "source": [
        "print(sentences)"
      ],
      "execution_count": null,
      "outputs": [
        {
          "output_type": "stream",
          "text": [
            "['আমি অপমানিত বোধ করিনি'\n",
            " 'আমি যত্নবান এবং জাগ্রত এমন ব্যক্তির আশেপাশে থাকা থেকে আমি এতটাই আশাহত বোধ থেকে বিরত থাকতে পারি'\n",
            " 'আমার মনে হচ্ছে যে দুর্দশাগুলি আমি দেখতে পাচ্ছি তা বোঝাতে চাই' ...\n",
            " 'আপনি আমার আমন্ত্রণটি গ্রহণ করেছেন বলে আমি সম্মানিত বোধ করছি'\n",
            " 'আমি প্রায়শই রঙিন কোড থেকে নীল এস এর মতো নৈমিত্তিক কথোপকথনেও যে কোনও বিষয়ে রক্ষা করার প্রয়োজন বোধ করি সাধারণত ক্রিসমাসের ধর্মান্ধ এবং আমি ঝাঁপিয়ে পড়ে এবং'\n",
            " 'আমি খুব সুন্দর এবং গ্ল্যামারাস বোধ করি']\n"
          ],
          "name": "stdout"
        }
      ]
    },
    {
      "cell_type": "code",
      "metadata": {
        "id": "wOFvtsHDKQxK",
        "outputId": "e558597f-d006-4479-c0c3-46b40b05635f",
        "colab": {
          "base_uri": "https://localhost:8080/",
          "height": 136
        }
      },
      "source": [
        "#check distribution of data based on labels\n",
        "print(\"Distribution of data based on labels: \",dataset.Label.value_counts())"
      ],
      "execution_count": null,
      "outputs": [
        {
          "output_type": "stream",
          "text": [
            "Distribution of data based on labels:  3    1399\n",
            "4    1376\n",
            "1    1362\n",
            "2    1352\n",
            "5    1199\n",
            "6     533\n",
            "Name: Label, dtype: int64\n"
          ],
          "name": "stdout"
        }
      ]
    },
    {
      "cell_type": "code",
      "metadata": {
        "id": "3FhUQMYcKZLl"
      },
      "source": [
        "MAX_LEN = 512"
      ],
      "execution_count": null,
      "outputs": []
    },
    {
      "cell_type": "code",
      "metadata": {
        "id": "FX4Rt9fLK4E_",
        "outputId": "5ee9bff6-db0c-4e11-ff78-d7796d903a91",
        "colab": {
          "base_uri": "https://localhost:8080/",
          "height": 66,
          "referenced_widgets": [
            "de0d681b2dc148678f7b62cff57152d9",
            "c048963c2f724010ba62be249d62c3f0",
            "d1d7b4b427a84649bf13067bf1bd8b71",
            "8df3fd8237cc47808aa60fd6c8319688",
            "bb1beee241c74bd7a7b3f56d25efeec3",
            "e814ef3463d6426e992e6a464cef3457",
            "bca25d4d51a54115a2a783d8bc7bde2a",
            "3b913c3c3a8245d9a70398dbc765be1e"
          ]
        }
      },
      "source": [
        "## Import BERT tokenizer, that is used to convert our text into tokens that corresponds to BERT library\n",
        "tokenizer = BertTokenizer.from_pretrained('bert-base-uncased',do_lower_case=False)\n",
        "# input_ids = [tokenizer.encode(sent, add_special_tokens=True,max_length=MAX_LEN,pad_to_max_length=True) for sent in sentences]"
      ],
      "execution_count": null,
      "outputs": [
        {
          "output_type": "display_data",
          "data": {
            "application/vnd.jupyter.widget-view+json": {
              "model_id": "de0d681b2dc148678f7b62cff57152d9",
              "version_minor": 0,
              "version_major": 2
            },
            "text/plain": [
              "HBox(children=(FloatProgress(value=0.0, description='Downloading', max=231508.0, style=ProgressStyle(descripti…"
            ]
          },
          "metadata": {
            "tags": []
          }
        },
        {
          "output_type": "stream",
          "text": [
            "\n"
          ],
          "name": "stdout"
        }
      ]
    },
    {
      "cell_type": "code",
      "metadata": {
        "id": "6n4AgCVOMB6Z",
        "outputId": "0533fa62-cfd9-4eba-91d3-c5ed0e7ff52a",
        "colab": {
          "base_uri": "https://localhost:8080/",
          "height": 34
        }
      },
      "source": [
        "print(tokenizer)"
      ],
      "execution_count": null,
      "outputs": [
        {
          "output_type": "stream",
          "text": [
            "<transformers.tokenization_bert.BertTokenizer object at 0x7fcc67f2f828>\n"
          ],
          "name": "stdout"
        }
      ]
    },
    {
      "cell_type": "code",
      "metadata": {
        "id": "eteawwjPPYNi"
      },
      "source": [
        "input_ids = [tokenizer.encode(sent, add_special_tokens=True,truncation=True,pad_to_max_length=True, max_length=100) for sent in sentences]"
      ],
      "execution_count": null,
      "outputs": []
    },
    {
      "cell_type": "code",
      "metadata": {
        "id": "mOGi-rLrPb3A",
        "outputId": "99f8e34f-1b9a-4695-a4c8-5b2528ae5014",
        "colab": {
          "base_uri": "https://localhost:8080/",
          "height": 187
        }
      },
      "source": [
        "print(input_ids)"
      ],
      "execution_count": null,
      "outputs": [
        {
          "output_type": "stream",
          "text": [
            "IOPub data rate exceeded.\n",
            "The notebook server will temporarily stop sending output\n",
            "to the client in order to avoid crashing it.\n",
            "To change this limit, set the config variable\n",
            "`--NotebookApp.iopub_data_rate_limit`.\n",
            "\n",
            "Current values:\n",
            "NotebookApp.iopub_data_rate_limit=1000000.0 (bytes/sec)\n",
            "NotebookApp.rate_limit_window=3.0 (secs)\n",
            "\n"
          ],
          "name": "stderr"
        }
      ]
    },
    {
      "cell_type": "code",
      "metadata": {
        "id": "1U1RcvdXQErO"
      },
      "source": [
        "labels = dataset.Label.values"
      ],
      "execution_count": null,
      "outputs": []
    },
    {
      "cell_type": "code",
      "metadata": {
        "id": "-AJ3EwiAQpeo",
        "outputId": "1c3e798e-1395-4249-ab88-1cc72e3e9ccc",
        "colab": {
          "base_uri": "https://localhost:8080/",
          "height": 34
        }
      },
      "source": [
        "print(labels)"
      ],
      "execution_count": null,
      "outputs": [
        {
          "output_type": "stream",
          "text": [
            "[2 2 2 ... 1 1 1]\n"
          ],
          "name": "stdout"
        }
      ]
    },
    {
      "cell_type": "code",
      "metadata": {
        "id": "q-bF33ygQ0Ju",
        "outputId": "f18cb364-9d9f-456b-c10e-e5d392195648",
        "colab": {
          "base_uri": "https://localhost:8080/",
          "height": 71
        }
      },
      "source": [
        "print(\"Actual sentence before tokenization: \",sentences[2])\n",
        "print(\"Encoded Input from dataset: \",input_ids[2])"
      ],
      "execution_count": null,
      "outputs": [
        {
          "output_type": "stream",
          "text": [
            "Actual sentence before tokenization:  আমার মনে হচ্ছে যে দুর্দশাগুলি আমি দেখতে পাচ্ছি তা বোঝাতে চাই\n",
            "Encoded Input from dataset:  [101, 1348, 29906, 29914, 29908, 1370, 29902, 29917, 100, 1371, 29917, 100, 1348, 29906, 29915, 1364, 29917, 29890, 29898, 29917, 100, 1362, 29914, 100, 1356, 29914, 29885, 102, 0, 0, 0, 0, 0, 0, 0, 0, 0, 0, 0, 0, 0, 0, 0, 0, 0, 0, 0, 0, 0, 0, 0, 0, 0, 0, 0, 0, 0, 0, 0, 0, 0, 0, 0, 0, 0, 0, 0, 0, 0, 0, 0, 0, 0, 0, 0, 0, 0, 0, 0, 0, 0, 0, 0, 0, 0, 0, 0, 0, 0, 0, 0, 0, 0, 0, 0, 0, 0, 0, 0, 0]\n"
          ],
          "name": "stdout"
        }
      ]
    },
    {
      "cell_type": "code",
      "metadata": {
        "id": "zBvFB5dRQ37Z",
        "outputId": "3afccbdf-6755-4b21-fe75-cd3f3362a40d",
        "colab": {
          "base_uri": "https://localhost:8080/",
          "height": 54
        }
      },
      "source": [
        "## Create attention mask\n",
        "attention_masks = []\n",
        "## Create a mask of 1 for all input tokens and 0 for all padding tokens\n",
        "attention_masks = [[float(i>0) for i in seq] for seq in input_ids]\n",
        "print(attention_masks[2])"
      ],
      "execution_count": null,
      "outputs": [
        {
          "output_type": "stream",
          "text": [
            "[1.0, 1.0, 1.0, 1.0, 1.0, 1.0, 1.0, 1.0, 1.0, 1.0, 1.0, 1.0, 1.0, 1.0, 1.0, 1.0, 1.0, 1.0, 1.0, 1.0, 1.0, 1.0, 1.0, 1.0, 1.0, 1.0, 1.0, 1.0, 0.0, 0.0, 0.0, 0.0, 0.0, 0.0, 0.0, 0.0, 0.0, 0.0, 0.0, 0.0, 0.0, 0.0, 0.0, 0.0, 0.0, 0.0, 0.0, 0.0, 0.0, 0.0, 0.0, 0.0, 0.0, 0.0, 0.0, 0.0, 0.0, 0.0, 0.0, 0.0, 0.0, 0.0, 0.0, 0.0, 0.0, 0.0, 0.0, 0.0, 0.0, 0.0, 0.0, 0.0, 0.0, 0.0, 0.0, 0.0, 0.0, 0.0, 0.0, 0.0, 0.0, 0.0, 0.0, 0.0, 0.0, 0.0, 0.0, 0.0, 0.0, 0.0, 0.0, 0.0, 0.0, 0.0, 0.0, 0.0, 0.0, 0.0, 0.0, 0.0]\n"
          ],
          "name": "stdout"
        }
      ]
    },
    {
      "cell_type": "code",
      "metadata": {
        "id": "bKXiStXjQ9yF"
      },
      "source": [
        "\n",
        "train_inputs,validation_inputs,train_labels,validation_labels = train_test_split(input_ids,labels,random_state=41,test_size=0.1)\n",
        "train_masks,validation_masks,_,_ = train_test_split(attention_masks,input_ids,random_state=41,test_size=0.1)"
      ],
      "execution_count": null,
      "outputs": []
    },
    {
      "cell_type": "code",
      "metadata": {
        "id": "AmU6e4VoRUXj",
        "outputId": "752a2948-9dda-4110-c2ae-f30b597a1954",
        "colab": {
          "base_uri": "https://localhost:8080/",
          "height": 187
        }
      },
      "source": [
        "print(train_inputs)\n",
        "print(len(train_inputs))"
      ],
      "execution_count": null,
      "outputs": [
        {
          "output_type": "stream",
          "text": [
            "IOPub data rate exceeded.\n",
            "The notebook server will temporarily stop sending output\n",
            "to the client in order to avoid crashing it.\n",
            "To change this limit, set the config variable\n",
            "`--NotebookApp.iopub_data_rate_limit`.\n",
            "\n",
            "Current values:\n",
            "NotebookApp.iopub_data_rate_limit=1000000.0 (bytes/sec)\n",
            "NotebookApp.rate_limit_window=3.0 (secs)\n",
            "\n"
          ],
          "name": "stderr"
        }
      ]
    },
    {
      "cell_type": "code",
      "metadata": {
        "id": "H268NVQkREQv"
      },
      "source": [
        "# convert all our data into torch tensors, required data type for our model\n",
        "train_inputs = torch.tensor(train_inputs)\n",
        "validation_inputs = torch.tensor(validation_inputs)\n",
        "train_labels = torch.tensor(train_labels)\n",
        "validation_labels = torch.tensor(validation_labels)\n",
        "train_masks = torch.tensor(train_masks)\n",
        "validation_masks = torch.tensor(validation_masks)"
      ],
      "execution_count": null,
      "outputs": []
    },
    {
      "cell_type": "code",
      "metadata": {
        "id": "ilZZKSXBUyob",
        "outputId": "1be86762-0e59-4a78-bf51-0a34e0f05b8b",
        "colab": {
          "base_uri": "https://localhost:8080/",
          "height": 68
        }
      },
      "source": [
        "print(len(train_labels))\n",
        "print(len(train_inputs))\n",
        "print(len(train_masks))"
      ],
      "execution_count": null,
      "outputs": [
        {
          "output_type": "stream",
          "text": [
            "6498\n",
            "6498\n",
            "6498\n"
          ],
          "name": "stdout"
        }
      ]
    },
    {
      "cell_type": "code",
      "metadata": {
        "id": "JwsSBID_RIuy"
      },
      "source": [
        "# Select a batch size for training. For fine-tuning BERT on a specific task, the authors recommend a batch size of 16 or 32\n",
        "batch_size = 32\n",
        "\n",
        "# Create an iterator of our data with torch DataLoader. This helps save on memory during training because, unlike a for loop,\n",
        "# with an iterator the entire dataset does not need to be loaded into memory\n",
        "train_data = TensorDataset(train_inputs,train_masks,train_labels)\n",
        "train_sampler = RandomSampler(train_data)\n",
        "train_dataloader = DataLoader(train_data,sampler=train_sampler,batch_size=batch_size)\n",
        "\n",
        "validation_data = TensorDataset(validation_inputs,validation_masks,validation_labels)\n",
        "validation_sampler = RandomSampler(validation_data)\n",
        "validation_dataloader = DataLoader(validation_data,sampler=validation_sampler,batch_size=batch_size)"
      ],
      "execution_count": null,
      "outputs": []
    },
    {
      "cell_type": "code",
      "metadata": {
        "id": "h4mbbDvTTr7o",
        "outputId": "d81907f5-fe42-4e6a-92dd-b484b082b188",
        "colab": {
          "base_uri": "https://localhost:8080/",
          "height": 306
        }
      },
      "source": [
        "train_data[0]"
      ],
      "execution_count": null,
      "outputs": [
        {
          "output_type": "execute_result",
          "data": {
            "text/plain": [
              "(tensor([  101,  1348, 29906, 29915,   100,   100,  1353, 29908, 29893, 29915,\n",
              "           102,     0,     0,     0,     0,     0,     0,     0,     0,     0,\n",
              "             0,     0,     0,     0,     0,     0,     0,     0,     0,     0,\n",
              "             0,     0,     0,     0,     0,     0,     0,     0,     0,     0,\n",
              "             0,     0,     0,     0,     0,     0,     0,     0,     0,     0,\n",
              "             0,     0,     0,     0,     0,     0,     0,     0,     0,     0,\n",
              "             0,     0,     0,     0,     0,     0,     0,     0,     0,     0,\n",
              "             0,     0,     0,     0,     0,     0,     0,     0,     0,     0,\n",
              "             0,     0,     0,     0,     0,     0,     0,     0,     0,     0,\n",
              "             0,     0,     0,     0,     0,     0,     0,     0,     0,     0]),\n",
              " tensor([1., 1., 1., 1., 1., 1., 1., 1., 1., 1., 1., 0., 0., 0., 0., 0., 0., 0.,\n",
              "         0., 0., 0., 0., 0., 0., 0., 0., 0., 0., 0., 0., 0., 0., 0., 0., 0., 0.,\n",
              "         0., 0., 0., 0., 0., 0., 0., 0., 0., 0., 0., 0., 0., 0., 0., 0., 0., 0.,\n",
              "         0., 0., 0., 0., 0., 0., 0., 0., 0., 0., 0., 0., 0., 0., 0., 0., 0., 0.,\n",
              "         0., 0., 0., 0., 0., 0., 0., 0., 0., 0., 0., 0., 0., 0., 0., 0., 0., 0.,\n",
              "         0., 0., 0., 0., 0., 0., 0., 0., 0., 0.]),\n",
              " tensor(2))"
            ]
          },
          "metadata": {
            "tags": []
          },
          "execution_count": 30
        }
      ]
    },
    {
      "cell_type": "code",
      "metadata": {
        "id": "Pq_s6nnEVpha",
        "outputId": "5dd253fa-1997-4fd9-db5b-433fada25617",
        "colab": {
          "base_uri": "https://localhost:8080/",
          "height": 34
        }
      },
      "source": [
        "print(len(train_dataloader))"
      ],
      "execution_count": null,
      "outputs": [
        {
          "output_type": "stream",
          "text": [
            "204\n"
          ],
          "name": "stdout"
        }
      ]
    },
    {
      "cell_type": "code",
      "metadata": {
        "id": "orSKBpISSdgH",
        "outputId": "2e221bfc-8776-471c-96b9-207b6fa597c1",
        "colab": {
          "base_uri": "https://localhost:8080/",
          "height": 122
        }
      },
      "source": [
        "# Load BertForSequenceClassification, the pretrained BERT model with a single linear classification layer on top.\n",
        "model = BertForSequenceClassification.from_pretrained(\"bert-base-uncased\", num_labels=7)\n",
        "\n",
        "# Parameters:\n",
        "lr = 2e-5\n",
        "adam_epsilon = 1e-8\n",
        "\n",
        "# Number of training epochs (authors recommend between 2 and 4)\n",
        "epochs = 2\n",
        "\n",
        "num_warmup_steps = 0\n",
        "# num_training_steps = len(train_dataloader)*epochs\n",
        "num_training_steps = 5*epochs\n",
        "\n",
        "### In Transformers, optimizer and schedules are splitted and instantiated like this:\n",
        "optimizer = AdamW(model.parameters(), lr=lr,eps=adam_epsilon,correct_bias=False)  # To reproduce BertAdam specific behavior set correct_bias=False\n",
        "scheduler = get_linear_schedule_with_warmup(optimizer, num_warmup_steps=num_warmup_steps, num_training_steps=num_training_steps)  # PyTorch scheduler"
      ],
      "execution_count": null,
      "outputs": [
        {
          "output_type": "stream",
          "text": [
            "Some weights of the model checkpoint at bert-base-uncased were not used when initializing BertForSequenceClassification: ['cls.predictions.bias', 'cls.predictions.transform.dense.weight', 'cls.predictions.transform.dense.bias', 'cls.predictions.decoder.weight', 'cls.seq_relationship.weight', 'cls.seq_relationship.bias', 'cls.predictions.transform.LayerNorm.weight', 'cls.predictions.transform.LayerNorm.bias']\n",
            "- This IS expected if you are initializing BertForSequenceClassification from the checkpoint of a model trained on another task or with another architecture (e.g. initializing a BertForSequenceClassification model from a BertForPretraining model).\n",
            "- This IS NOT expected if you are initializing BertForSequenceClassification from the checkpoint of a model that you expect to be exactly identical (initializing a BertForSequenceClassification model from a BertForSequenceClassification model).\n",
            "Some weights of BertForSequenceClassification were not initialized from the model checkpoint at bert-base-uncased and are newly initialized: ['classifier.weight', 'classifier.bias']\n",
            "You should probably TRAIN this model on a down-stream task to be able to use it for predictions and inference.\n"
          ],
          "name": "stderr"
        }
      ]
    },
    {
      "cell_type": "code",
      "metadata": {
        "id": "QbrwnlOvYmem"
      },
      "source": [
        "# print((b_labels))"
      ],
      "execution_count": null,
      "outputs": []
    },
    {
      "cell_type": "code",
      "metadata": {
        "id": "TxuRzFryWzUQ",
        "outputId": "0aac8ad7-324a-4ebd-c93c-bb048fe5a948",
        "colab": {
          "base_uri": "https://localhost:8080/",
          "height": 1000,
          "referenced_widgets": [
            "b4ef4c5e64554a25856d00a5c1106633",
            "1fe0cd87c7b1409fa40389c55f088b93",
            "ee18bbc10e6147839f2b489cd770e37f",
            "277bd571e7184d9cb88d8468493f99bf",
            "a845efca6fa34a40a705ccd844836316",
            "e9129b0a41f14b00b852423bc716d8c7",
            "b46f06be1b4545e4b739d8930cefc6e2",
            "488e40862c9d4feba06c09dd18c7d414"
          ]
        }
      },
      "source": [
        "## Store our loss and accuracy for plotting\n",
        "train_loss_set = []\n",
        "learning_rate = []\n",
        "\n",
        "# Gradients gets accumulated by default\n",
        "model.zero_grad()\n",
        "\n",
        "# tnrange is a tqdm wrapper around the normal python range\n",
        "for _ in tnrange(1,epochs+1,desc='Epoch'):\n",
        "  print(\"<\" + \"=\"*22 + F\" Epoch {_} \"+ \"=\"*22 + \">\")\n",
        "  # Calculate total loss for this epoch\n",
        "  batch_loss = 0\n",
        "\n",
        "  for step, batch in enumerate(train_dataloader):\n",
        "    # Set our model to training mode (as opposed to evaluation mode)\n",
        "    model.train()\n",
        "    print( step)\n",
        "    # Add batch to GPU\n",
        "    # batch = tuple(t.to(device) for t in batch)\n",
        "    # Unpack the inputs from our dataloader\n",
        "    b_input_ids, b_input_mask, b_labels = batch\n",
        "\n",
        "    # Forward pass\n",
        "    outputs = model(b_input_ids, token_type_ids=None, attention_mask=b_input_mask, labels=b_labels)\n",
        "    loss = outputs[0]\n",
        "\n",
        "    # Backward pass\n",
        "    loss.backward()\n",
        "\n",
        "    # Clip the norm of the gradients to 1.0\n",
        "    # Gradient clipping is not in AdamW anymore\n",
        "    torch.nn.utils.clip_grad_norm_(model.parameters(), 1.0)\n",
        "\n",
        "    # Update parameters and take a step using the computed gradient\n",
        "    optimizer.step()\n",
        "\n",
        "    # Update learning rate schedule\n",
        "    scheduler.step()\n",
        "\n",
        "    # Clear the previous accumulated gradients\n",
        "    optimizer.zero_grad()\n",
        "\n",
        "    # Update tracking variables\n",
        "    batch_loss += loss.item()\n",
        "\n",
        "  # Calculate the average loss over the training data.\n",
        "  avg_train_loss = batch_loss / len(train_dataloader)\n",
        "\n",
        "  #store the current learning rate\n",
        "  for param_group in optimizer.param_groups:\n",
        "    print(\"\\n\\tCurrent Learning rate: \",param_group['lr'])\n",
        "    learning_rate.append(param_group['lr'])\n",
        "\n",
        "  train_loss_set.append(avg_train_loss)\n",
        "  print(F'\\n\\tAverage Training loss: {avg_train_loss}')\n",
        "\n",
        "  # Validation\n",
        "\n",
        "  # Put model in evaluation mode to evaluate loss on the validation set\n",
        "  model.eval()\n",
        "\n",
        "  # Tracking variables\n",
        "  eval_accuracy,eval_mcc_accuracy,nb_eval_steps = 0, 0, 0\n",
        "\n",
        "  # Evaluate data for one epoch\n",
        "  for batch in validation_dataloader:\n",
        "    # Add batch to GPU\n",
        "    batch = tuple(t.to(device) for t in batch)\n",
        "    # Unpack the inputs from our dataloader\n",
        "    b_input_ids, b_input_mask, b_labels = batch\n",
        "    # Telling the model not to compute or store gradients, saving memory and speeding up validation\n",
        "    with torch.no_grad():\n",
        "      # Forward pass, calculate logit predictions\n",
        "      logits = model(b_input_ids, token_type_ids=None, attention_mask=b_input_mask)\n",
        "\n",
        "    # Move logits and labels to CPU\n",
        "    logits = logits[0].to('cpu').numpy()\n",
        "    label_ids = b_labels.to('cpu').numpy()\n",
        "\n",
        "    pred_flat = np.argmax(logits, axis=1).flatten()\n",
        "    labels_flat = label_ids.flatten()\n",
        "\n",
        "    df_metrics=pd.DataFrame({'Epoch':epochs,'Actual_class':labels_flat,'Predicted_class':pred_flat})\n",
        "\n",
        "    tmp_eval_accuracy = accuracy_score(labels_flat,pred_flat)\n",
        "    tmp_eval_mcc_accuracy = matthews_corrcoef(labels_flat, pred_flat)\n",
        "\n",
        "    eval_accuracy += tmp_eval_accuracy\n",
        "    eval_mcc_accuracy += tmp_eval_mcc_accuracy\n",
        "    nb_eval_steps += 1\n",
        "    print(\"eval : \", tmp_eval_accuracy)\n",
        "\n",
        "  print(F'\\n\\tValidation Accuracy: {eval_accuracy/nb_eval_steps}')\n",
        "  print(F'\\n\\tValidation MCC Accuracy: {eval_mcc_accuracy/nb_eval_steps}')"
      ],
      "execution_count": null,
      "outputs": [
        {
          "output_type": "stream",
          "text": [
            "/usr/local/lib/python3.6/dist-packages/ipykernel_launcher.py:9: TqdmDeprecationWarning: Please use `tqdm.notebook.trange` instead of `tqdm.tnrange`\n",
            "  if __name__ == '__main__':\n"
          ],
          "name": "stderr"
        },
        {
          "output_type": "display_data",
          "data": {
            "application/vnd.jupyter.widget-view+json": {
              "model_id": "b4ef4c5e64554a25856d00a5c1106633",
              "version_minor": 0,
              "version_major": 2
            },
            "text/plain": [
              "HBox(children=(FloatProgress(value=0.0, description='Epoch', max=2.0, style=ProgressStyle(description_width='i…"
            ]
          },
          "metadata": {
            "tags": []
          }
        },
        {
          "output_type": "stream",
          "text": [
            "<====================== Epoch 1 ======================>\n",
            "0\n",
            "1\n",
            "2\n",
            "3\n",
            "4\n",
            "5\n",
            "6\n",
            "7\n",
            "8\n",
            "9\n",
            "10\n",
            "11\n",
            "12\n",
            "13\n",
            "14\n",
            "15\n",
            "16\n",
            "17\n",
            "18\n",
            "19\n",
            "20\n",
            "21\n",
            "22\n",
            "23\n",
            "24\n",
            "25\n",
            "26\n",
            "27\n",
            "28\n",
            "29\n",
            "30\n",
            "31\n",
            "32\n",
            "33\n",
            "34\n",
            "35\n",
            "36\n",
            "37\n",
            "38\n",
            "39\n",
            "40\n",
            "41\n",
            "42\n",
            "43\n",
            "44\n",
            "45\n",
            "46\n",
            "47\n",
            "48\n",
            "49\n",
            "50\n",
            "51\n",
            "52\n",
            "53\n",
            "54\n",
            "55\n"
          ],
          "name": "stdout"
        }
      ]
    },
    {
      "cell_type": "code",
      "metadata": {
        "id": "_DGN6VP1XDxF",
        "outputId": "34cf5025-e832-4f10-9c42-3cc2f33ae0b7",
        "colab": {
          "base_uri": "https://localhost:8080/",
          "height": 353
        }
      },
      "source": [
        "!nvidia-smi"
      ],
      "execution_count": null,
      "outputs": [
        {
          "output_type": "stream",
          "text": [
            "Sun Aug 23 18:26:53 2020       \n",
            "+-----------------------------------------------------------------------------+\n",
            "| NVIDIA-SMI 450.57       Driver Version: 418.67       CUDA Version: 10.1     |\n",
            "|-------------------------------+----------------------+----------------------+\n",
            "| GPU  Name        Persistence-M| Bus-Id        Disp.A | Volatile Uncorr. ECC |\n",
            "| Fan  Temp  Perf  Pwr:Usage/Cap|         Memory-Usage | GPU-Util  Compute M. |\n",
            "|                               |                      |               MIG M. |\n",
            "|===============================+======================+======================|\n",
            "|   0  Tesla T4            Off  | 00000000:00:04.0 Off |                    0 |\n",
            "| N/A   41C    P8    10W /  70W |     10MiB / 15079MiB |      0%      Default |\n",
            "|                               |                      |                 ERR! |\n",
            "+-------------------------------+----------------------+----------------------+\n",
            "                                                                               \n",
            "+-----------------------------------------------------------------------------+\n",
            "| Processes:                                                                  |\n",
            "|  GPU   GI   CI        PID   Type   Process name                  GPU Memory |\n",
            "|        ID   ID                                                   Usage      |\n",
            "|=============================================================================|\n",
            "|  No running processes found                                                 |\n",
            "+-----------------------------------------------------------------------------+\n"
          ],
          "name": "stdout"
        }
      ]
    },
    {
      "cell_type": "code",
      "metadata": {
        "id": "dFxi-lawkrbO",
        "outputId": "ebd5d7d4-abcc-4dc1-8441-e1cac755a7fa",
        "colab": {
          "base_uri": "https://localhost:8080/",
          "height": 34
        }
      },
      "source": [
        "import torch\n",
        "torch.cuda.is_available()"
      ],
      "execution_count": null,
      "outputs": [
        {
          "output_type": "execute_result",
          "data": {
            "text/plain": [
              "True"
            ]
          },
          "metadata": {
            "tags": []
          },
          "execution_count": 42
        }
      ]
    },
    {
      "cell_type": "code",
      "metadata": {
        "id": "f3gviTY_kxgt",
        "outputId": "eb16f716-4879-4fca-ef19-65abcc7bfe90",
        "colab": {
          "base_uri": "https://localhost:8080/",
          "height": 35
        }
      },
      "source": [
        "import tensorflow as tf\n",
        "tf.test.gpu_device_name()"
      ],
      "execution_count": null,
      "outputs": [
        {
          "output_type": "execute_result",
          "data": {
            "application/vnd.google.colaboratory.intrinsic+json": {
              "type": "string"
            },
            "text/plain": [
              "'/device:GPU:0'"
            ]
          },
          "metadata": {
            "tags": []
          },
          "execution_count": 43
        }
      ]
    },
    {
      "cell_type": "code",
      "metadata": {
        "id": "Vf4SN5nyk1hb"
      },
      "source": [],
      "execution_count": null,
      "outputs": []
    },
    {
      "cell_type": "markdown",
      "metadata": {
        "id": "jJiQWcLzHzEd"
      },
      "source": [
        "***USING GRU***"
      ]
    },
    {
      "cell_type": "code",
      "metadata": {
        "id": "FUk-zxN6H23h",
        "outputId": "1fba5b91-b095-41fb-de26-7969d9d4fee4",
        "colab": {
          "base_uri": "https://localhost:8080/"
        }
      },
      "source": [
        "\n",
        "from google.colab import drive\n",
        "drive.mount('/content/drive')"
      ],
      "execution_count": null,
      "outputs": [
        {
          "output_type": "stream",
          "text": [
            "Mounted at /content/drive\n"
          ],
          "name": "stdout"
        }
      ]
    },
    {
      "cell_type": "code",
      "metadata": {
        "id": "QbUGx_uvH5eE"
      },
      "source": [
        "import numpy as np\n",
        "import matplotlib.pyplot as plt\n",
        "%matplotlib inline\n",
        "import pandas as pd\n",
        "import seaborn as sns\n",
        "import re,nltk,json\n",
        "import tensorflow as tf\n",
        "from tensorflow import keras\n",
        "from tensorflow.keras import regularizers\n",
        "from tensorflow.keras.preprocessing.sequence import pad_sequences\n",
        "# from keras import models\n",
        "# from keras import layers\n",
        "from tensorflow.keras.layers import LSTM,GRU\n",
        "from tensorflow.keras.models import load_model\n",
        "from sklearn.metrics import confusion_matrix\n",
        "from sklearn.metrics import classification_report\n",
        "from sklearn.model_selection import train_test_split\n",
        "from sklearn.metrics import accuracy_score,precision_score,recall_score,f1_score,roc_auc_score\n",
        "from sklearn.metrics import average_precision_score,roc_auc_score, roc_curve, precision_recall_curve\n",
        "from sklearn.preprocessing import LabelEncoder\n",
        "from tensorflow.keras.preprocessing.text import Tokenizer\n",
        "np.random.seed(42)\n",
        "class color: # Text style\n",
        "   PURPLE = '\\033[95m'\n",
        "   CYAN = '\\033[96m'\n",
        "   DARKCYAN = '\\033[36m'\n",
        "   BLUE = '\\033[94m'\n",
        "   GREEN = '\\033[92m'\n",
        "   YELLOW = '\\033[93m'\n",
        "   RED = '\\033[91m'\n",
        "   BOLD = '\\033[1m'\n",
        "   UNDERLINE = '\\033[4m'\n",
        "   END = '\\033[0m'\n",
        "# dataset path\n",
        "path = '/content/drive/My Drive/Bangla_NLP/'"
      ],
      "execution_count": null,
      "outputs": []
    },
    {
      "cell_type": "code",
      "metadata": {
        "id": "wFswGAFHBJNP"
      },
      "source": [
        "# txt_file = open(path+\"train.txt\",\"r\")\n",
        "# data = pd.read_csv(path+'finalpuredataset.csv',encoding='utf-8')\n",
        "# f = txt_file.readlines()\n",
        "# print(f)\n",
        "# import csv\n",
        "# with open(path+'finalpuredataset_29_8.csv', 'w', newline='') as file:\n",
        "#   writer = csv.writer(file)\n",
        "#   writer.writerow([\"Text\", \"Label\"])\n",
        "#   for line in f:\n",
        "#     splitted_data = line.split(' ',1)\n",
        "#     if(splitted_data[0] == \"surprise\"):\n",
        "#       print(splitted_data)\n",
        "#       writer.writerow([splitted_data[1], 6])\n",
        "\n",
        "#   for ind in data.index:\n",
        "#     #  print(data['Text'][ind], data['Label'][ind])\n",
        "#      writer.writerow([data['Text'][ind], data['Label'][ind]])\n",
        ""
      ],
      "execution_count": null,
      "outputs": []
    },
    {
      "cell_type": "code",
      "metadata": {
        "id": "bKxliqMLIYL1",
        "outputId": "a0716e11-92e4-482c-f3d5-314585761c85",
        "colab": {
          "base_uri": "https://localhost:8080/",
          "height": 344
        }
      },
      "source": [
        "data = pd.read_csv(path+'finalpuredataset.csv',encoding='utf-8')\n",
        "# data = pd.read_csv('finalbangladataset.csv',encoding='utf-8')\n",
        "data = data.sample(frac=1)\n",
        "# data = data.drop(data[data.Label == 5].index)\n",
        "print(f'Total number of Emotion: {len(data)}')\n",
        "sns.set(font_scale=1.4)\n",
        "data['Label'].value_counts().plot(kind='barh', figsize=(6, 4))\n",
        "plt.xlabel(\"Number of Sentence\", labelpad=12)\n",
        "plt.ylabel(\"Label\", labelpad=12)\n",
        "plt.yticks(rotation = 45)\n",
        "plt.title(\"Dataset Distribution\", y=1.02);"
      ],
      "execution_count": null,
      "outputs": [
        {
          "output_type": "stream",
          "text": [
            "Total number of Emotion: 7221\n"
          ],
          "name": "stdout"
        },
        {
          "output_type": "display_data",
          "data": {
            "image/png": "[encoded data removed]",
            "text/plain": [
              "<Figure size 432x288 with 1 Axes>"
            ]
          },
          "metadata": {
            "tags": []
          }
        }
      ]
    },
    {
      "cell_type": "code",
      "metadata": {
        "id": "yz1z8p3eIyAj",
        "outputId": "277d2d1f-deda-482c-ba0c-ebb07068b8a9",
        "colab": {
          "base_uri": "https://localhost:8080/"
        }
      },
      "source": [
        "\n",
        "data.columns"
      ],
      "execution_count": null,
      "outputs": [
        {
          "output_type": "execute_result",
          "data": {
            "text/plain": [
              "Index(['Text', 'Label'], dtype='object')"
            ]
          },
          "metadata": {
            "tags": []
          },
          "execution_count": 5
        }
      ]
    },
    {
      "cell_type": "code",
      "metadata": {
        "id": "YzgxOcZCI20-",
        "outputId": "cc8a539f-e3a0-4f8e-e573-41837d53d0de",
        "colab": {
          "base_uri": "https://localhost:8080/"
        }
      },
      "source": [
        "\n",
        "# Cleaning Data [Remove unncessary symbols]\n",
        "def cleaning_data(row):\n",
        "      headlines = re.sub('[^\\u0980-\\u09FF]',' ',str(row)) #removing unnecessary punctuation\n",
        "      return headlines\n",
        "# Apply the function into the dataframe\n",
        "data['cleaned'] = data['Text'].apply(cleaning_data)\n",
        "\n",
        "# print some cleaned reviews from the dataset\n",
        "sample_data = [200,500,1000,1500,3000,3500]\n",
        "for i in sample_data:\n",
        "  print('Original: ',data.Text[i],'\\nCleaned:',\n",
        "           data.cleaned[i],'\\n','Lebel:-- ',data.Label[i],'\\n')"
      ],
      "execution_count": null,
      "outputs": [
        {
          "output_type": "stream",
          "text": [
            "Original:  আমি মনে করি যে পরিচালক সম্পাদক একটি শিক্ষণীয় মুহুর্তটি মিস করেছেন যখন টিফানি তার মন্তব্যগুলি সবার মতো অনুভব করার মতো সুন্দর লাগছে \n",
            "Cleaned: আমি মনে করি যে পরিচালক সম্পাদক একটি শিক্ষণীয় মুহুর্তটি মিস করেছেন যখন টিফানি তার মন্তব্যগুলি সবার মতো অনুভব করার মতো সুন্দর লাগছে \n",
            " Lebel:--  2 \n",
            "\n",
            "Original:  আমি আশা করি কেউই নিজেকে অকৃতজ্ঞ বোধ করবেন না কারণ এটি মামলা নয় \n",
            "Cleaned: আমি আশা করি কেউই নিজেকে অকৃতজ্ঞ বোধ করবেন না কারণ এটি মামলা নয় \n",
            " Lebel:--  2 \n",
            "\n",
            "Original:  আমি এখনই খুব অসন্তুষ্ট বোধ করছি \n",
            "Cleaned: আমি এখনই খুব অসন্তুষ্ট বোধ করছি \n",
            " Lebel:--  2 \n",
            "\n",
            "Original:  আমি এমন কিছু জিনিস দেখেছি যা চলচ্চিত্রের অভিযোজনের জন্য আমি নিজেই কখনও করতে পারতাম না তবে অনুভব করি যে আমি যদি বইটি না পড়ি তবে তা আমাকে বিরক্ত করবে না \n",
            "Cleaned: আমি এমন কিছু জিনিস দেখেছি যা চলচ্চিত্রের অভিযোজনের জন্য আমি নিজেই কখনও করতে পারতাম না তবে অনুভব করি যে আমি যদি বইটি না পড়ি তবে তা আমাকে বিরক্ত করবে না \n",
            " Lebel:--  4 \n",
            "\n",
            "Original:  আমি গরম কোকো এবং ফ্ল্যানেল নাইটস এর আরামদায়ক অনুভূতির জন্য কৃতজ্ঞ \n",
            "Cleaned: আমি গরম কোকো এবং ফ্ল্যানেল নাইটস এর আরামদায়ক অনুভূতির জন্য কৃতজ্ঞ \n",
            " Lebel:--  5 \n",
            "\n",
            "Original:  আমি অনুভব করি যে এই শ্রেণিটি অন্যান্য মহিলাদের সমর্থন করে এমন নারীদের গুরুত্বকেও নিশ্চিত করেছে যে এটি নিজেকে এবং একটি অন্তর্ভুক্ত নারীবাদী সম্প্রদায়ের হতে ঠিক হবে \n",
            "Cleaned: আমি অনুভব করি যে এই শ্রেণিটি অন্যান্য মহিলাদের সমর্থন করে এমন নারীদের গুরুত্বকেও নিশ্চিত করেছে যে এটি নিজেকে এবং একটি অন্তর্ভুক্ত নারীবাদী সম্প্রদায়ের হতে ঠিক হবে \n",
            " Lebel:--  5 \n",
            "\n"
          ],
          "name": "stdout"
        }
      ]
    },
    {
      "cell_type": "code",
      "metadata": {
        "id": "cvmDKqaRJEMR",
        "outputId": "34dc0773-a903-4ed5-b809-1c96f3fc1f02",
        "colab": {
          "base_uri": "https://localhost:8080/"
        }
      },
      "source": [
        "# Length of each headlines\n",
        "data['length'] = data['cleaned'].apply(lambda x:len(x.split()))\n",
        "# Remove the headlines with least words\n",
        "dataset = data.loc[data.length>2]\n",
        "dataset = dataset.reset_index(drop = True)\n",
        "print(\"After Cleaning:\",\"\\nRemoved {} Small Emotion Data\".format(len(data)-len(dataset)),\n",
        "      \"\\nTotal Emotion Data:\",len(dataset))"
      ],
      "execution_count": null,
      "outputs": [
        {
          "output_type": "stream",
          "text": [
            "After Cleaning: \n",
            "Removed 7 Small Emotion Data \n",
            "Total Emotion Data: 7214\n"
          ],
          "name": "stdout"
        }
      ]
    },
    {
      "cell_type": "code",
      "metadata": {
        "id": "-SC3dLHJKTYD",
        "outputId": "a90eb498-05b1-4a7d-fbe3-d7daf71473c1",
        "colab": {
          "base_uri": "https://localhost:8080/"
        }
      },
      "source": [
        "def data_summary(dataset):\n",
        "\n",
        "    \"\"\"\n",
        "    This function will print the summary of the headlines and words distribution in the dataset.\n",
        "\n",
        "    Args:\n",
        "        dataset: list of cleaned sentences\n",
        "\n",
        "    Returns:\n",
        "        Number of documnets per class: int\n",
        "        Number of words per class: int\n",
        "        Number of unique words per class: int\n",
        "    \"\"\"\n",
        "    documents = []\n",
        "    words = []\n",
        "    u_words = []\n",
        "    total_u_words = [word.strip().lower() for t in list(dataset.cleaned) for word in t.strip().split()]\n",
        "    class_label= [k for k,v in dataset.Label.value_counts().to_dict().items()]\n",
        "  # find word list\n",
        "    for label in class_label:\n",
        "        word_list = [word.strip().lower() for t in list(dataset[dataset.Label==label].cleaned) for word in t.strip().split()]\n",
        "        counts = dict()\n",
        "        for word in word_list:\n",
        "                counts[word] = counts.get(word, 0)+1\n",
        "        # sort the dictionary of word list\n",
        "        ordered = sorted(counts.items(), key= lambda item: item[1],reverse = True)\n",
        "        # Documents per class\n",
        "        documents.append(len(list(dataset[dataset.Label==label].cleaned)))\n",
        "        # Total Word per class\n",
        "        words.append(len(word_list))\n",
        "        # Unique words per class\n",
        "        u_words.append(len(np.unique(word_list)))\n",
        "\n",
        "        print(\"\\nClass Name : \",label)\n",
        "        print(\"Number of Documents:{}\".format(len(list(dataset[dataset.Label==label].cleaned))))\n",
        "        print(\"Number of Words:{}\".format(len(word_list)))\n",
        "        print(\"Number of Unique Words:{}\".format(len(np.unique(word_list))))\n",
        "        print(\"Most Frequent Words:\\n\")\n",
        "        for k,v in ordered[:10]:\n",
        "              print(\"{}\\t{}\".format(k,v))\n",
        "    print(\"Total Number of Unique Words:{}\".format(len(np.unique(total_u_words))))\n",
        "\n",
        "    return documents,words,u_words,class_label\n",
        "\n",
        "#call the fucntion\n",
        "documents,words,u_words,class_names = data_summary(dataset)"
      ],
      "execution_count": null,
      "outputs": [
        {
          "output_type": "stream",
          "text": [
            "\n",
            "Class Name :  3\n",
            "Number of Documents:1395\n",
            "Number of Words:24826\n",
            "Number of Unique Words:4093\n",
            "Most Frequent Words:\n",
            "\n",
            "আমি\t2115\n",
            "বোধ\t803\n",
            "এবং\t728\n",
            "করি\t660\n",
            "আমার\t621\n",
            "যে\t419\n",
            "করছি\t382\n",
            "না\t374\n",
            "করতে\t300\n",
            "অনুভব\t279\n",
            "\n",
            "Class Name :  4\n",
            "Number of Documents:1373\n",
            "Number of Words:25152\n",
            "Number of Unique Words:4145\n",
            "Most Frequent Words:\n",
            "\n",
            "আমি\t2095\n",
            "এবং\t739\n",
            "আমার\t715\n",
            "করি\t703\n",
            "বোধ\t673\n",
            "যে\t498\n",
            "না\t428\n",
            "অনুভব\t373\n",
            "করছি\t332\n",
            "মনে\t312\n",
            "\n",
            "Class Name :  1\n",
            "Number of Documents:1362\n",
            "Number of Words:25017\n",
            "Number of Unique Words:4360\n",
            "Most Frequent Words:\n",
            "\n",
            "আমি\t2024\n",
            "এবং\t811\n",
            "করি\t771\n",
            "বোধ\t661\n",
            "আমার\t631\n",
            "যে\t459\n",
            "মনে\t371\n",
            "না\t317\n",
            "অনুভব\t308\n",
            "করতে\t287\n",
            "\n",
            "Class Name :  2\n",
            "Number of Documents:1352\n",
            "Number of Words:24255\n",
            "Number of Unique Words:4033\n",
            "Most Frequent Words:\n",
            "\n",
            "আমি\t2071\n",
            "এবং\t771\n",
            "করি\t709\n",
            "আমার\t697\n",
            "বোধ\t667\n",
            "যে\t426\n",
            "না\t396\n",
            "অনুভব\t346\n",
            "মনে\t313\n",
            "করছি\t300\n",
            "\n",
            "Class Name :  5\n",
            "Number of Documents:1199\n",
            "Number of Words:22884\n",
            "Number of Unique Words:3995\n",
            "Most Frequent Words:\n",
            "\n",
            "আমি\t1771\n",
            "এবং\t785\n",
            "আমার\t691\n",
            "করি\t661\n",
            "যে\t436\n",
            "অনুভব\t433\n",
            "বোধ\t385\n",
            "না\t304\n",
            "মনে\t302\n",
            "করতে\t240\n",
            "\n",
            "Class Name :  6\n",
            "Number of Documents:533\n",
            "Number of Words:9909\n",
            "Number of Unique Words:2296\n",
            "Most Frequent Words:\n",
            "\n",
            "আমি\t816\n",
            "এবং\t307\n",
            "আমার\t286\n",
            "করি\t249\n",
            "বোধ\t243\n",
            "যে\t189\n",
            "মনে\t135\n",
            "না\t115\n",
            "করছি\t100\n",
            "এটি\t99\n",
            "Total Number of Unique Words:11662\n"
          ],
          "name": "stdout"
        }
      ]
    },
    {
      "cell_type": "code",
      "metadata": {
        "id": "tw1KAGtAKqLS",
        "outputId": "e9b51654-9705-43c2-8571-749b83516676",
        "colab": {
          "base_uri": "https://localhost:8080/",
          "height": 426
        }
      },
      "source": [
        "data_matrix = pd.DataFrame({'Total Documents':documents,\n",
        "                            'Total Words':words,\n",
        "                            'Unique Words':u_words,\n",
        "                            'Class Names':class_names})\n",
        "df = pd.melt(data_matrix, id_vars=\"Class Names\", var_name=\"Label\", value_name=\"Values\")\n",
        "plt.figure(figsize=(8, 6))\n",
        "ax = plt.subplot()\n",
        "\n",
        "sns.barplot(data=df,x='Class Names', y='Values' ,hue='Label')\n",
        "ax.set_xlabel('Class Names')\n",
        "ax.set_title('Data Statistics')\n",
        "\n",
        "ax.xaxis.set_ticklabels(class_names, rotation=45);"
      ],
      "execution_count": null,
      "outputs": [
        {
          "output_type": "display_data",
          "data": {
            "image/png": "[encoded data removed]",
            "text/plain": [
              "<Figure size 576x432 with 1 Axes>"
            ]
          },
          "metadata": {
            "tags": []
          }
        }
      ]
    },
    {
      "cell_type": "code",
      "metadata": {
        "id": "bDLqGhgMK_KZ",
        "outputId": "7b43a0bb-9e81-4afa-a4c8-86aeadaba702",
        "colab": {
          "base_uri": "https://localhost:8080/",
          "height": 366
        }
      },
      "source": [
        "# Calculate the Review of each of the Review\n",
        "dataset['TextLength'] = dataset.cleaned.apply(lambda x:len(x.split()))\n",
        "frequency = dict()\n",
        "for i in dataset.TextLength:\n",
        "    frequency[i] = frequency.get(i, 0)+1\n",
        "\n",
        "plt.bar(frequency.keys(), frequency.values(), color =\"b\")\n",
        "plt.xlim(1, 60)\n",
        "# in this notbook color is not working but it should work.\n",
        "plt.xlabel('Length of the Text')\n",
        "plt.ylabel('Frequency')\n",
        "plt.title('Length-Frequency Distribution')\n",
        "plt.show()\n",
        "print(f\"Maximum Length of a Text: {max(dataset.TextLength)}\")\n",
        "print(f\"Minimum Length of a Text: {min(dataset.TextLength)}\")\n",
        "print(f\"Average Length of a Text: {round(np.mean(dataset.TextLength),0)}\")"
      ],
      "execution_count": null,
      "outputs": [
        {
          "output_type": "display_data",
          "data": {
            "image/png": "[encoded data removed]",
            "text/plain": [
              "<Figure size 432x288 with 1 Axes>"
            ]
          },
          "metadata": {
            "tags": []
          }
        },
        {
          "output_type": "stream",
          "text": [
            "Maximum Length of a Text: 59\n",
            "Minimum Length of a Text: 3\n",
            "Average Length of a Text: 18.0\n"
          ],
          "name": "stdout"
        }
      ]
    },
    {
      "cell_type": "code",
      "metadata": {
        "id": "YmqxwQ40LajW"
      },
      "source": [
        "#==================================================\n",
        "                                       ################# Label Encoding Function #########\n",
        "                                       #==================================================\n",
        "\n",
        "def label_encoding(Label,bool):\n",
        "    \"\"\"\n",
        "    This function will return the encoded labels in array format.\n",
        "\n",
        "    Args:\n",
        "        Label: series of class names(str)\n",
        "        bool: boolean (True or False)\n",
        "\n",
        "    Returns:\n",
        "        labels: numpy array\n",
        "    \"\"\"\n",
        "    le = LabelEncoder()\n",
        "    le.fit(Label)\n",
        "    encoded_labels = le.transform(Label)\n",
        "    labels = np.array(encoded_labels) # Converting into numpy array\n",
        "    class_names =le.classes_ ## Define the class names again\n",
        "    if bool == True:\n",
        "        print(\"\\n\\t\\t\\t===== Label Encoding =====\",\"\\nClass Names:-->\",le.classes_)\n",
        "        for i in sample_data:\n",
        "            print(Label[i],' ', encoded_labels[i],'\\n')\n",
        "\n",
        "    return labels\n",
        "\n",
        "\n",
        "\n",
        "                           #===========================================================\n",
        "                           ################# Dataset Splitting Function ###############\n",
        "                           #===========================================================\n",
        "\n",
        "def dataset_split(Text,Label):\n",
        "    \"\"\"\n",
        "    This function will return the splitted (90%-10%-10%) feature vector .\n",
        "\n",
        "    Args:\n",
        "        Text: sequenced Text\n",
        "        Label: encoded lables (array)\n",
        "\n",
        "    Returns:\n",
        "        X_train: training data\n",
        "        X_valid: validation data\n",
        "        X_test : testing feature vector\n",
        "        y_train: training encoded labels (array)\n",
        "        y_valid: training encoded labels (array)\n",
        "        y_test : testing encoded labels (array)\n",
        "    \"\"\"\n",
        "\n",
        "    X,X_test,y,y_test = train_test_split(Text,Label,train_size = 0.9,\n",
        "                                                  test_size = 0.1,random_state =0)\n",
        "    X_train,X_valid,y_train,y_valid = train_test_split(X,y,train_size = 0.8,\n",
        "                                                  test_size = 0.2,random_state =0)\n",
        "    print(color.BOLD+\"\\nDataset Distribution:\\n\"+color.END)\n",
        "    print(\"\\tSet Name\",\"\\t\\tSize\")\n",
        "    print(\"\\t========\\t\\t======\")\n",
        "\n",
        "    print(\"\\tFull\\t\\t\\t\",len(Text),\n",
        "        \"\\n\\tTraining\\t\\t\",len(X_train),\n",
        "        \"\\n\\tTest\\t\\t\\t\",len(X_test),\n",
        "        \"\\n\\tValidation\\t\\t\",len(X_valid))\n",
        "\n",
        "    return X_train,X_valid,X_test,y_train,y_valid,y_test"
      ],
      "execution_count": null,
      "outputs": []
    },
    {
      "cell_type": "code",
      "metadata": {
        "id": "2snJoXa7MKEA",
        "outputId": "2519c540-4e7f-465d-b220-42f69171b13f",
        "colab": {
          "base_uri": "https://localhost:8080/"
        }
      },
      "source": [
        "labels = label_encoding(dataset.Label,True)"
      ],
      "execution_count": null,
      "outputs": [
        {
          "output_type": "stream",
          "text": [
            "\n",
            "\t\t\t===== Label Encoding ===== \n",
            "Class Names:--> [1 2 3 4 5 6]\n",
            "2   1 \n",
            "\n",
            "3   2 \n",
            "\n",
            "4   3 \n",
            "\n",
            "6   5 \n",
            "\n",
            "5   4 \n",
            "\n",
            "5   4 \n",
            "\n"
          ],
          "name": "stdout"
        }
      ]
    },
    {
      "cell_type": "code",
      "metadata": {
        "id": "0HdlQ8puhsAA",
        "outputId": "d0712cfa-f6c8-4913-d97a-f0dc52103b6d",
        "colab": {
          "base_uri": "https://localhost:8080/"
        }
      },
      "source": [
        "print(labels)"
      ],
      "execution_count": null,
      "outputs": [
        {
          "output_type": "stream",
          "text": [
            "[0 1 2 ... 2 2 1]\n"
          ],
          "name": "stdout"
        }
      ]
    },
    {
      "cell_type": "code",
      "metadata": {
        "id": "D1rgw7ANMPQb",
        "outputId": "ce8031d2-dc11-4355-f79e-b9b2abd28a93",
        "colab": {
          "base_uri": "https://localhost:8080/"
        }
      },
      "source": [
        "X_train,X_valid,X_test,y_train,y_valid,y_test = dataset_split(dataset.Text,labels)"
      ],
      "execution_count": null,
      "outputs": [
        {
          "output_type": "stream",
          "text": [
            "\u001b[1m\n",
            "Dataset Distribution:\n",
            "\u001b[0m\n",
            "\tSet Name \t\tSize\n",
            "\t========\t\t======\n",
            "\tFull\t\t\t 7214 \n",
            "\tTraining\t\t 5193 \n",
            "\tTest\t\t\t 722 \n",
            "\tValidation\t\t 1299\n"
          ],
          "name": "stdout"
        }
      ]
    },
    {
      "cell_type": "code",
      "metadata": {
        "id": "fd3hcoOoMY8B"
      },
      "source": [
        "vocab_size = 57000\n",
        "embedding_dim = 64\n",
        "max_length = 59\n",
        "trunc_type='post'\n",
        "padding_type='post'\n",
        "oov_tok = \"<OOV>\"\n",
        "\n",
        "def padded_headlines(original,encoded,padded):\n",
        "  '''\n",
        "  print the samples padded headlines\n",
        "  '''\n",
        "  print(color.BOLD+\"\\n\\t\\t\\t====== Encoded Sequences ======\"+color.END,\"\\n\")\n",
        "  print(original,\"\\n\",encoded)\n",
        "  print(color.BOLD+\"\\n\\t\\t\\t====== Paded Sequences ======\\n\"+color.END,original,\"\\n\",padded)"
      ],
      "execution_count": null,
      "outputs": []
    },
    {
      "cell_type": "code",
      "metadata": {
        "id": "lLBgwuRxM-IJ"
      },
      "source": [
        "# Train Data Tokenization\n",
        "tokenizer = Tokenizer(num_words = vocab_size, oov_token=oov_tok)\n",
        "tokenizer.fit_on_texts(X_train)\n",
        "word_index = tokenizer.word_index\n",
        "train_sequences = tokenizer.texts_to_sequences(X_train)\n",
        "train_padded = pad_sequences(train_sequences, padding=padding_type, maxlen=max_length)"
      ],
      "execution_count": null,
      "outputs": []
    },
    {
      "cell_type": "code",
      "metadata": {
        "id": "cB0C_FdxNC79",
        "outputId": "adde47ec-96b3-4581-903d-a43d8090e2ae",
        "colab": {
          "base_uri": "https://localhost:8080/"
        }
      },
      "source": [
        "#============================== Tokenizer Info =================================\n",
        "(word_counts,word_docs,word_index,document_count) = (tokenizer.word_counts,\n",
        "                                                       tokenizer.word_docs,\n",
        "                                                       tokenizer.word_index,\n",
        "                                                       tokenizer.document_count)\n",
        "def tokenizer_info(mylist,bool):\n",
        "  ordered = sorted(mylist.items(), key= lambda item: item[1],reverse = bool)\n",
        "  for w,c in ordered[:10]:\n",
        "    print(w,\"\\t\",c)\n",
        "  #=============================== Print all the information =========================\n",
        "print(color.BOLD+\"\\t\\t\\t====== Tokenizer Info ======\"+color.END)\n",
        "print(\"Words --> Counts:\")\n",
        "tokenizer_info(word_counts,bool =True )\n",
        "print(\"\\nWords --> Documents:\")\n",
        "tokenizer_info(word_docs,bool =True )\n",
        "print(\"\\nWords --> Index:\")\n",
        "tokenizer_info(word_index,bool =True )\n",
        "print(\"\\nTotal Documents -->\",document_count)\n",
        "print(f\"Found {len(word_index)} unique tokens\")"
      ],
      "execution_count": null,
      "outputs": [
        {
          "output_type": "stream",
          "text": [
            "\u001b[1m\t\t\t====== Tokenizer Info ======\u001b[0m\n",
            "Words --> Counts:\n",
            "আমি \t 7835\n",
            "এবং \t 2974\n",
            "করি \t 2676\n",
            "আমার \t 2615\n",
            "বোধ \t 2489\n",
            "যে \t 1738\n",
            "না \t 1404\n",
            "অনুভব \t 1297\n",
            "করছি \t 1174\n",
            "মনে \t 1169\n",
            "\n",
            "Words --> Documents:\n",
            "আমি \t 4907\n",
            "বোধ \t 2400\n",
            "করি \t 2265\n",
            "এবং \t 2214\n",
            "আমার \t 1901\n",
            "যে \t 1437\n",
            "অনুভব \t 1252\n",
            "না \t 1175\n",
            "করছি \t 1110\n",
            "মনে \t 1090\n",
            "\n",
            "Words --> Index:\n",
            "পুরুষত্বের \t 9947\n",
            "পুরুষকে \t 9946\n",
            "ক্ষমতাহীনতায় \t 9945\n",
            "দুর্বলতার \t 9944\n",
            "বহিরাগতের \t 9943\n",
            "ধারাবাহিকতা \t 9942\n",
            "আশীর্বাদগুলির \t 9941\n",
            "জলপানো \t 9940\n",
            "পৌঁছাব \t 9939\n",
            "চড় \t 9938\n",
            "\n",
            "Total Documents --> 5193\n",
            "Found 9947 unique tokens\n"
          ],
          "name": "stdout"
        }
      ]
    },
    {
      "cell_type": "code",
      "metadata": {
        "id": "2eltMzmCNKJ7",
        "outputId": "67199dfa-b88e-408b-af95-d05f05e83eb6",
        "colab": {
          "base_uri": "https://localhost:8080/"
        }
      },
      "source": [
        "padded_headlines(X_train[398],train_sequences[10],train_padded[10])"
      ],
      "execution_count": null,
      "outputs": [
        {
          "output_type": "stream",
          "text": [
            "\u001b[1m\n",
            "\t\t\t====== Encoded Sequences ======\u001b[0m \n",
            "\n",
            "এমনকি আমি আবার সাধারণ মানুষের সাথে অদ্ভুত জীবনযাপনও বোধ করি \n",
            " [2, 218, 2864, 40, 133, 3, 160, 58, 8, 1106, 35, 59, 42, 1585, 10]\n",
            "\u001b[1m\n",
            "\t\t\t====== Paded Sequences ======\n",
            "\u001b[0m এমনকি আমি আবার সাধারণ মানুষের সাথে অদ্ভুত জীবনযাপনও বোধ করি \n",
            " [   2  218 2864   40  133    3  160   58    8 1106   35   59   42 1585\n",
            "   10    0    0    0    0    0    0    0    0    0    0    0    0    0\n",
            "    0    0    0    0    0    0    0    0    0    0    0    0    0    0\n",
            "    0    0    0    0    0    0    0    0    0    0    0    0    0    0\n",
            "    0    0    0]\n"
          ],
          "name": "stdout"
        }
      ]
    },
    {
      "cell_type": "code",
      "metadata": {
        "id": "4k1kL9BBWXy0",
        "outputId": "340634c7-0ac7-4210-a194-df56bef2468b",
        "colab": {
          "base_uri": "https://localhost:8080/"
        }
      },
      "source": [
        "print(X_test[354:364])"
      ],
      "execution_count": null,
      "outputs": [
        {
          "output_type": "stream",
          "text": [
            "6170    আমি মারিয়ার চুম্বনের ভিডিওটি দেখেছি এবং আশ্চর...\n",
            "4976    আমি মাঝে মাঝে উদার বোধ করি এবং পাখিদের এই সঞ্চ...\n",
            "5378    আমি শীত পছন্দ করি তাই আমার খুশী হওয়া উচিত তবে...\n",
            "5912    আমি সাধারণ বিষয়টিতে আনন্দ সন্ধানের জন্য কাজ ক...\n",
            "3037    আমি এই ফ্ল্যাশব্যাক শুক্রবার এন্ট্রি সম্পর্কে ...\n",
            "5889    আমি মনে করি হঠাৎ কোনও ভাল জিনিস দেখে ভয় পেয়ে...\n",
            "3132    আমি বোধ করি আমি আমার বুদ্ধি থেকে আমার প্রবৃত্ত...\n",
            "1140    আমি তাত্ক্ষণিকভাবে গ্ল্যামারাস বোধ করি কেবল এট...\n",
            "6698    আমার মনে হয় আমি যখন স্ক্যাড ছেড়ে চলে গেলাম অ...\n",
            "2948    আমি মনে করি যে মোমযুক্ত চাঁদের জন্য আমি এটি কর...\n",
            "Name: Text, dtype: object\n"
          ],
          "name": "stdout"
        }
      ]
    },
    {
      "cell_type": "code",
      "metadata": {
        "id": "XQ1r6L4qNQE8",
        "outputId": "4dcecbbf-1f16-4636-d99a-63b22c4804cd",
        "colab": {
          "base_uri": "https://localhost:8080/"
        }
      },
      "source": [
        "# Validation Data Tokenization\n",
        "validation_sequences = tokenizer.texts_to_sequences(X_valid)\n",
        "validation_padded = pad_sequences(validation_sequences, padding=padding_type , maxlen=max_length)\n",
        "padded_headlines(X_valid[5608],validation_sequences[1],validation_padded[1])"
      ],
      "execution_count": null,
      "outputs": [
        {
          "output_type": "stream",
          "text": [
            "\u001b[1m\n",
            "\t\t\t====== Encoded Sequences ======\u001b[0m \n",
            "\n",
            "আমি ভেবেছিলাম তিনি না বলতে যাচ্ছেন তবে তিনি কেবল তাঁর মুখের কুকুরছানাটিকে আমি যা বলি তা দিয়েছিল এবং এটি আমাকে সর্বদা পচা অনুভব করে makes \n",
            " [2, 124, 1, 84, 8600, 95, 93, 1400]\n",
            "\u001b[1m\n",
            "\t\t\t====== Paded Sequences ======\n",
            "\u001b[0m আমি ভেবেছিলাম তিনি না বলতে যাচ্ছেন তবে তিনি কেবল তাঁর মুখের কুকুরছানাটিকে আমি যা বলি তা দিয়েছিল এবং এটি আমাকে সর্বদা পচা অনুভব করে makes \n",
            " [   2  124    1   84 8600   95   93 1400    0    0    0    0    0    0\n",
            "    0    0    0    0    0    0    0    0    0    0    0    0    0    0\n",
            "    0    0    0    0    0    0    0    0    0    0    0    0    0    0\n",
            "    0    0    0    0    0    0    0    0    0    0    0    0    0    0\n",
            "    0    0    0]\n"
          ],
          "name": "stdout"
        }
      ]
    },
    {
      "cell_type": "code",
      "metadata": {
        "id": "DLIiFze2NVtX",
        "outputId": "e040bd0b-9a58-45e8-d974-59a4b04fbc21",
        "colab": {
          "base_uri": "https://localhost:8080/"
        }
      },
      "source": [
        "# Test Data Tokenization\n",
        "test_sequences = tokenizer.texts_to_sequences(X_test)\n",
        "test_padded = pad_sequences(test_sequences, padding=padding_type , maxlen=max_length)\n",
        "padded_headlines(X_test[444],test_sequences[100],test_padded[100])"
      ],
      "execution_count": null,
      "outputs": [
        {
          "output_type": "stream",
          "text": [
            "\u001b[1m\n",
            "\t\t\t====== Encoded Sequences ======\u001b[0m \n",
            "\n",
            "আমি গত সপ্তাহে প্রতি রাতে ভয়ঙ্কর উদ্বেগের স্বপ্ন দেখেছিলাম এবং এটি আমাকে সত্যই বেহাল মনে করেছে এবং অবশ্যই ষড়যন্ত্রের তত্ত্বগুলি এবং অনাবিলিত অপরাধগুলি সম্পর্কে অনলাইনে পড়া সমস্ত বিষয়কে ব্যাপকভাবে সহায়তা করে নি \n",
            " [2, 39, 1083, 27, 1887, 6, 10]\n",
            "\u001b[1m\n",
            "\t\t\t====== Paded Sequences ======\n",
            "\u001b[0m আমি গত সপ্তাহে প্রতি রাতে ভয়ঙ্কর উদ্বেগের স্বপ্ন দেখেছিলাম এবং এটি আমাকে সত্যই বেহাল মনে করেছে এবং অবশ্যই ষড়যন্ত্রের তত্ত্বগুলি এবং অনাবিলিত অপরাধগুলি সম্পর্কে অনলাইনে পড়া সমস্ত বিষয়কে ব্যাপকভাবে সহায়তা করে নি \n",
            " [   2   39 1083   27 1887    6   10    0    0    0    0    0    0    0\n",
            "    0    0    0    0    0    0    0    0    0    0    0    0    0    0\n",
            "    0    0    0    0    0    0    0    0    0    0    0    0    0    0\n",
            "    0    0    0    0    0    0    0    0    0    0    0    0    0    0\n",
            "    0    0    0]\n"
          ],
          "name": "stdout"
        }
      ]
    },
    {
      "cell_type": "code",
      "metadata": {
        "id": "uqgmlIJedTsL",
        "outputId": "f1ecc1b9-68b3-4b8c-e00d-ec08e968899e",
        "colab": {
          "base_uri": "https://localhost:8080/",
          "height": 218
        }
      },
      "source": [
        "print(X_test)"
      ],
      "execution_count": null,
      "outputs": [
        {
          "output_type": "stream",
          "text": [
            "394     আমি অধৈর্য বোধ করি তবে নিকের অনেক ধন্যবাদ তিনি...\n",
            "2067    আমি গর্ভাবস্থা থেকে অনুভূতিগুলি অনুভব করতে শুর...\n",
            "5721              আমি রোমান্টিক সিনেমাগুলি দেখে অনুভব করি\n",
            "4986    আমি এই উদাহরণে আমি খুব স্পট বোধ করছি কিন্তু আম...\n",
            "4429                           আমি খুব বিক্ষিপ্ত বোধ করছি\n",
            "                              ...                        \n",
            "3440    আমার এগুলির আরও কয়েকটি রয়েছে তবে আমার বাড়ির...\n",
            "3277         আমি খুব নস্টালজিক এবং খুব কৃতজ্ঞ বোধ করছিলাম\n",
            "4916    তিনি যিনি তার জন্য আমি তাকে পছন্দ করি বা আমার ...\n",
            "5968    আমার একটা অনুভূতি আছে যদি সে স্যুপে ঝাঁপ দেয় ...\n",
            "4431    আমি মনে করি শত্রুতা বা আত্মীয়তা বা বমি বমি ভা...\n",
            "Name: Text, Length: 722, dtype: object\n"
          ],
          "name": "stdout"
        }
      ]
    },
    {
      "cell_type": "code",
      "metadata": {
        "id": "daTs10_MORMu"
      },
      "source": [
        "# Labels Tokenization\n",
        "#label_tokenizer = Tokenizer()\n",
        "#label_tokenizer.fit_on_texts(dataset.category)\n",
        "\n",
        "train_label_seq = y_train\n",
        "valid_label_seq = y_valid\n",
        "testing_label_seq = y_test\n",
        "\n",
        "#print(train_label_seq.shape)\n",
        "#print(valid_label_seq.shape)\n",
        "#print(testing_label_seq.shape)"
      ],
      "execution_count": null,
      "outputs": []
    },
    {
      "cell_type": "code",
      "metadata": {
        "id": "qHCrTDBJOdxI",
        "outputId": "ad384c64-8d06-420c-a991-61ab6d9907d3",
        "colab": {
          "base_uri": "https://localhost:8080/"
        }
      },
      "source": [
        "from keras.models import Sequential\n",
        "from keras.layers import Dense, GRU, Bidirectional, Embedding, Dropout, Conv1D, MaxPooling1D\n",
        "keras.backend.clear_session()\n",
        "accuracy_threshold = 0.97\n",
        "vocab_size = 57000\n",
        "embedding_dim = 64\n",
        "max_length = 59\n",
        "num_category = 6\n",
        "\n",
        "class myCallback(keras.callbacks.Callback):\n",
        "  def on_epoch_end(self, epoch, logs={}):\n",
        "      if(logs.get('accuracy')>accuracy_threshold):\n",
        "        print(\"\\nReached %2.2f%% accuracy so we will stop trianing\" % (accuracy_threshold*100))\n",
        "        self.model.stop_training = True\n",
        "\n",
        "acc_callback = myCallback()\n",
        "# Saved the Best Model\n",
        "filepath = path+\"Model.h5\"\n",
        "checkpoint = keras.callbacks.ModelCheckpoint(filepath, monitor='val_accuracy', verbose=2, save_best_only=True,\n",
        "                                             save_weights_only=False, mode='max')\n",
        "callback_list = [acc_callback, checkpoint]\n",
        "# model = tf.keras.Sequential([\n",
        "#     tf.keras.layers.Embedding(vocab_size, embedding_dim, input_length=max_length),\n",
        "#     tf.keras.layers.Bidirectional(GRU(64,dropout=0.2)),\n",
        "#     tf.keras.layers.Dense(24, activation='relu'),\n",
        "#     tf.keras.layers.Flatten(),\n",
        "#     tf.keras.layers.Dense(num_category, activation='softmax')\n",
        "# ])\n",
        "\n",
        "model = Sequential()\n",
        "model.add(Embedding(vocab_size, embedding_dim, input_length=max_length))\n",
        "model.add(Dropout(.2))\n",
        "\n",
        "model.add(Conv1D(128, 5, activation=\"relu\"))\n",
        "model.add(MaxPooling1D(pool_size=4))\n",
        "\n",
        "model.add(Bidirectional(LSTM(128)))\n",
        "model.add(Dropout(.5))\n",
        "\n",
        "model.add(Dense(66, activation=\"softmax\"))\n",
        "# opt = keras.optimizers.Adam(learning_rate=0.0001)\n",
        "model.compile(loss='sparse_categorical_crossentropy',optimizer=\"adam\",metrics=['accuracy'])\n",
        "model.summary()"
      ],
      "execution_count": null,
      "outputs": [
        {
          "output_type": "stream",
          "text": [
            "Model: \"sequential\"\n",
            "_________________________________________________________________\n",
            "Layer (type)                 Output Shape              Param #   \n",
            "=================================================================\n",
            "embedding (Embedding)        (None, 59, 64)            3648000   \n",
            "_________________________________________________________________\n",
            "dropout (Dropout)            (None, 59, 64)            0         \n",
            "_________________________________________________________________\n",
            "conv1d (Conv1D)              (None, 55, 128)           41088     \n",
            "_________________________________________________________________\n",
            "max_pooling1d (MaxPooling1D) (None, 13, 128)           0         \n",
            "_________________________________________________________________\n",
            "bidirectional (Bidirectional (None, 256)               263168    \n",
            "_________________________________________________________________\n",
            "dropout_1 (Dropout)          (None, 256)               0         \n",
            "_________________________________________________________________\n",
            "dense (Dense)                (None, 66)                16962     \n",
            "=================================================================\n",
            "Total params: 3,969,218\n",
            "Trainable params: 3,969,218\n",
            "Non-trainable params: 0\n",
            "_________________________________________________________________\n"
          ],
          "name": "stdout"
        }
      ]
    },
    {
      "cell_type": "code",
      "metadata": {
        "id": "sdakaHlDcoIi"
      },
      "source": [
        "# !pip3 install --upgrade tensorflow"
      ],
      "execution_count": null,
      "outputs": []
    },
    {
      "cell_type": "code",
      "metadata": {
        "id": "IvhhI_ambTOK"
      },
      "source": [
        "# from keras.models import Sequential\n",
        "# from keras.layers import Dense, GRU, Bidirectional, Embedding, Dropout, Conv1D, MaxPooling1D\n",
        "\n",
        "# keras.backend.clear_session()\n",
        "# accuracy_threshold = 0.97\n",
        "# vocab_size = 4809\n",
        "# embedding_dim = 64\n",
        "# max_length = 59\n",
        "# num_category = 5\n",
        "\n",
        "# class myCallback(keras.callbacks.Callback):\n",
        "#   def on_epoch_end(self, epoch, logs={}):\n",
        "#       if(logs.get('accuracy')>accuracy_threshold):\n",
        "#         print(\"\\nReached %2.2f%% accuracy so we will stop trianing\" % (accuracy_threshold*100))\n",
        "#         self.model.stop_training = True\n",
        "\n",
        "# acc_callback = myCallback()\n",
        "# # Saved the Best Model\n",
        "# filepath = path+\"Model.h5\"\n",
        "# checkpoint = keras.callbacks.ModelCheckpoint(filepath, monitor='val_accuracy', verbose=2, save_best_only=True,\n",
        "#                                              save_weights_only=False, mode='max')\n",
        "# callback_list = [acc_callback, checkpoint]\n",
        "\n",
        "# model = Sequential()\n",
        "# model.add(Embedding(vocab_size, embedding_dim, input_length=max_length,\n",
        "#                             trainable=False))\n",
        "# model.add(Dropout(0.5))\n",
        "# model.add(Conv1D(128, 5, activation='relu'))\n",
        "# model.add(MaxPooling1D(pool_size=4))\n",
        "\n",
        "# model.add(Bidirectional(GRU(100)))\n",
        "# model.add(Dense(32, activation=\"relu\"))\n",
        "# model.add(Dropout(0.5))\n",
        "# model.add(Dense(66, activation=\"softmax\"))\n",
        "# model.compile(loss='sparse_categorical_crossentropy',optimizer='adam',metrics=['accuracy'])\n",
        "# model.summary()"
      ],
      "execution_count": null,
      "outputs": []
    },
    {
      "cell_type": "code",
      "metadata": {
        "id": "TEiLRWtHOliz",
        "outputId": "fa99f573-cea8-409e-8894-83dcde5b5580",
        "colab": {
          "base_uri": "https://localhost:8080/"
        }
      },
      "source": [
        "num_epochs = 30\n",
        "batch = 8\n",
        "history = model.fit(train_padded, train_label_seq,\n",
        "                    epochs=num_epochs,\n",
        "                    batch_size = batch,\n",
        "                    validation_data=(validation_padded, valid_label_seq),\n",
        "                    verbose=1,\n",
        "                    callbacks = callback_list)"
      ],
      "execution_count": null,
      "outputs": [
        {
          "output_type": "stream",
          "text": [
            "Epoch 1/30\n",
            "650/650 [==============================] - ETA: 0s - loss: 1.7893 - accuracy: 0.2478\n",
            "Epoch 00001: val_accuracy improved from -inf to 0.39800, saving model to /content/drive/My Drive/Bangla_NLP/Model.h5\n",
            "650/650 [==============================] - 25s 39ms/step - loss: 1.7893 - accuracy: 0.2478 - val_loss: 1.4396 - val_accuracy: 0.3980\n",
            "Epoch 2/30\n",
            "649/650 [============================>.] - ETA: 0s - loss: 1.2894 - accuracy: 0.4678\n",
            "Epoch 00002: val_accuracy improved from 0.39800 to 0.54273, saving model to /content/drive/My Drive/Bangla_NLP/Model.h5\n",
            "650/650 [==============================] - 23s 36ms/step - loss: 1.2895 - accuracy: 0.4677 - val_loss: 1.2674 - val_accuracy: 0.5427\n",
            "Epoch 3/30\n",
            "649/650 [============================>.] - ETA: 0s - loss: 0.9197 - accuracy: 0.6518\n",
            "Epoch 00003: val_accuracy improved from 0.54273 to 0.57660, saving model to /content/drive/My Drive/Bangla_NLP/Model.h5\n",
            "650/650 [==============================] - 23s 35ms/step - loss: 0.9197 - accuracy: 0.6518 - val_loss: 1.1592 - val_accuracy: 0.5766\n",
            "Epoch 4/30\n",
            "650/650 [==============================] - ETA: 0s - loss: 0.5492 - accuracy: 0.8094\n",
            "Epoch 00004: val_accuracy improved from 0.57660 to 0.60893, saving model to /content/drive/My Drive/Bangla_NLP/Model.h5\n",
            "650/650 [==============================] - 23s 36ms/step - loss: 0.5492 - accuracy: 0.8094 - val_loss: 1.3205 - val_accuracy: 0.6089\n",
            "Epoch 5/30\n",
            "649/650 [============================>.] - ETA: 0s - loss: 0.3332 - accuracy: 0.8910\n",
            "Epoch 00005: val_accuracy did not improve from 0.60893\n",
            "650/650 [==============================] - 22s 34ms/step - loss: 0.3331 - accuracy: 0.8910 - val_loss: 1.4288 - val_accuracy: 0.6028\n",
            "Epoch 6/30\n",
            "649/650 [============================>.] - ETA: 0s - loss: 0.2089 - accuracy: 0.9337\n",
            "Epoch 00006: val_accuracy did not improve from 0.60893\n",
            "650/650 [==============================] - 22s 34ms/step - loss: 0.2091 - accuracy: 0.9336 - val_loss: 1.5845 - val_accuracy: 0.5943\n",
            "Epoch 7/30\n",
            "650/650 [==============================] - ETA: 0s - loss: 0.1638 - accuracy: 0.9495\n",
            "Epoch 00007: val_accuracy did not improve from 0.60893\n",
            "650/650 [==============================] - 22s 34ms/step - loss: 0.1638 - accuracy: 0.9495 - val_loss: 1.6880 - val_accuracy: 0.5920\n",
            "Epoch 8/30\n",
            "649/650 [============================>.] - ETA: 0s - loss: 0.1102 - accuracy: 0.9651\n",
            "Epoch 00008: val_accuracy improved from 0.60893 to 0.61817, saving model to /content/drive/My Drive/Bangla_NLP/Model.h5\n",
            "650/650 [==============================] - 23s 35ms/step - loss: 0.1102 - accuracy: 0.9651 - val_loss: 1.7146 - val_accuracy: 0.6182\n",
            "Epoch 9/30\n",
            "649/650 [============================>.] - ETA: 0s - loss: 0.0879 - accuracy: 0.9709\n",
            "Reached 97.00% accuracy so we will stop trianing\n",
            "\n",
            "Epoch 00009: val_accuracy improved from 0.61817 to 0.62510, saving model to /content/drive/My Drive/Bangla_NLP/Model.h5\n",
            "650/650 [==============================] - 23s 35ms/step - loss: 0.0879 - accuracy: 0.9709 - val_loss: 1.8518 - val_accuracy: 0.6251\n"
          ],
          "name": "stdout"
        }
      ]
    },
    {
      "cell_type": "code",
      "metadata": {
        "id": "QlqLX-pQOrZh",
        "outputId": "ad0d16da-d6a8-4498-ba26-74e4a3b39a09",
        "colab": {
          "base_uri": "https://localhost:8080/",
          "height": 465
        }
      },
      "source": [
        "from sklearn.metrics import classification_report, confusion_matrix\n",
        "# load the Saved model from directory\n",
        "# model = load_model(path+\"LSTM_Model.h5\")\n",
        "model = load_model(path+\"Model.h5\")\n",
        "predictions = model.predict(test_padded)\n",
        "y_pred = np.argmax(predictions, axis=1)\n",
        "\n",
        "cm = confusion_matrix(testing_label_seq, y_pred)\n",
        "\n",
        "# Transform to df for easier plotting\n",
        "cm_df = pd.DataFrame(cm,\n",
        "\n",
        "                     index = ['Joy' ,'Sadness' ,'Fear', 'Anger', 'Love', 'Surprise'],\n",
        "                     columns = ['Joy' ,'Sadness' ,'Fear', 'Anger', 'Love', 'Surprise'])\n",
        "\n",
        "plt.figure(figsize=(8,6))\n",
        "sns.heatmap(cm_df, annot=True,cmap=\"YlGnBu\", fmt='g')\n",
        "# plt.title('LSTM \\n Test Accuracy: {0:.2f}'.format(accuracy_score(testing_label_seq, y_pred)*100))\n",
        "plt.title('Confusion Matrix')\n",
        "plt.ylabel('True label')\n",
        "plt.xlabel('Predicted label')\n",
        "plt.xticks(rotation = 45)\n",
        "plt.yticks(rotation = 45)\n",
        "plt.show()"
      ],
      "execution_count": null,
      "outputs": [
        {
          "output_type": "display_data",
          "data": {
            "image/png": "[encoded data removed]",
            "text/plain": [
              "<Figure size 576x432 with 2 Axes>"
            ]
          },
          "metadata": {
            "tags": []
          }
        }
      ]
    },
    {
      "cell_type": "code",
      "metadata": {
        "id": "VArJPfz4PIQA"
      },
      "source": [
        "# 1 => 'আনন্দ'\n",
        "# 2 => 'বিষণ্ণতা'\n",
        "# 3 => 'ভয়'\n",
        "# 4 => 'রাগ'\n",
        "# 5 => 'ভালবাসা'\n",
        "# 6 => 'আশ্চর্য'\n",
        "# ['Joy' ,'Sadness' ,'Fear', 'Anger', 'Love', 'Surprise']"
      ],
      "execution_count": null,
      "outputs": []
    },
    {
      "cell_type": "code",
      "metadata": {
        "id": "nOuVfcpqTmbV",
        "outputId": "31541153-f3bc-4cf9-a126-d4a84115f2dd",
        "colab": {
          "base_uri": "https://localhost:8080/",
          "height": 314
        }
      },
      "source": [
        "report = pd.DataFrame(classification_report(y_true = testing_label_seq, y_pred = y_pred, output_dict=True)).transpose()\n",
        "report = report.rename(index={'0': 'Joy','1':'Sadness','2':'Fear','3':'Anger','4':'Love','5':'Surprise'})\n",
        "report[['precision','recall','f1-score']]=report[['precision','recall','f1-score']].apply(lambda x: round(x*100,2))\n",
        "report"
      ],
      "execution_count": null,
      "outputs": [
        {
          "output_type": "execute_result",
          "data": {
            "text/html": [
              "<div>\n",
              "<style scoped>\n",
              "    .dataframe tbody tr th:only-of-type {\n",
              "        vertical-align: middle;\n",
              "    }\n",
              "\n",
              "    .dataframe tbody tr th {\n",
              "        vertical-align: top;\n",
              "    }\n",
              "\n",
              "    .dataframe thead th {\n",
              "        text-align: right;\n",
              "    }\n",
              "</style>\n",
              "<table border=\"1\" class=\"dataframe\">\n",
              "  <thead>\n",
              "    <tr style=\"text-align: right;\">\n",
              "      <th></th>\n",
              "      <th>precision</th>\n",
              "      <th>recall</th>\n",
              "      <th>f1-score</th>\n",
              "      <th>support</th>\n",
              "    </tr>\n",
              "  </thead>\n",
              "  <tbody>\n",
              "    <tr>\n",
              "      <th>Joy</th>\n",
              "      <td>63.36</td>\n",
              "      <td>60.14</td>\n",
              "      <td>61.71</td>\n",
              "      <td>138.000000</td>\n",
              "    </tr>\n",
              "    <tr>\n",
              "      <th>Sadness</th>\n",
              "      <td>64.91</td>\n",
              "      <td>57.81</td>\n",
              "      <td>61.16</td>\n",
              "      <td>128.000000</td>\n",
              "    </tr>\n",
              "    <tr>\n",
              "      <th>Fear</th>\n",
              "      <td>77.95</td>\n",
              "      <td>70.21</td>\n",
              "      <td>73.88</td>\n",
              "      <td>141.000000</td>\n",
              "    </tr>\n",
              "    <tr>\n",
              "      <th>Anger</th>\n",
              "      <td>59.73</td>\n",
              "      <td>64.49</td>\n",
              "      <td>62.02</td>\n",
              "      <td>138.000000</td>\n",
              "    </tr>\n",
              "    <tr>\n",
              "      <th>Love</th>\n",
              "      <td>70.63</td>\n",
              "      <td>74.79</td>\n",
              "      <td>72.65</td>\n",
              "      <td>119.000000</td>\n",
              "    </tr>\n",
              "    <tr>\n",
              "      <th>Surprise</th>\n",
              "      <td>57.33</td>\n",
              "      <td>74.14</td>\n",
              "      <td>64.66</td>\n",
              "      <td>58.000000</td>\n",
              "    </tr>\n",
              "    <tr>\n",
              "      <th>accuracy</th>\n",
              "      <td>66.07</td>\n",
              "      <td>66.07</td>\n",
              "      <td>66.07</td>\n",
              "      <td>0.660665</td>\n",
              "    </tr>\n",
              "    <tr>\n",
              "      <th>macro avg</th>\n",
              "      <td>65.65</td>\n",
              "      <td>66.93</td>\n",
              "      <td>66.01</td>\n",
              "      <td>722.000000</td>\n",
              "    </tr>\n",
              "    <tr>\n",
              "      <th>weighted avg</th>\n",
              "      <td>66.51</td>\n",
              "      <td>66.07</td>\n",
              "      <td>66.09</td>\n",
              "      <td>722.000000</td>\n",
              "    </tr>\n",
              "  </tbody>\n",
              "</table>\n",
              "</div>"
            ],
            "text/plain": [
              "              precision  recall  f1-score     support\n",
              "Joy               63.36   60.14     61.71  138.000000\n",
              "Sadness           64.91   57.81     61.16  128.000000\n",
              "Fear              77.95   70.21     73.88  141.000000\n",
              "Anger             59.73   64.49     62.02  138.000000\n",
              "Love              70.63   74.79     72.65  119.000000\n",
              "Surprise          57.33   74.14     64.66   58.000000\n",
              "accuracy          66.07   66.07     66.07    0.660665\n",
              "macro avg         65.65   66.93     66.01  722.000000\n",
              "weighted avg      66.51   66.07     66.09  722.000000"
            ]
          },
          "metadata": {
            "tags": []
          },
          "execution_count": 29
        }
      ]
    },
    {
      "cell_type": "code",
      "metadata": {
        "id": "gqlJOjHjUASB",
        "outputId": "e1391885-0445-49b0-ab35-e407cdc894dc",
        "colab": {
          "base_uri": "https://localhost:8080/",
          "height": 332
        }
      },
      "source": [
        "import matplotlib.pyplot as plt\n",
        "print(history.history.keys())\n",
        "# summarize history for accuracy\n",
        "plt.plot(history.history['accuracy'])\n",
        "plt.plot(history.history['val_accuracy'])\n",
        "plt.title('model accuracy')\n",
        "plt.ylabel('accuracy')\n",
        "plt.xlabel('epoch')\n",
        "plt.legend(['train', 'test'], loc='upper left')\n",
        "plt.show()"
      ],
      "execution_count": null,
      "outputs": [
        {
          "output_type": "stream",
          "text": [
            "dict_keys(['loss', 'accuracy', 'val_loss', 'val_accuracy'])\n"
          ],
          "name": "stdout"
        },
        {
          "output_type": "display_data",
          "data": {
            "image/png": "[encoded data removed]",
            "text/plain": [
              "<Figure size 432x288 with 1 Axes>"
            ]
          },
          "metadata": {
            "tags": []
          }
        }
      ]
    },
    {
      "cell_type": "code",
      "metadata": {
        "id": "bDyaT3XrUoZ9",
        "outputId": "5c98d59c-8a84-4393-f457-adae847288e4",
        "colab": {
          "base_uri": "https://localhost:8080/",
          "height": 315
        }
      },
      "source": [
        "# summarize history for loss\n",
        "plt.plot(history.history['loss'])\n",
        "plt.plot(history.history['val_loss'])\n",
        "plt.title('model loss')\n",
        "plt.ylabel('loss')\n",
        "plt.xlabel('epoch')\n",
        "plt.legend(['train', 'test'], loc='upper left')\n",
        "plt.show()"
      ],
      "execution_count": null,
      "outputs": [
        {
          "output_type": "display_data",
          "data": {
            "image/png": "[encoded data removed]",
            "text/plain": [
              "<Figure size 432x288 with 1 Axes>"
            ]
          },
          "metadata": {
            "tags": []
          }
        }
      ]
    },
    {
      "cell_type": "code",
      "metadata": {
        "id": "TgQmHNZ9U0tR",
        "outputId": "80c82f6b-bd11-4839-d95d-e3f415a5142f",
        "colab": {
          "base_uri": "https://localhost:8080/",
          "height": 34
        }
      },
      "source": [
        "# new_complaint = ['কাজীরাঙ্গা জাতীয় উদ্যানে আমি বাঘ দেখে ভয়ে দৌড়ে পালালাম ']\n",
        "# new_complaint = ['আমি প্রচুর অসুস্থ মানুষ রয়েছি তা শুনে আমি হতবাক ও দুঃখ বোধ করি']\n",
        "# new_complaint = ['ভাই হেসে তো পেটে খিল ধরে গেছে।অসাধারণ']\n",
        "# new_complaint = ['আজবতো প্রশ্ন হবে ফাঁস আর সাধারণ জনগণ খাবে বাঁশ? প্রশ্ন ফাঁস নিয়ে চরম একটি']\n",
        "# new_complaint = ['আমি বরং পচা বোধ করছি তাই এখনই খুব উচ্চাকাঙ্ক্ষী নই']\n",
        "# new_complaint = ['পুরাই অস্থির']\n",
        "# new_complaint = ['ভিডিওটা দিয়ে কি বুঝাতে চেয়েছে কেউ একটু বলবেন']\n",
        "# new_complaint = ['আমি এখনই খুব অসন্তুষ্ট বোধ করছি']\n",
        "new_complaint = ['আমি এমন কিছু সম্পর্কে উত্তেজিত বোধ করি যা কেবলমাত্র আমার পক্ষে এটির ভিডিও এখানে']\n",
        "\n",
        "seq = tokenizer.texts_to_sequences(new_complaint)\n",
        "padded = pad_sequences(seq, maxlen=max_length)\n",
        "pred = model.predict(padded)\n",
        "labels = ['Joy' ,'Sadness' ,'Fear', 'Anger', 'Love', 'Surprise']\n",
        "print(pred, labels[np.argmax(pred)])"
      ],
      "execution_count": null,
      "outputs": [
        {
          "output_type": "stream",
          "text": [
            "[[0.01162412 0.00508614 0.08827238 0.06343586 0.01941759 0.8121639 ]] Surprise\n"
          ],
          "name": "stdout"
        }
      ]
    },
    {
      "cell_type": "code",
      "metadata": {
        "id": "lzLYfR3e8ovT",
        "outputId": "7a855895-82a4-48e2-862f-2c698dc023f1",
        "colab": {
          "base_uri": "https://localhost:8080/",
          "height": 34
        }
      },
      "source": [
        "print(model)"
      ],
      "execution_count": null,
      "outputs": [
        {
          "output_type": "stream",
          "text": [
            "<tensorflow.python.keras.engine.sequential.Sequential object at 0x7f4fdb957e80>\n"
          ],
          "name": "stdout"
        }
      ]
    },
    {
      "cell_type": "code",
      "metadata": {
        "id": "faPQmcAPlHlS",
        "outputId": "954b9559-a635-4762-a5a2-7310955a570e",
        "colab": {
          "base_uri": "https://localhost:8080/",
          "height": 171
        }
      },
      "source": [
        "print(X_test[394])\n",
        "print(test_padded)"
      ],
      "execution_count": null,
      "outputs": [
        {
          "output_type": "stream",
          "text": [
            "আমি কেবল ফিরে ভাবছি এবং পুরোপুরি অবাক এবং কৃতজ্ঞতা বোধ করছি যে আমরা এমন এক সময়ে বাস করি যখন চার পরিবারের জন্য প্রয়োজন চারজন মানুষ হাজার মাইল দূরে থাকার পরেও একে অপরকে খুঁজে পেতে পারে\n",
            "[[   2   37  127 ...    0    0    0]\n",
            " [   2  123    4 ...    0    0    0]\n",
            " [   2  158  107 ...    0    0    0]\n",
            " ...\n",
            " [   2    5    1 ...    0    0    0]\n",
            " [   2  751 1533 ...    0    0    0]\n",
            " [   2   37  654 ...    0    0    0]]\n"
          ],
          "name": "stdout"
        }
      ]
    },
    {
      "cell_type": "code",
      "metadata": {
        "id": "VTE9KzcqoG2z",
        "outputId": "7425ce6f-bade-41a9-bcdf-5c534578c931",
        "colab": {
          "base_uri": "https://localhost:8080/",
          "height": 70
        }
      },
      "source": [
        "model = load_model(path+\"Model.h5\")\n",
        "# model = load_model(\"Model.h5\")\n",
        "predictions = model.predict(test_padded[354:364])\n",
        "y_pred = np.argmax(predictions, axis=1)\n",
        "print(y_pred)\n",
        "temp_y_pred = y_pred"
      ],
      "execution_count": null,
      "outputs": [
        {
          "output_type": "stream",
          "text": [
            "WARNING:tensorflow:9 out of the last 31 calls to <function Model.make_predict_function.<locals>.predict_function at 0x7f4f7b958ea0> triggered tf.function retracing. Tracing is expensive and the excessive number of tracings could be due to (1) creating @tf.function repeatedly in a loop, (2) passing tensors with different shapes, (3) passing Python objects instead of tensors. For (1), please define your @tf.function outside of the loop. For (2), @tf.function has experimental_relax_shapes=True option that relaxes argument shapes that can avoid unnecessary retracing. For (3), please refer to https://www.tensorflow.org/tutorials/customization/performance#python_or_tensor_args and https://www.tensorflow.org/api_docs/python/tf/function for  more details.\n",
            "[3 4 3 0 4 2 3 0 5 0]\n"
          ],
          "name": "stdout"
        }
      ]
    },
    {
      "cell_type": "code",
      "metadata": {
        "id": "7htuXO0DogCn",
        "outputId": "ce4d9129-74c0-412b-c4ec-19b4f740a402",
        "colab": {
          "base_uri": "https://localhost:8080/",
          "height": 34
        }
      },
      "source": [
        "print(testing_label_seq[354:364])\n",
        "temp_testing_label_seq = testing_label_seq[354:364]"
      ],
      "execution_count": null,
      "outputs": [
        {
          "output_type": "stream",
          "text": [
            "[1 4 1 0 4 2 0 0 5 0]\n"
          ],
          "name": "stdout"
        }
      ]
    },
    {
      "cell_type": "code",
      "metadata": {
        "id": "qGJ9ubDJokx2",
        "outputId": "7028c5d2-f5aa-4c4d-c22c-90dc6a6da7be",
        "colab": {
          "base_uri": "https://localhost:8080/",
          "height": 34
        }
      },
      "source": [
        "print(\"test data\", \" \", \"Predicted Label\", \"True Label\")\n",
        "index = ['Joy' ,'Sadness' ,'Fear', 'Anger', 'Love', 'Surprise']\n",
        "test_result = {\"test_sentence\": [], \"p_label\": [], \"T_label\": []}\n",
        "for i in X_test[354:364]:\n",
        "  test_result[\"test_sentence\"].append(i)\n",
        "for i in temp_y_pred:\n",
        "  test_result[\"p_label\"].append(index[i])\n",
        "for j in temp_testing_label_seq:\n",
        "  test_result[\"T_label\"].append(index[j])\n",
        "pd.DataFrame.from_dict(test_result).to_csv(path+\"bigru_test_result.csv\", index= False)"
      ],
      "execution_count": null,
      "outputs": [
        {
          "output_type": "stream",
          "text": [
            "test data   Predicted Label True Label\n"
          ],
          "name": "stdout"
        }
      ]
    },
    {
      "cell_type": "code",
      "metadata": {
        "id": "ZYrHpXSJpeXa",
        "outputId": "48b93a60-3315-4cf1-ed35-544f23ac32a3",
        "colab": {
          "base_uri": "https://localhost:8080/",
          "height": 54
        }
      },
      "source": [
        "print(test_result)"
      ],
      "execution_count": null,
      "outputs": [
        {
          "output_type": "stream",
          "text": [
            "{'test_sentence': ['আমি মারিয়ার চুম্বনের ভিডিওটি দেখেছি এবং আশ্চর্যরূপে আমার মনে হয় না যে আমি তাকে ঘৃণা করি', 'আমি মাঝে মাঝে উদার বোধ করি এবং পাখিদের এই সঞ্চয়গুলির কিছুটা খাওয়াই', 'আমি শীত পছন্দ করি তাই আমার খুশী হওয়া উচিত তবে আমি বিষণ্ন ও হতাশাবোধ করতে পারি না', 'আমি সাধারণ বিষয়টিতে আনন্দ সন্ধানের জন্য কাজ করার চেষ্টা করছি যে myশ্বর তাঁর প্রতি আমার আনুগত্যে আনন্দ পাচ্ছেন এমনকি যদিও আমি যেভাবে অভ্যস্ত হয়েছি তাতে সে খুব আনন্দ বোধ করে না', 'আমি এই ফ্ল্যাশব্যাক শুক্রবার এন্ট্রি সম্পর্কে কিছুটা উদাসীন অনুভূতি বোধ করছি কারণ আমি বুঝতে পারি যে আজ বিভিন্ন জিনিসগুলি কেমন', 'আমি মনে করি হঠাৎ কোনও ভাল জিনিস দেখে ভয় পেয়েছি এবং এটি এখনই নাশকতা করছে এবং আমি যদি তাকে স্থান দান করি তবে জাহান্নাম ফিরে আসবে তবে আমার মনে হয় হিঙ্কার এত জায়গা ছিল এবং এখনও তার যথেষ্ট মনে হচ্ছে না', 'আমি বোধ করি আমি আমার বুদ্ধি থেকে আমার প্রবৃত্তির উপর নির্ভর করতে পারি তবে আমার অনুভূতি যেমন হওয়া উচিত ততই আগ্রহী কিনা তা নিয়ে সন্দেহ শুরু করছি', 'আমি তাত্ক্ষণিকভাবে গ্ল্যামারাস বোধ করি কেবল এটি আমার হ্যান্ডব্যাগ থেকে টেনে নিয়েছি এবং সকলের জন্য দেখার জন্য এটি ছড়িয়ে দিচ্ছি', 'আমার মনে হয় আমি যখন স্ক্যাড ছেড়ে চলে গেলাম অবশেষে আমার নিজের মধ্যে এসে লোককে মুগ্ধ করে এমন কাজ করছিল', 'আমি মনে করি যে মোমযুক্ত চাঁদের জন্য আমি এটি করতে সফল হয়েছি এটি লুকানো সূর্যের চেয়ে কিছুটা আলাদা'], 'p_label': ['Anger', 'Love', 'Anger', 'Joy', 'Love', 'Fear', 'Anger', 'Joy', 'Surprise', 'Joy'], 'T_label': ['Sadness', 'Love', 'Sadness', 'Joy', 'Love', 'Fear', 'Joy', 'Joy', 'Surprise', 'Joy']}\n"
          ],
          "name": "stdout"
        }
      ]
    },
    {
      "cell_type": "code",
      "metadata": {
        "id": "kh_HKmPIta8y"
      },
      "source": [
        "temp_x_test = ['আমি তার মৃত্যু দেখে মন খারাপ করেছিলাম',\n",
        "               'আমি পরীক্ষায় ফেল করার পরে মন খারাপ করেছিলাম',\n",
        "               'আমি বাঘ দেখে ভয় পেয়েছি',\n",
        "               'আমি তার কাজ দেখে অবাক হয়েছি',\n",
        "               'মানবতার কাজে নিয়োজিত ব্যাক্তিদের আমি মন থেকে ভালবাসি',\n",
        "               'আমি তোমায় ভালোবাসি',\n",
        "               'চিড়িয়াখানায় গিয়ে আমি খুশি হয়েছিলাম',\n",
        "               'আমি এই মুহুর্তে নিরাপত্তাহীন বোধ করছি',\n",
        "               'সে জোরে হাসছিল কার্টুনটি দেখে',\n",
        "               'আমি আজ একটু স্বাচ্ছন্দ্য বোধ করছি',\n",
        "               'করোনায় পরিস্থিতিতে মানুষের আকস্মিক  দুদর্শা দেখে আমি বেশ ব্যথিত',\n",
        "               'আমি সাপ দেখে ভয় পেয়েছি',\n",
        "               'আমি তার খারাপ ব্যবহারের জন্য রেগে গেছি',\n",
        "               'মেসির ফ্রিকিক গোল দেখে আমি অবাক হয়ে গেলাম',\n",
        "               'মীরের অভিনয়ে দেখে আমি প্রায়শই আট্ট হাসি দেই',\n",
        "               'আমি তোমায় দেখে মুগ্ধ হয়েছি']\n",
        "temp_testing_label_seq = [1, 1, 2, 5, 4, 4, 0, 2, 0, 0, 1, 2, 3, 5, 0,5]"
      ],
      "execution_count": null,
      "outputs": []
    },
    {
      "cell_type": "code",
      "metadata": {
        "id": "delBpR3Wvwru"
      },
      "source": [
        "# Test Data Tokenization\n",
        "temp_test_sequences = tokenizer.texts_to_sequences(temp_x_test)\n",
        "temp_test_padded = pad_sequences(temp_test_sequences, padding=padding_type , maxlen=59)\n",
        "# temp_padded_headlines(X_test[444],temp_test_sequences[100],test_padded[100])"
      ],
      "execution_count": null,
      "outputs": []
    },
    {
      "cell_type": "code",
      "metadata": {
        "id": "-aozDM2gwC7G"
      },
      "source": [
        "model = load_model(path+\"Model.h5\")\n",
        "# model = load_model(\"Model.h5\")\n",
        "predictions = model.predict(temp_test_padded)\n",
        "temp_y_pred = np.argmax(predictions, axis=1)"
      ],
      "execution_count": null,
      "outputs": []
    },
    {
      "cell_type": "code",
      "metadata": {
        "id": "kWguT-AOwkC5",
        "outputId": "a426e768-c9bc-4984-97e9-8f8f0de2ae2a",
        "colab": {
          "base_uri": "https://localhost:8080/"
        }
      },
      "source": [
        "index = ['Joy' ,'Sadness' ,'Fear', 'Anger', 'Love', 'Surprise']\n",
        "test_result = {\"test_sentence\": [], \"p_label\": [], \"T_label\": []}\n",
        "error = 0\n",
        "for i in temp_x_test:\n",
        "  test_result[\"test_sentence\"].append(i)\n",
        "# for i in temp_y_pred:\n",
        "#   test_result[\"p_label\"].append(index[i])\n",
        "# for j in temp_testing_label_seq:\n",
        "#   test_result[\"T_label\"].append(index[j])\n",
        "for i in range(len(temp_y_pred)):\n",
        "  if temp_y_pred[i] != temp_testing_label_seq[i]:\n",
        "    test_result[\"T_label\"].append(str(index[temp_testing_label_seq[i]])+\" \"+str(error))\n",
        "    test_result[\"p_label\"].append(str(index[temp_y_pred[i]]) + \" \"+str(error))\n",
        "    error += 1\n",
        "  else:\n",
        "    test_result[\"T_label\"].append(index[temp_testing_label_seq[i]])\n",
        "    test_result[\"p_label\"].append(index[temp_y_pred[i]])\n",
        "df = pd.DataFrame.from_dict(test_result)\n",
        "print(df)\n",
        "print(error)\n",
        "df.to_csv(path+\"lstm_test_result.csv\", index= False)"
      ],
      "execution_count": null,
      "outputs": [
        {
          "output_type": "stream",
          "text": [
            "                                        test_sentence     p_label    T_label\n",
            "0               আমি তার মৃত্যু দেখে মন খারাপ করেছিলাম     Anger 0  Sadness 0\n",
            "1        আমি পরীক্ষায় ফেল করার পরে মন খারাপ করেছিলাম     Anger 1  Sadness 1\n",
            "2                            আমি বাঘ দেখে ভয় পেয়েছি        Fear       Fear\n",
            "3                        আমি তার কাজ দেখে অবাক হয়েছি    Surprise   Surprise\n",
            "4   মানবতার কাজে নিয়োজিত ব্যাক্তিদের আমি মন থেকে ভ...        Love       Love\n",
            "5                                 আমি তোমায় ভালোবাসি        Love       Love\n",
            "6             চিড়িয়াখানায় গিয়ে আমি খুশি হয়েছিলাম         Joy        Joy\n",
            "7               আমি এই মুহুর্তে নিরাপত্তাহীন বোধ করছি        Fear       Fear\n",
            "8                       সে জোরে হাসছিল কার্টুনটি দেখে  Surprise 2      Joy 2\n",
            "9                   আমি আজ একটু স্বাচ্ছন্দ্য বোধ করছি         Joy        Joy\n",
            "10  করোনায় পরিস্থিতিতে মানুষের আকস্মিক  দুদর্শা দে...      Fear 3  Sadness 3\n",
            "11                           আমি সাপ দেখে ভয় পেয়েছি        Fear       Fear\n",
            "12             আমি তার খারাপ ব্যবহারের জন্য রেগে গেছি       Anger      Anger\n",
            "13         মেসির ফ্রিকিক গোল দেখে আমি অবাক হয়ে গেলাম    Surprise   Surprise\n",
            "14        মীরের অভিনয়ে দেখে আমি প্রায়শই আট্ট হাসি দেই  Surprise 4      Joy 4\n",
            "15                         আমি তোমায় দেখে মুগ্ধ হয়েছি    Surprise   Surprise\n",
            "5\n"
          ],
          "name": "stdout"
        }
      ]
    },
    {
      "cell_type": "code",
      "metadata": {
        "id": "UUBfjFT-xFES",
        "outputId": "80bcb17e-6367-46ee-e60e-a7e7594e19dc",
        "colab": {
          "base_uri": "https://localhost:8080/"
        }
      },
      "source": [
        "f1_score(temp_testing_label_seq, temp_y_pred, average='macro')"
      ],
      "execution_count": null,
      "outputs": [
        {
          "output_type": "execute_result",
          "data": {
            "text/plain": [
              "0.628968253968254"
            ]
          },
          "metadata": {
            "tags": []
          },
          "execution_count": 34
        }
      ]
    },
    {
      "cell_type": "code",
      "metadata": {
        "id": "8HkkzT0Ww3aS",
        "outputId": "a003f127-7ea9-49a3-e51f-6366234978c1",
        "colab": {
          "base_uri": "https://localhost:8080/"
        }
      },
      "source": [
        "f1_score(temp_testing_label_seq, temp_y_pred, average='weighted')"
      ],
      "execution_count": null,
      "outputs": [
        {
          "output_type": "execute_result",
          "data": {
            "text/plain": [
              "0.6242559523809523"
            ]
          },
          "metadata": {
            "tags": []
          },
          "execution_count": 35
        }
      ]
    },
    {
      "cell_type": "code",
      "metadata": {
        "id": "XSd3M2fH5SRy",
        "outputId": "314d40fa-6ecb-4f12-af70-d15d7f29f84e",
        "colab": {
          "base_uri": "https://localhost:8080/"
        }
      },
      "source": [
        "f1_score(temp_testing_label_seq, temp_y_pred, average=None)"
      ],
      "execution_count": null,
      "outputs": [
        {
          "output_type": "execute_result",
          "data": {
            "text/plain": [
              "array([0.66666667, 0.        , 0.85714286, 0.5       , 1.        ,\n",
              "       0.75      ])"
            ]
          },
          "metadata": {
            "tags": []
          },
          "execution_count": 36
        }
      ]
    },
    {
      "cell_type": "code",
      "metadata": {
        "id": "dS9wQXkE5d7J"
      },
      "source": [],
      "execution_count": null,
      "outputs": []
    }
  ]
}